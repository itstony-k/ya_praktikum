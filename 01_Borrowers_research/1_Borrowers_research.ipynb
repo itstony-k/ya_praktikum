{
 "cells": [
  {
   "cell_type": "markdown",
   "metadata": {},
   "source": [
    "## Исследование надёжности заёмщиков\n",
    "\n",
    "Заказчик — кредитный отдел банка. Нужно разобраться, влияет ли семейное положение и количество детей клиента на факт погашения кредита в срок. Входные данные от банка — статистика о платёжеспособности клиентов.\n",
    "\n",
    "Результаты исследования будут учтены при построении модели **кредитного скоринга** — специальной системы, которая оценивает способность потенциального заёмщика вернуть кредит банку."
   ]
  },
  {
   "cell_type": "markdown",
   "metadata": {},
   "source": [
    "### Шаг 1. Откройте файл с данными и изучите общую информацию. "
   ]
  },
  {
   "cell_type": "code",
   "execution_count": 1,
   "metadata": {},
   "outputs": [
    {
     "name": "stdout",
     "output_type": "stream",
     "text": [
      "Общая информация о данных:\n",
      "\n",
      "<class 'pandas.core.frame.DataFrame'>\n",
      "RangeIndex: 21525 entries, 0 to 21524\n",
      "Data columns (total 12 columns):\n",
      " #   Column            Non-Null Count  Dtype  \n",
      "---  ------            --------------  -----  \n",
      " 0   children          21525 non-null  int64  \n",
      " 1   days_employed     19351 non-null  float64\n",
      " 2   dob_years         21525 non-null  int64  \n",
      " 3   education         21525 non-null  object \n",
      " 4   education_id      21525 non-null  int64  \n",
      " 5   family_status     21525 non-null  object \n",
      " 6   family_status_id  21525 non-null  int64  \n",
      " 7   gender            21525 non-null  object \n",
      " 8   income_type       21525 non-null  object \n",
      " 9   debt              21525 non-null  int64  \n",
      " 10  total_income      19351 non-null  float64\n",
      " 11  purpose           21525 non-null  object \n",
      "dtypes: float64(2), int64(5), object(5)\n",
      "memory usage: 2.0+ MB\n",
      "\n",
      "Первые 10 строк данных:\n"
     ]
    },
    {
     "data": {
      "text/html": [
       "<div>\n",
       "<style scoped>\n",
       "    .dataframe tbody tr th:only-of-type {\n",
       "        vertical-align: middle;\n",
       "    }\n",
       "\n",
       "    .dataframe tbody tr th {\n",
       "        vertical-align: top;\n",
       "    }\n",
       "\n",
       "    .dataframe thead th {\n",
       "        text-align: right;\n",
       "    }\n",
       "</style>\n",
       "<table border=\"1\" class=\"dataframe\">\n",
       "  <thead>\n",
       "    <tr style=\"text-align: right;\">\n",
       "      <th></th>\n",
       "      <th>children</th>\n",
       "      <th>days_employed</th>\n",
       "      <th>dob_years</th>\n",
       "      <th>education</th>\n",
       "      <th>education_id</th>\n",
       "      <th>family_status</th>\n",
       "      <th>family_status_id</th>\n",
       "      <th>gender</th>\n",
       "      <th>income_type</th>\n",
       "      <th>debt</th>\n",
       "      <th>total_income</th>\n",
       "      <th>purpose</th>\n",
       "    </tr>\n",
       "  </thead>\n",
       "  <tbody>\n",
       "    <tr>\n",
       "      <th>0</th>\n",
       "      <td>1</td>\n",
       "      <td>-8437.673028</td>\n",
       "      <td>42</td>\n",
       "      <td>высшее</td>\n",
       "      <td>0</td>\n",
       "      <td>женат / замужем</td>\n",
       "      <td>0</td>\n",
       "      <td>F</td>\n",
       "      <td>сотрудник</td>\n",
       "      <td>0</td>\n",
       "      <td>253875.639453</td>\n",
       "      <td>покупка жилья</td>\n",
       "    </tr>\n",
       "    <tr>\n",
       "      <th>1</th>\n",
       "      <td>1</td>\n",
       "      <td>-4024.803754</td>\n",
       "      <td>36</td>\n",
       "      <td>среднее</td>\n",
       "      <td>1</td>\n",
       "      <td>женат / замужем</td>\n",
       "      <td>0</td>\n",
       "      <td>F</td>\n",
       "      <td>сотрудник</td>\n",
       "      <td>0</td>\n",
       "      <td>112080.014102</td>\n",
       "      <td>приобретение автомобиля</td>\n",
       "    </tr>\n",
       "    <tr>\n",
       "      <th>2</th>\n",
       "      <td>0</td>\n",
       "      <td>-5623.422610</td>\n",
       "      <td>33</td>\n",
       "      <td>Среднее</td>\n",
       "      <td>1</td>\n",
       "      <td>женат / замужем</td>\n",
       "      <td>0</td>\n",
       "      <td>M</td>\n",
       "      <td>сотрудник</td>\n",
       "      <td>0</td>\n",
       "      <td>145885.952297</td>\n",
       "      <td>покупка жилья</td>\n",
       "    </tr>\n",
       "    <tr>\n",
       "      <th>3</th>\n",
       "      <td>3</td>\n",
       "      <td>-4124.747207</td>\n",
       "      <td>32</td>\n",
       "      <td>среднее</td>\n",
       "      <td>1</td>\n",
       "      <td>женат / замужем</td>\n",
       "      <td>0</td>\n",
       "      <td>M</td>\n",
       "      <td>сотрудник</td>\n",
       "      <td>0</td>\n",
       "      <td>267628.550329</td>\n",
       "      <td>дополнительное образование</td>\n",
       "    </tr>\n",
       "    <tr>\n",
       "      <th>4</th>\n",
       "      <td>0</td>\n",
       "      <td>340266.072047</td>\n",
       "      <td>53</td>\n",
       "      <td>среднее</td>\n",
       "      <td>1</td>\n",
       "      <td>гражданский брак</td>\n",
       "      <td>1</td>\n",
       "      <td>F</td>\n",
       "      <td>пенсионер</td>\n",
       "      <td>0</td>\n",
       "      <td>158616.077870</td>\n",
       "      <td>сыграть свадьбу</td>\n",
       "    </tr>\n",
       "    <tr>\n",
       "      <th>5</th>\n",
       "      <td>0</td>\n",
       "      <td>-926.185831</td>\n",
       "      <td>27</td>\n",
       "      <td>высшее</td>\n",
       "      <td>0</td>\n",
       "      <td>гражданский брак</td>\n",
       "      <td>1</td>\n",
       "      <td>M</td>\n",
       "      <td>компаньон</td>\n",
       "      <td>0</td>\n",
       "      <td>255763.565419</td>\n",
       "      <td>покупка жилья</td>\n",
       "    </tr>\n",
       "    <tr>\n",
       "      <th>6</th>\n",
       "      <td>0</td>\n",
       "      <td>-2879.202052</td>\n",
       "      <td>43</td>\n",
       "      <td>высшее</td>\n",
       "      <td>0</td>\n",
       "      <td>женат / замужем</td>\n",
       "      <td>0</td>\n",
       "      <td>F</td>\n",
       "      <td>компаньон</td>\n",
       "      <td>0</td>\n",
       "      <td>240525.971920</td>\n",
       "      <td>операции с жильем</td>\n",
       "    </tr>\n",
       "    <tr>\n",
       "      <th>7</th>\n",
       "      <td>0</td>\n",
       "      <td>-152.779569</td>\n",
       "      <td>50</td>\n",
       "      <td>СРЕДНЕЕ</td>\n",
       "      <td>1</td>\n",
       "      <td>женат / замужем</td>\n",
       "      <td>0</td>\n",
       "      <td>M</td>\n",
       "      <td>сотрудник</td>\n",
       "      <td>0</td>\n",
       "      <td>135823.934197</td>\n",
       "      <td>образование</td>\n",
       "    </tr>\n",
       "    <tr>\n",
       "      <th>8</th>\n",
       "      <td>2</td>\n",
       "      <td>-6929.865299</td>\n",
       "      <td>35</td>\n",
       "      <td>ВЫСШЕЕ</td>\n",
       "      <td>0</td>\n",
       "      <td>гражданский брак</td>\n",
       "      <td>1</td>\n",
       "      <td>F</td>\n",
       "      <td>сотрудник</td>\n",
       "      <td>0</td>\n",
       "      <td>95856.832424</td>\n",
       "      <td>на проведение свадьбы</td>\n",
       "    </tr>\n",
       "    <tr>\n",
       "      <th>9</th>\n",
       "      <td>0</td>\n",
       "      <td>-2188.756445</td>\n",
       "      <td>41</td>\n",
       "      <td>среднее</td>\n",
       "      <td>1</td>\n",
       "      <td>женат / замужем</td>\n",
       "      <td>0</td>\n",
       "      <td>M</td>\n",
       "      <td>сотрудник</td>\n",
       "      <td>0</td>\n",
       "      <td>144425.938277</td>\n",
       "      <td>покупка жилья для семьи</td>\n",
       "    </tr>\n",
       "  </tbody>\n",
       "</table>\n",
       "</div>"
      ],
      "text/plain": [
       "   children  days_employed  dob_years education  education_id  \\\n",
       "0         1   -8437.673028         42    высшее             0   \n",
       "1         1   -4024.803754         36   среднее             1   \n",
       "2         0   -5623.422610         33   Среднее             1   \n",
       "3         3   -4124.747207         32   среднее             1   \n",
       "4         0  340266.072047         53   среднее             1   \n",
       "5         0    -926.185831         27    высшее             0   \n",
       "6         0   -2879.202052         43    высшее             0   \n",
       "7         0    -152.779569         50   СРЕДНЕЕ             1   \n",
       "8         2   -6929.865299         35    ВЫСШЕЕ             0   \n",
       "9         0   -2188.756445         41   среднее             1   \n",
       "\n",
       "      family_status  family_status_id gender income_type  debt   total_income  \\\n",
       "0   женат / замужем                 0      F   сотрудник     0  253875.639453   \n",
       "1   женат / замужем                 0      F   сотрудник     0  112080.014102   \n",
       "2   женат / замужем                 0      M   сотрудник     0  145885.952297   \n",
       "3   женат / замужем                 0      M   сотрудник     0  267628.550329   \n",
       "4  гражданский брак                 1      F   пенсионер     0  158616.077870   \n",
       "5  гражданский брак                 1      M   компаньон     0  255763.565419   \n",
       "6   женат / замужем                 0      F   компаньон     0  240525.971920   \n",
       "7   женат / замужем                 0      M   сотрудник     0  135823.934197   \n",
       "8  гражданский брак                 1      F   сотрудник     0   95856.832424   \n",
       "9   женат / замужем                 0      M   сотрудник     0  144425.938277   \n",
       "\n",
       "                      purpose  \n",
       "0               покупка жилья  \n",
       "1     приобретение автомобиля  \n",
       "2               покупка жилья  \n",
       "3  дополнительное образование  \n",
       "4             сыграть свадьбу  \n",
       "5               покупка жилья  \n",
       "6           операции с жильем  \n",
       "7                 образование  \n",
       "8       на проведение свадьбы  \n",
       "9     покупка жилья для семьи  "
      ]
     },
     "execution_count": 1,
     "metadata": {},
     "output_type": "execute_result"
    }
   ],
   "source": [
    "import pandas as pd #импортируем pandas\n",
    "paying_capacity = pd.read_csv('datasets/data.csv')\n",
    "print('Общая информация о данных:')\n",
    "print()\n",
    "paying_capacity.info()  #получаем общую информацию о данных\n",
    "print()\n",
    "print('Первые 10 строк данных:')\n",
    "paying_capacity.head(10)"
   ]
  },
  {
   "cell_type": "markdown",
   "metadata": {},
   "source": [
    "### Вывод"
   ]
  },
  {
   "cell_type": "markdown",
   "metadata": {},
   "source": [
    "Полученные данные имеют отрицательные значения в столбце трудового стажа, также значения разного порядка. Возможно, в отдельных случаях стаж указан в часах (наблюдается у пенсионеров). Также имеются артефакты в графе образования - значения указаны в разных регистрах. Цели кредита сформулированы по разному, и для анализа потребуется создание словаря. Исходя из общей информации о полученных данных, в столбцах стажа работы и полученного дохода имеются пропущенные значения."
   ]
  },
  {
   "cell_type": "markdown",
   "metadata": {},
   "source": [
    "### Шаг 2. Предобработка данных"
   ]
  },
  {
   "cell_type": "markdown",
   "metadata": {},
   "source": [
    "### Обработка пропусков"
   ]
  },
  {
   "cell_type": "code",
   "execution_count": 2,
   "metadata": {
    "scrolled": true
   },
   "outputs": [
    {
     "name": "stdout",
     "output_type": "stream",
     "text": [
      "Общая информация о данных:\n",
      "\n",
      "<class 'pandas.core.frame.DataFrame'>\n",
      "RangeIndex: 21525 entries, 0 to 21524\n",
      "Data columns (total 12 columns):\n",
      " #   Column            Non-Null Count  Dtype  \n",
      "---  ------            --------------  -----  \n",
      " 0   children          21525 non-null  int64  \n",
      " 1   days_employed     21525 non-null  float64\n",
      " 2   dob_years         21525 non-null  int64  \n",
      " 3   education         21525 non-null  object \n",
      " 4   education_id      21525 non-null  int64  \n",
      " 5   family_status     21525 non-null  object \n",
      " 6   family_status_id  21525 non-null  int64  \n",
      " 7   gender            21525 non-null  object \n",
      " 8   income_type       21525 non-null  object \n",
      " 9   debt              21525 non-null  int64  \n",
      " 10  total_income      21525 non-null  float64\n",
      " 11  purpose           21525 non-null  object \n",
      "dtypes: float64(2), int64(5), object(5)\n",
      "memory usage: 2.0+ MB\n",
      "None\n"
     ]
    }
   ],
   "source": [
    "def change_nan_to_median(data, income_type, searching_column, type_massive): #создадим функцию для замены NaN\n",
    "                                                #на медианные значения по профессиям, в необходимых столбцах\n",
    "    for type_name in type_massive:\n",
    "        rule1 = data[income_type] == type_name  #задаем правило фильтрации по профессиям\n",
    "        median_search = data.loc[rule1, searching_column].median()  #ищем медианное значение\n",
    "        data.loc[rule1, searching_column] = data.loc[rule1, searching_column].fillna(value = median_search)  #заполняем\n",
    "                                                                                                    #пропущенные значения\n",
    "\n",
    "type_massive = paying_capacity['income_type'].unique()   #создаем список профессий\n",
    "\n",
    "change_nan_to_median(paying_capacity, 'income_type', 'days_employed', type_massive) #применяем функцию change_nan_to_median\n",
    "                                                           #для замены пропущенных значений в столбце общего трудового стажа\n",
    "change_nan_to_median(paying_capacity, 'income_type', 'total_income', type_massive)  #применяем функцию change_nan_to_median\n",
    "                                                           #для замены пропущенных значений в столбце общего дохода\n",
    "print('Общая информация о данных:')\n",
    "print()\n",
    "print(paying_capacity.info())"
   ]
  },
  {
   "cell_type": "markdown",
   "metadata": {},
   "source": [
    "### Вывод"
   ]
  },
  {
   "cell_type": "markdown",
   "metadata": {},
   "source": [
    "Были пропущены даные в столбцах с трудовым стажем и ежемесячным доходом. Причем пропущенны данные были также и у работающих людей, поэтому можно предположить, что по какой-то причине при выгрузке данные были пропущены. Чтобы заполнить пропущенные данные, были найдены медианные значения трудового стажа для каждой группы профессий."
   ]
  },
  {
   "cell_type": "markdown",
   "metadata": {},
   "source": [
    "### Устранение несоответствий в данных"
   ]
  },
  {
   "cell_type": "code",
   "execution_count": 3,
   "metadata": {},
   "outputs": [
    {
     "name": "stdout",
     "output_type": "stream",
     "text": [
      "Категории людей с положительным трудовым стажем:\n",
      "['пенсионер' 'безработный']\n",
      "\n",
      "Безработные с положительным трудовым стажем:\n"
     ]
    },
    {
     "data": {
      "text/html": [
       "<div>\n",
       "<style scoped>\n",
       "    .dataframe tbody tr th:only-of-type {\n",
       "        vertical-align: middle;\n",
       "    }\n",
       "\n",
       "    .dataframe tbody tr th {\n",
       "        vertical-align: top;\n",
       "    }\n",
       "\n",
       "    .dataframe thead th {\n",
       "        text-align: right;\n",
       "    }\n",
       "</style>\n",
       "<table border=\"1\" class=\"dataframe\">\n",
       "  <thead>\n",
       "    <tr style=\"text-align: right;\">\n",
       "      <th></th>\n",
       "      <th>children</th>\n",
       "      <th>days_employed</th>\n",
       "      <th>dob_years</th>\n",
       "      <th>education</th>\n",
       "      <th>education_id</th>\n",
       "      <th>family_status</th>\n",
       "      <th>family_status_id</th>\n",
       "      <th>gender</th>\n",
       "      <th>income_type</th>\n",
       "      <th>debt</th>\n",
       "      <th>total_income</th>\n",
       "      <th>purpose</th>\n",
       "    </tr>\n",
       "  </thead>\n",
       "  <tbody>\n",
       "    <tr>\n",
       "      <th>3133</th>\n",
       "      <td>1</td>\n",
       "      <td>337524.466835</td>\n",
       "      <td>31</td>\n",
       "      <td>среднее</td>\n",
       "      <td>1</td>\n",
       "      <td>женат / замужем</td>\n",
       "      <td>0</td>\n",
       "      <td>M</td>\n",
       "      <td>безработный</td>\n",
       "      <td>1</td>\n",
       "      <td>59956.991984</td>\n",
       "      <td>покупка жилья для сдачи</td>\n",
       "    </tr>\n",
       "    <tr>\n",
       "      <th>14798</th>\n",
       "      <td>0</td>\n",
       "      <td>395302.838654</td>\n",
       "      <td>45</td>\n",
       "      <td>Высшее</td>\n",
       "      <td>0</td>\n",
       "      <td>гражданский брак</td>\n",
       "      <td>1</td>\n",
       "      <td>F</td>\n",
       "      <td>безработный</td>\n",
       "      <td>0</td>\n",
       "      <td>202722.511368</td>\n",
       "      <td>ремонт жилью</td>\n",
       "    </tr>\n",
       "  </tbody>\n",
       "</table>\n",
       "</div>"
      ],
      "text/plain": [
       "       children  days_employed  dob_years education  education_id  \\\n",
       "3133          1  337524.466835         31   среднее             1   \n",
       "14798         0  395302.838654         45    Высшее             0   \n",
       "\n",
       "          family_status  family_status_id gender  income_type  debt  \\\n",
       "3133    женат / замужем                 0      M  безработный     1   \n",
       "14798  гражданский брак                 1      F  безработный     0   \n",
       "\n",
       "        total_income                  purpose  \n",
       "3133    59956.991984  покупка жилья для сдачи  \n",
       "14798  202722.511368             ремонт жилью  "
      ]
     },
     "execution_count": 3,
     "metadata": {},
     "output_type": "execute_result"
    }
   ],
   "source": [
    "print('Категории людей с положительным трудовым стажем:')\n",
    "print(paying_capacity[paying_capacity['days_employed'] > 0]['income_type'].unique()) #проверяем, у кого есть положительный\n",
    "                                                                                     #трудовой стаж\n",
    "print()\n",
    "print('Безработные с положительным трудовым стажем:')\n",
    "paying_capacity[(paying_capacity['days_employed'] > 0) & (paying_capacity['income_type'] == 'безработный')] #проверяем, есть\n",
    "                                                          #ли ошибки в указанных данных у безработных с положительным стажем"
   ]
  },
  {
   "cell_type": "markdown",
   "metadata": {},
   "source": [
    "Примем , что все значения больше 0 скопировались неверно и переконвертировались из дней в часы. Очевидно, что у безработных есть несоответствие в и возрасте и количестве дней трудового стажа. Т.к. строчек с такой аномалией всего 2 на весь датасет - можно их удалить."
   ]
  },
  {
   "cell_type": "code",
   "execution_count": 4,
   "metadata": {},
   "outputs": [],
   "source": [
    "paying_capacity = paying_capacity.where(paying_capacity['income_type'] != 'безработный').dropna().reset_index(drop=True)\n",
    "#удаляем все значения \"безработный\""
   ]
  },
  {
   "cell_type": "markdown",
   "metadata": {},
   "source": [
    "Проверим на нулевые значения возраста клиента в годах"
   ]
  },
  {
   "cell_type": "code",
   "execution_count": 5,
   "metadata": {},
   "outputs": [
    {
     "name": "stdout",
     "output_type": "stream",
     "text": [
      "Количество строк с нулевым значением возраста: 101\n"
     ]
    }
   ],
   "source": [
    "print('Количество строк с нулевым значением возраста:', end=' ')\n",
    "print(paying_capacity[paying_capacity['dob_years'] == 0]['dob_years'].count())  #выводим количество строк с нулевым\n",
    "                                                                                #значением возраста"
   ]
  },
  {
   "cell_type": "markdown",
   "metadata": {},
   "source": [
    "Так как количество нулевых значений возраста клиента незначительно, можно удалить эти аномалии."
   ]
  },
  {
   "cell_type": "code",
   "execution_count": 6,
   "metadata": {},
   "outputs": [],
   "source": [
    "paying_capacity = paying_capacity.where(paying_capacity['dob_years'] != 0).dropna().reset_index(drop=True)"
   ]
  },
  {
   "cell_type": "markdown",
   "metadata": {},
   "source": [
    "Проверим, правильны ли данные по трудовому стажу отноительно возраста заявителя. Согласно Трудовому Кодексу РФ, работать разрешено с 16 лет, соответственно данные заявителей, чей возраст начала работы менее 16 лет, являются аномалией. Такая аномалия, возможна из-за неправильно посчитанного трудового стажа."
   ]
  },
  {
   "cell_type": "code",
   "execution_count": 7,
   "metadata": {},
   "outputs": [
    {
     "name": "stdout",
     "output_type": "stream",
     "text": [
      "Количество людей, у которых стаж работы идет с возраста меньше 16 лет: 1529\n"
     ]
    }
   ],
   "source": [
    "#проверяем соответствие возраста общему трудовому стажу\n",
    "#принимаем, что работать разрешено с 16 лет (согласно ТК РФ)\n",
    "rule2 = paying_capacity['days_employed'] > 0 #правило для поиска значений больше 0\n",
    "paying_capacity.loc[rule2, 'days_employed'] = paying_capacity.loc[rule2, 'days_employed'] / 24 #преобразуем часы в дни\n",
    "paying_capacity['days_employed'] = paying_capacity['days_employed'].abs()\n",
    "paying_capacity['age_check'] = paying_capacity['dob_years'] - (paying_capacity['days_employed'] / 365.25)\n",
    "\n",
    "print('Количество людей, у которых стаж работы идет с возраста меньше 16 лет:', end=' ')\n",
    "print(paying_capacity[(paying_capacity['age_check'] < 16)]['age_check'].count())"
   ]
  },
  {
   "cell_type": "markdown",
   "metadata": {},
   "source": [
    "Всего аномалия с возрастом начала трудового стажа наблюдается у значительного количества клиентов. Уменьшим их рабочий стаж, чтобы он удовлетворял минимально разрешенным требованиям по возрасту."
   ]
  },
  {
   "cell_type": "code",
   "execution_count": 8,
   "metadata": {},
   "outputs": [],
   "source": [
    "rule3 = paying_capacity['age_check'] < 16  #задаем правило для индексации\n",
    "check_days_employed_value = (16.01 - paying_capacity.loc[rule3, 'age_check']) * 365.25  #величина, на которую будем\n",
    "                                                                                    #корректировать значение days_employed\n",
    "paying_capacity.loc[rule3, 'days_employed'] = paying_capacity.loc[rule3, 'days_employed'] - check_days_employed_value   \n",
    "                                                            #производим корректировку аномальных значений days_employed\n",
    "paying_capacity = paying_capacity.loc[:, 'children': 'purpose'] #удаляем столбец age_check"
   ]
  },
  {
   "cell_type": "markdown",
   "metadata": {},
   "source": [
    "Проверим на аномалии значение пола"
   ]
  },
  {
   "cell_type": "code",
   "execution_count": 9,
   "metadata": {},
   "outputs": [
    {
     "name": "stdout",
     "output_type": "stream",
     "text": [
      "Уникальные значения столбца gender:\n",
      "F      14163\n",
      "M       7258\n",
      "XNA        1\n",
      "Name: gender, dtype: int64\n"
     ]
    }
   ],
   "source": [
    "print('Уникальные значения столбца gender:')\n",
    "print(paying_capacity['gender'].value_counts()) #считаем уникальные значения столбца gender"
   ]
  },
  {
   "cell_type": "markdown",
   "metadata": {},
   "source": [
    "Удаляем аномалии"
   ]
  },
  {
   "cell_type": "code",
   "execution_count": 10,
   "metadata": {},
   "outputs": [],
   "source": [
    "paying_capacity = paying_capacity.where(paying_capacity['gender'] != 'XNA').dropna().reset_index(drop=True)\n",
    "#удаляем строку со значением пола \"XNA\""
   ]
  },
  {
   "cell_type": "markdown",
   "metadata": {},
   "source": [
    "Проверим на аномалии количество детей."
   ]
  },
  {
   "cell_type": "code",
   "execution_count": 11,
   "metadata": {},
   "outputs": [
    {
     "data": {
      "text/plain": [
       " 0.0     14078\n",
       " 1.0      4801\n",
       " 2.0      2042\n",
       " 3.0       328\n",
       " 20.0       75\n",
       "-1.0        47\n",
       " 4.0        41\n",
       " 5.0         9\n",
       "Name: children, dtype: int64"
      ]
     },
     "execution_count": 11,
     "metadata": {},
     "output_type": "execute_result"
    }
   ],
   "source": [
    "paying_capacity['children'].value_counts()"
   ]
  },
  {
   "cell_type": "markdown",
   "metadata": {},
   "source": [
    "Удаляем строки с отрицательным количеством детей и значением 20."
   ]
  },
  {
   "cell_type": "code",
   "execution_count": 12,
   "metadata": {},
   "outputs": [],
   "source": [
    "paying_capacity = paying_capacity.where(paying_capacity['children'] != -1).dropna().reset_index(drop=True)\n",
    "paying_capacity = paying_capacity.where(paying_capacity['children'] != 20).dropna().reset_index(drop=True)"
   ]
  },
  {
   "cell_type": "markdown",
   "metadata": {},
   "source": [
    "### Вывод\n",
    "Аномалии были выявлены и устранены. Возможно, они появились в процессе обработки, внесения данных. Возможно кто-то из клиентов просто не указал требуемые данные."
   ]
  },
  {
   "cell_type": "markdown",
   "metadata": {},
   "source": [
    "### Замена типа данных"
   ]
  },
  {
   "cell_type": "code",
   "execution_count": 13,
   "metadata": {},
   "outputs": [
    {
     "name": "stdout",
     "output_type": "stream",
     "text": [
      "Типы данных в датасете:\n",
      "\n",
      "<class 'pandas.core.frame.DataFrame'>\n",
      "RangeIndex: 21299 entries, 0 to 21298\n",
      "Data columns (total 12 columns):\n",
      " #   Column            Non-Null Count  Dtype  \n",
      "---  ------            --------------  -----  \n",
      " 0   children          21299 non-null  float64\n",
      " 1   days_employed     21299 non-null  float64\n",
      " 2   dob_years         21299 non-null  float64\n",
      " 3   education         21299 non-null  object \n",
      " 4   education_id      21299 non-null  float64\n",
      " 5   family_status     21299 non-null  object \n",
      " 6   family_status_id  21299 non-null  float64\n",
      " 7   gender            21299 non-null  object \n",
      " 8   income_type       21299 non-null  object \n",
      " 9   debt              21299 non-null  float64\n",
      " 10  total_income      21299 non-null  float64\n",
      " 11  purpose           21299 non-null  object \n",
      "dtypes: float64(7), object(5)\n",
      "memory usage: 2.0+ MB\n"
     ]
    }
   ],
   "source": [
    "print('Типы данных в датасете:')\n",
    "print()\n",
    "paying_capacity.info()  #проверяем типы данных в датасете до обработки"
   ]
  },
  {
   "cell_type": "markdown",
   "metadata": {},
   "source": [
    "Проведем замену типов данных в датасете."
   ]
  },
  {
   "cell_type": "code",
   "execution_count": 14,
   "metadata": {},
   "outputs": [
    {
     "name": "stdout",
     "output_type": "stream",
     "text": [
      "Типы данных в датасете после замены:\n",
      "\n",
      "<class 'pandas.core.frame.DataFrame'>\n",
      "RangeIndex: 21299 entries, 0 to 21298\n",
      "Data columns (total 12 columns):\n",
      " #   Column            Non-Null Count  Dtype \n",
      "---  ------            --------------  ----- \n",
      " 0   children          21299 non-null  int64 \n",
      " 1   days_employed     21299 non-null  int64 \n",
      " 2   dob_years         21299 non-null  int64 \n",
      " 3   education         21299 non-null  object\n",
      " 4   education_id      21299 non-null  int64 \n",
      " 5   family_status     21299 non-null  object\n",
      " 6   family_status_id  21299 non-null  int64 \n",
      " 7   gender            21299 non-null  object\n",
      " 8   income_type       21299 non-null  object\n",
      " 9   debt              21299 non-null  int64 \n",
      " 10  total_income      21299 non-null  int64 \n",
      " 11  purpose           21299 non-null  object\n",
      "dtypes: int64(7), object(5)\n",
      "memory usage: 2.0+ MB\n"
     ]
    }
   ],
   "source": [
    "def change_mean_type(data, column_name, final_type):   #функция замены типа данных в столбцах: data - датасет, column_name - \n",
    "                          #названия столбцов, final_type - тип данных, на который необходимо поменять текущий тип\n",
    "    for name in column_name:\n",
    "        data[name] = data[name].astype(final_type, errors='ignore')  #меняем тип данных, ошибки игнорируем (оставляем\n",
    "                                                        #оригинальные значения - если значения в столбце не числовые)\n",
    "        \n",
    "change_mean_type(paying_capacity, paying_capacity.columns, 'int')  #применяем функцию: датасет - paying_capacity\n",
    "                        #названия столбцов - paying_capacity.columns, конечный тип данных - int64 (целочисленный)\n",
    "    \n",
    "print('Типы данных в датасете после замены:')\n",
    "print()\n",
    "paying_capacity.info()  #проверяем типы данных в датасете после замены"
   ]
  },
  {
   "cell_type": "markdown",
   "metadata": {},
   "source": [
    "### Вывод"
   ]
  },
  {
   "cell_type": "markdown",
   "metadata": {},
   "source": [
    "Значения с плавающей точкой были заменены на целочисленные значения. Был выбран метод .astype(), т.к. исходный тип данных был числом с плавающей точкой, а все пропуски были устранены ранее."
   ]
  },
  {
   "cell_type": "markdown",
   "metadata": {},
   "source": [
    "### Обработка дубликатов"
   ]
  },
  {
   "cell_type": "markdown",
   "metadata": {},
   "source": [
    "В столбце education образование клиентов указаны в разных регистрах, поэтому для корректного анализа необходимо привести все значения к нижнему регистру."
   ]
  },
  {
   "cell_type": "code",
   "execution_count": 15,
   "metadata": {},
   "outputs": [
    {
     "name": "stdout",
     "output_type": "stream",
     "text": [
      "Количество строк, имеющих дубликаты:\n",
      "\n",
      "children            71\n",
      "days_employed       71\n",
      "dob_years           71\n",
      "education           71\n",
      "education_id        71\n",
      "family_status       71\n",
      "family_status_id    71\n",
      "gender              71\n",
      "income_type         71\n",
      "debt                71\n",
      "total_income        71\n",
      "purpose             71\n",
      "dtype: int64\n"
     ]
    }
   ],
   "source": [
    "paying_capacity['education'] = paying_capacity['education'].str.lower()  #сохраняем значения образования в нижнем регистре\n",
    "\n",
    "print('Количество строк, имеющих дубликаты:')\n",
    "print()\n",
    "print(paying_capacity[paying_capacity.duplicated()].count()) #проверяем количество дублирующихся строк"
   ]
  },
  {
   "cell_type": "markdown",
   "metadata": {},
   "source": [
    "Удалим из датасета дубликаты."
   ]
  },
  {
   "cell_type": "code",
   "execution_count": 16,
   "metadata": {},
   "outputs": [
    {
     "name": "stdout",
     "output_type": "stream",
     "text": [
      "Количество строк, имеющих дубликаты после удаления:\n",
      "\n",
      "children            0\n",
      "days_employed       0\n",
      "dob_years           0\n",
      "education           0\n",
      "education_id        0\n",
      "family_status       0\n",
      "family_status_id    0\n",
      "gender              0\n",
      "income_type         0\n",
      "debt                0\n",
      "total_income        0\n",
      "purpose             0\n",
      "dtype: int64\n"
     ]
    }
   ],
   "source": [
    "paying_capacity = paying_capacity.drop_duplicates(keep=False).reset_index(drop=True)  #удаляем дублирующиеся строки\n",
    "print('Количество строк, имеющих дубликаты после удаления:')\n",
    "print()\n",
    "print(paying_capacity[paying_capacity.duplicated()].count()) #проверяем количество дублирующихся строк после удаления"
   ]
  },
  {
   "cell_type": "markdown",
   "metadata": {},
   "source": [
    "### Вывод"
   ]
  },
  {
   "cell_type": "markdown",
   "metadata": {},
   "source": [
    "В столбце education образование клиентов были указаны в разных регистрах. Скорее всего, это артефакты выгрузки. Для исключения разного написанияодних и тех же значений, в целях проведения последующего анализа, перевели все значения в нижний регистр.\n",
    "Проверили датасет на дублирующиеся строк и удалили их."
   ]
  },
  {
   "cell_type": "markdown",
   "metadata": {},
   "source": [
    "### Лемматизация"
   ]
  },
  {
   "cell_type": "code",
   "execution_count": 17,
   "metadata": {},
   "outputs": [
    {
     "name": "stdout",
     "output_type": "stream",
     "text": [
      "Counter({' ': 33140, '\\n': 21162, 'недвижимость': 6274, 'покупка': 5822, 'жилье': 4400, 'автомобиль': 4249, 'образование': 3961, 'с': 2880, 'операция': 2570, 'свадьба': 2278, 'свой': 2207, 'на': 2187, 'строительство': 1859, 'высокий': 1358, 'получение': 1302, 'коммерческий': 1294, 'для': 1277, 'жилой': 1213, 'сделка': 930, 'заниматься': 896, 'дополнительный': 892, 'проведение': 752, 'сыграть': 747, 'сдача': 644, 'семья': 633, 'собственный': 626, 'со': 620, 'ремонт': 598, 'подержанный': 476, 'подержать': 470, 'приобретение': 456, 'профильный': 431})\n"
     ]
    }
   ],
   "source": [
    "from pymystem3 import Mystem #импортируем библиотеку pymystem3 для проведения лемматизации\n",
    "m = Mystem()\n",
    "\n",
    "purpose_lemmas = []   #создаем пустой набор\n",
    "for text_value in paying_capacity['purpose']:\n",
    "    append_text = m.lemmatize(text_value)\n",
    "    purpose_lemmas.append(append_text)  #записываем данные\n",
    "\n",
    "paying_capacity['purpose_lemmas'] = purpose_lemmas  #создаем новый столбец с выделенными леммами\n",
    "\n",
    "purpose_lemmas_cut = []  #создаем пустой набор для выделения отдельных слов из выделенных лемм\n",
    "for string_element in purpose_lemmas:\n",
    "    for element in string_element:\n",
    "        purpose_lemmas_cut.append(element) #записываем слова\n",
    "\n",
    "from collections import Counter  #подключаем счетчик\n",
    "print(Counter(purpose_lemmas_cut))  #просматриваем самые часто встречающиеся цели кредита"
   ]
  },
  {
   "cell_type": "code",
   "execution_count": 18,
   "metadata": {},
   "outputs": [
    {
     "data": {
      "text/html": [
       "<div>\n",
       "<style scoped>\n",
       "    .dataframe tbody tr th:only-of-type {\n",
       "        vertical-align: middle;\n",
       "    }\n",
       "\n",
       "    .dataframe tbody tr th {\n",
       "        vertical-align: top;\n",
       "    }\n",
       "\n",
       "    .dataframe thead th {\n",
       "        text-align: right;\n",
       "    }\n",
       "</style>\n",
       "<table border=\"1\" class=\"dataframe\">\n",
       "  <thead>\n",
       "    <tr style=\"text-align: right;\">\n",
       "      <th></th>\n",
       "      <th>family_status</th>\n",
       "      <th>family_status_id</th>\n",
       "      <th>gender</th>\n",
       "      <th>income_type</th>\n",
       "      <th>debt</th>\n",
       "      <th>total_income</th>\n",
       "      <th>purpose</th>\n",
       "      <th>purpose_categories</th>\n",
       "    </tr>\n",
       "  </thead>\n",
       "  <tbody>\n",
       "    <tr>\n",
       "      <th>0</th>\n",
       "      <td>женат / замужем</td>\n",
       "      <td>0</td>\n",
       "      <td>F</td>\n",
       "      <td>сотрудник</td>\n",
       "      <td>0</td>\n",
       "      <td>253875</td>\n",
       "      <td>покупка жилья</td>\n",
       "      <td>недвижимость</td>\n",
       "    </tr>\n",
       "    <tr>\n",
       "      <th>1</th>\n",
       "      <td>женат / замужем</td>\n",
       "      <td>0</td>\n",
       "      <td>F</td>\n",
       "      <td>сотрудник</td>\n",
       "      <td>0</td>\n",
       "      <td>112080</td>\n",
       "      <td>приобретение автомобиля</td>\n",
       "      <td>автомобиль</td>\n",
       "    </tr>\n",
       "    <tr>\n",
       "      <th>2</th>\n",
       "      <td>женат / замужем</td>\n",
       "      <td>0</td>\n",
       "      <td>M</td>\n",
       "      <td>сотрудник</td>\n",
       "      <td>0</td>\n",
       "      <td>145885</td>\n",
       "      <td>покупка жилья</td>\n",
       "      <td>недвижимость</td>\n",
       "    </tr>\n",
       "    <tr>\n",
       "      <th>3</th>\n",
       "      <td>женат / замужем</td>\n",
       "      <td>0</td>\n",
       "      <td>M</td>\n",
       "      <td>сотрудник</td>\n",
       "      <td>0</td>\n",
       "      <td>267628</td>\n",
       "      <td>дополнительное образование</td>\n",
       "      <td>образование</td>\n",
       "    </tr>\n",
       "    <tr>\n",
       "      <th>4</th>\n",
       "      <td>гражданский брак</td>\n",
       "      <td>1</td>\n",
       "      <td>F</td>\n",
       "      <td>пенсионер</td>\n",
       "      <td>0</td>\n",
       "      <td>158616</td>\n",
       "      <td>сыграть свадьбу</td>\n",
       "      <td>свадьба</td>\n",
       "    </tr>\n",
       "  </tbody>\n",
       "</table>\n",
       "</div>"
      ],
      "text/plain": [
       "      family_status  family_status_id gender income_type  debt  total_income  \\\n",
       "0   женат / замужем                 0      F   сотрудник     0        253875   \n",
       "1   женат / замужем                 0      F   сотрудник     0        112080   \n",
       "2   женат / замужем                 0      M   сотрудник     0        145885   \n",
       "3   женат / замужем                 0      M   сотрудник     0        267628   \n",
       "4  гражданский брак                 1      F   пенсионер     0        158616   \n",
       "\n",
       "                      purpose purpose_categories  \n",
       "0               покупка жилья       недвижимость  \n",
       "1     приобретение автомобиля         автомобиль  \n",
       "2               покупка жилья       недвижимость  \n",
       "3  дополнительное образование        образование  \n",
       "4             сыграть свадьбу            свадьба  "
      ]
     },
     "execution_count": 18,
     "metadata": {},
     "output_type": "execute_result"
    }
   ],
   "source": [
    "lemmas_categories = ['недвижимость', 'автомобиль', 'образование', 'свадьба']  #формируем список целей кредита\n",
    "\n",
    "def lemmas_category(row):   #функция для выделения категорий из полученных лемм\n",
    "    for word in lemmas_categories:\n",
    "        if word in row:\n",
    "            return word\n",
    "        elif 'ремонт' in row and 'жилье' in row:\n",
    "            return 'ремонт'\n",
    "        elif 'жилье' in row:   #формируем правило 'жилье' == 'недвижимость'\n",
    "            return 'недвижимость'\n",
    "\n",
    "    \n",
    "paying_capacity['purpose_categories'] = paying_capacity['purpose_lemmas'].apply(lemmas_category)   #применяем функцию для\n",
    "                                            #столбца 'purpose_lemmas' и создаем новый столбец с категориями целей кредита\n",
    "\n",
    "paying_capacity = paying_capacity.loc[:, ['children', 'days_employed', 'dob_years', 'education', 'education_id',\n",
    "                 'family_status', 'family_status_id', 'gender', 'income_type', 'debt', 'total_income', 'purpose', \n",
    "                 'purpose_categories']]   #удаляем столбец 'purpose_lemmas'\n",
    "\n",
    "paying_capacity.loc[:, 'family_status': 'purpose_categories'].head() #проверяем применение категорий"
   ]
  },
  {
   "cell_type": "markdown",
   "metadata": {},
   "source": [
    "### Вывод"
   ]
  },
  {
   "cell_type": "markdown",
   "metadata": {},
   "source": [
    "Были выделены леммы из столюца с целями получения кредита. Была использована библиотека pymystem3, так как необходимо было получить именно слова, а не их составные части. Проанализированы наиболее часто встречающиеся причины подачи заявления на кредит, составлен список категорий целей. На основе выделенных лемм был сформирован новый столбец с категориями целей получения кредитов. "
   ]
  },
  {
   "cell_type": "markdown",
   "metadata": {},
   "source": [
    "### Категоризация данных"
   ]
  },
  {
   "cell_type": "markdown",
   "metadata": {},
   "source": [
    "Для облегчения анализа создадим словарь категорий для образования."
   ]
  },
  {
   "cell_type": "code",
   "execution_count": 19,
   "metadata": {},
   "outputs": [
    {
     "data": {
      "text/html": [
       "<div>\n",
       "<style scoped>\n",
       "    .dataframe tbody tr th:only-of-type {\n",
       "        vertical-align: middle;\n",
       "    }\n",
       "\n",
       "    .dataframe tbody tr th {\n",
       "        vertical-align: top;\n",
       "    }\n",
       "\n",
       "    .dataframe thead th {\n",
       "        text-align: right;\n",
       "    }\n",
       "</style>\n",
       "<table border=\"1\" class=\"dataframe\">\n",
       "  <thead>\n",
       "    <tr style=\"text-align: right;\">\n",
       "      <th></th>\n",
       "      <th>education_id</th>\n",
       "      <th>education</th>\n",
       "    </tr>\n",
       "  </thead>\n",
       "  <tbody>\n",
       "    <tr>\n",
       "      <th>0</th>\n",
       "      <td>0</td>\n",
       "      <td>высшее</td>\n",
       "    </tr>\n",
       "    <tr>\n",
       "      <th>1</th>\n",
       "      <td>1</td>\n",
       "      <td>среднее</td>\n",
       "    </tr>\n",
       "    <tr>\n",
       "      <th>2</th>\n",
       "      <td>2</td>\n",
       "      <td>неоконченное высшее</td>\n",
       "    </tr>\n",
       "    <tr>\n",
       "      <th>3</th>\n",
       "      <td>3</td>\n",
       "      <td>начальное</td>\n",
       "    </tr>\n",
       "    <tr>\n",
       "      <th>4</th>\n",
       "      <td>4</td>\n",
       "      <td>ученая степень</td>\n",
       "    </tr>\n",
       "  </tbody>\n",
       "</table>\n",
       "</div>"
      ],
      "text/plain": [
       "   education_id            education\n",
       "0             0               высшее\n",
       "1             1              среднее\n",
       "2             2  неоконченное высшее\n",
       "3             3            начальное\n",
       "4             4       ученая степень"
      ]
     },
     "execution_count": 19,
     "metadata": {},
     "output_type": "execute_result"
    }
   ],
   "source": [
    "paying_capacity_education_dict = paying_capacity[['education_id', 'education']].drop_duplicates().reset_index(drop=True)\n",
    "                                                                        #создадим словарь ID для категории \"образование\"\n",
    "paying_capacity_education_dict"
   ]
  },
  {
   "cell_type": "markdown",
   "metadata": {},
   "source": [
    "Точно так же создадим словарь для семейного положения."
   ]
  },
  {
   "cell_type": "code",
   "execution_count": 20,
   "metadata": {},
   "outputs": [
    {
     "data": {
      "text/html": [
       "<div>\n",
       "<style scoped>\n",
       "    .dataframe tbody tr th:only-of-type {\n",
       "        vertical-align: middle;\n",
       "    }\n",
       "\n",
       "    .dataframe tbody tr th {\n",
       "        vertical-align: top;\n",
       "    }\n",
       "\n",
       "    .dataframe thead th {\n",
       "        text-align: right;\n",
       "    }\n",
       "</style>\n",
       "<table border=\"1\" class=\"dataframe\">\n",
       "  <thead>\n",
       "    <tr style=\"text-align: right;\">\n",
       "      <th></th>\n",
       "      <th>family_status_id</th>\n",
       "      <th>family_status</th>\n",
       "    </tr>\n",
       "  </thead>\n",
       "  <tbody>\n",
       "    <tr>\n",
       "      <th>0</th>\n",
       "      <td>0</td>\n",
       "      <td>женат / замужем</td>\n",
       "    </tr>\n",
       "    <tr>\n",
       "      <th>1</th>\n",
       "      <td>1</td>\n",
       "      <td>гражданский брак</td>\n",
       "    </tr>\n",
       "    <tr>\n",
       "      <th>2</th>\n",
       "      <td>2</td>\n",
       "      <td>вдовец / вдова</td>\n",
       "    </tr>\n",
       "    <tr>\n",
       "      <th>3</th>\n",
       "      <td>3</td>\n",
       "      <td>в разводе</td>\n",
       "    </tr>\n",
       "    <tr>\n",
       "      <th>4</th>\n",
       "      <td>4</td>\n",
       "      <td>Не женат / не замужем</td>\n",
       "    </tr>\n",
       "  </tbody>\n",
       "</table>\n",
       "</div>"
      ],
      "text/plain": [
       "   family_status_id          family_status\n",
       "0                 0        женат / замужем\n",
       "1                 1       гражданский брак\n",
       "2                 2         вдовец / вдова\n",
       "3                 3              в разводе\n",
       "4                 4  Не женат / не замужем"
      ]
     },
     "execution_count": 20,
     "metadata": {},
     "output_type": "execute_result"
    }
   ],
   "source": [
    "paying_capacity_family_status_dict = paying_capacity[['family_status_id', \n",
    "                                                      'family_status']].drop_duplicates().reset_index(drop=True)\n",
    "                                                            #создадим словарь ID для категории \"семейное положение\"\n",
    "paying_capacity_family_status_dict"
   ]
  },
  {
   "cell_type": "code",
   "execution_count": 21,
   "metadata": {},
   "outputs": [
    {
     "name": "stdout",
     "output_type": "stream",
     "text": [
      "Получим квантили по зарплате: \n",
      " 0.25    107425.75\n",
      "0.50    142594.00\n",
      "0.75    196049.00\n",
      "Name: total_income, dtype: float64\n"
     ]
    },
    {
     "data": {
      "text/html": [
       "<div>\n",
       "<style scoped>\n",
       "    .dataframe tbody tr th:only-of-type {\n",
       "        vertical-align: middle;\n",
       "    }\n",
       "\n",
       "    .dataframe tbody tr th {\n",
       "        vertical-align: top;\n",
       "    }\n",
       "\n",
       "    .dataframe thead th {\n",
       "        text-align: right;\n",
       "    }\n",
       "</style>\n",
       "<table border=\"1\" class=\"dataframe\">\n",
       "  <thead>\n",
       "    <tr style=\"text-align: right;\">\n",
       "      <th></th>\n",
       "      <th>children</th>\n",
       "      <th>days_employed</th>\n",
       "      <th>dob_years</th>\n",
       "      <th>education</th>\n",
       "      <th>education_id</th>\n",
       "      <th>family_status</th>\n",
       "      <th>family_status_id</th>\n",
       "      <th>gender</th>\n",
       "      <th>income_type</th>\n",
       "      <th>debt</th>\n",
       "      <th>total_income</th>\n",
       "      <th>purpose</th>\n",
       "      <th>purpose_categories</th>\n",
       "      <th>income_categorised</th>\n",
       "    </tr>\n",
       "  </thead>\n",
       "  <tbody>\n",
       "    <tr>\n",
       "      <th>0</th>\n",
       "      <td>1</td>\n",
       "      <td>8437</td>\n",
       "      <td>42</td>\n",
       "      <td>высшее</td>\n",
       "      <td>0</td>\n",
       "      <td>женат / замужем</td>\n",
       "      <td>0</td>\n",
       "      <td>F</td>\n",
       "      <td>сотрудник</td>\n",
       "      <td>0</td>\n",
       "      <td>253875</td>\n",
       "      <td>покупка жилья</td>\n",
       "      <td>недвижимость</td>\n",
       "      <td>высокий доход</td>\n",
       "    </tr>\n",
       "    <tr>\n",
       "      <th>1</th>\n",
       "      <td>1</td>\n",
       "      <td>4024</td>\n",
       "      <td>36</td>\n",
       "      <td>среднее</td>\n",
       "      <td>1</td>\n",
       "      <td>женат / замужем</td>\n",
       "      <td>0</td>\n",
       "      <td>F</td>\n",
       "      <td>сотрудник</td>\n",
       "      <td>0</td>\n",
       "      <td>112080</td>\n",
       "      <td>приобретение автомобиля</td>\n",
       "      <td>автомобиль</td>\n",
       "      <td>средний доход</td>\n",
       "    </tr>\n",
       "    <tr>\n",
       "      <th>2</th>\n",
       "      <td>0</td>\n",
       "      <td>5623</td>\n",
       "      <td>33</td>\n",
       "      <td>среднее</td>\n",
       "      <td>1</td>\n",
       "      <td>женат / замужем</td>\n",
       "      <td>0</td>\n",
       "      <td>M</td>\n",
       "      <td>сотрудник</td>\n",
       "      <td>0</td>\n",
       "      <td>145885</td>\n",
       "      <td>покупка жилья</td>\n",
       "      <td>недвижимость</td>\n",
       "      <td>выше среднего доход</td>\n",
       "    </tr>\n",
       "    <tr>\n",
       "      <th>3</th>\n",
       "      <td>3</td>\n",
       "      <td>4124</td>\n",
       "      <td>32</td>\n",
       "      <td>среднее</td>\n",
       "      <td>1</td>\n",
       "      <td>женат / замужем</td>\n",
       "      <td>0</td>\n",
       "      <td>M</td>\n",
       "      <td>сотрудник</td>\n",
       "      <td>0</td>\n",
       "      <td>267628</td>\n",
       "      <td>дополнительное образование</td>\n",
       "      <td>образование</td>\n",
       "      <td>высокий доход</td>\n",
       "    </tr>\n",
       "    <tr>\n",
       "      <th>4</th>\n",
       "      <td>0</td>\n",
       "      <td>13510</td>\n",
       "      <td>53</td>\n",
       "      <td>среднее</td>\n",
       "      <td>1</td>\n",
       "      <td>гражданский брак</td>\n",
       "      <td>1</td>\n",
       "      <td>F</td>\n",
       "      <td>пенсионер</td>\n",
       "      <td>0</td>\n",
       "      <td>158616</td>\n",
       "      <td>сыграть свадьбу</td>\n",
       "      <td>свадьба</td>\n",
       "      <td>выше среднего доход</td>\n",
       "    </tr>\n",
       "  </tbody>\n",
       "</table>\n",
       "</div>"
      ],
      "text/plain": [
       "   children  days_employed  dob_years education  education_id  \\\n",
       "0         1           8437         42    высшее             0   \n",
       "1         1           4024         36   среднее             1   \n",
       "2         0           5623         33   среднее             1   \n",
       "3         3           4124         32   среднее             1   \n",
       "4         0          13510         53   среднее             1   \n",
       "\n",
       "      family_status  family_status_id gender income_type  debt  total_income  \\\n",
       "0   женат / замужем                 0      F   сотрудник     0        253875   \n",
       "1   женат / замужем                 0      F   сотрудник     0        112080   \n",
       "2   женат / замужем                 0      M   сотрудник     0        145885   \n",
       "3   женат / замужем                 0      M   сотрудник     0        267628   \n",
       "4  гражданский брак                 1      F   пенсионер     0        158616   \n",
       "\n",
       "                      purpose purpose_categories   income_categorised  \n",
       "0               покупка жилья       недвижимость        высокий доход  \n",
       "1     приобретение автомобиля         автомобиль        средний доход  \n",
       "2               покупка жилья       недвижимость  выше среднего доход  \n",
       "3  дополнительное образование        образование        высокий доход  \n",
       "4             сыграть свадьбу            свадьба  выше среднего доход  "
      ]
     },
     "execution_count": 21,
     "metadata": {},
     "output_type": "execute_result"
    }
   ],
   "source": [
    "print('Получим квантили по зарплате:', '\\n', paying_capacity['total_income'].quantile([0.25, 0.50, 0.75]))  #найдем квантили\n",
    "\n",
    "def income_categorising(row):  #функция, возвращающая категории дохода\n",
    "    if row < 107425:\n",
    "        return 'низкий доход'\n",
    "    if 107425 <= row < 142594:\n",
    "        return 'средний доход'\n",
    "    if 142594 <= row < 196049:\n",
    "        return 'выше среднего доход'\n",
    "    else:\n",
    "        return 'высокий доход'\n",
    "    \n",
    "paying_capacity['income_categorised'] = paying_capacity['total_income'].apply(income_categorising)\n",
    "paying_capacity.head()"
   ]
  },
  {
   "cell_type": "markdown",
   "metadata": {},
   "source": [
    "Отредактируем исходную таблицу - удалим словесные описания уровня образования и семейного положения. Также удалим столбцы, ненужные для ответа на поставленные вопросы."
   ]
  },
  {
   "cell_type": "code",
   "execution_count": 22,
   "metadata": {},
   "outputs": [
    {
     "data": {
      "text/html": [
       "<div>\n",
       "<style scoped>\n",
       "    .dataframe tbody tr th:only-of-type {\n",
       "        vertical-align: middle;\n",
       "    }\n",
       "\n",
       "    .dataframe tbody tr th {\n",
       "        vertical-align: top;\n",
       "    }\n",
       "\n",
       "    .dataframe thead th {\n",
       "        text-align: right;\n",
       "    }\n",
       "</style>\n",
       "<table border=\"1\" class=\"dataframe\">\n",
       "  <thead>\n",
       "    <tr style=\"text-align: right;\">\n",
       "      <th></th>\n",
       "      <th>children</th>\n",
       "      <th>education_id</th>\n",
       "      <th>family_status_id</th>\n",
       "      <th>debt</th>\n",
       "      <th>total_income</th>\n",
       "      <th>purpose_categories</th>\n",
       "      <th>income_categorised</th>\n",
       "    </tr>\n",
       "  </thead>\n",
       "  <tbody>\n",
       "    <tr>\n",
       "      <th>0</th>\n",
       "      <td>1</td>\n",
       "      <td>0</td>\n",
       "      <td>0</td>\n",
       "      <td>0</td>\n",
       "      <td>253875</td>\n",
       "      <td>недвижимость</td>\n",
       "      <td>высокий доход</td>\n",
       "    </tr>\n",
       "    <tr>\n",
       "      <th>1</th>\n",
       "      <td>1</td>\n",
       "      <td>1</td>\n",
       "      <td>0</td>\n",
       "      <td>0</td>\n",
       "      <td>112080</td>\n",
       "      <td>автомобиль</td>\n",
       "      <td>средний доход</td>\n",
       "    </tr>\n",
       "    <tr>\n",
       "      <th>2</th>\n",
       "      <td>0</td>\n",
       "      <td>1</td>\n",
       "      <td>0</td>\n",
       "      <td>0</td>\n",
       "      <td>145885</td>\n",
       "      <td>недвижимость</td>\n",
       "      <td>выше среднего доход</td>\n",
       "    </tr>\n",
       "    <tr>\n",
       "      <th>3</th>\n",
       "      <td>3</td>\n",
       "      <td>1</td>\n",
       "      <td>0</td>\n",
       "      <td>0</td>\n",
       "      <td>267628</td>\n",
       "      <td>образование</td>\n",
       "      <td>высокий доход</td>\n",
       "    </tr>\n",
       "    <tr>\n",
       "      <th>4</th>\n",
       "      <td>0</td>\n",
       "      <td>1</td>\n",
       "      <td>1</td>\n",
       "      <td>0</td>\n",
       "      <td>158616</td>\n",
       "      <td>свадьба</td>\n",
       "      <td>выше среднего доход</td>\n",
       "    </tr>\n",
       "  </tbody>\n",
       "</table>\n",
       "</div>"
      ],
      "text/plain": [
       "   children  education_id  family_status_id  debt  total_income  \\\n",
       "0         1             0                 0     0        253875   \n",
       "1         1             1                 0     0        112080   \n",
       "2         0             1                 0     0        145885   \n",
       "3         3             1                 0     0        267628   \n",
       "4         0             1                 1     0        158616   \n",
       "\n",
       "  purpose_categories   income_categorised  \n",
       "0       недвижимость        высокий доход  \n",
       "1         автомобиль        средний доход  \n",
       "2       недвижимость  выше среднего доход  \n",
       "3        образование        высокий доход  \n",
       "4            свадьба  выше среднего доход  "
      ]
     },
     "execution_count": 22,
     "metadata": {},
     "output_type": "execute_result"
    }
   ],
   "source": [
    "paying_capacity_checked = paying_capacity.loc[:, ['children', 'education_id', 'family_status_id', 'debt', 'total_income', \n",
    "                                          'purpose_categories', 'income_categorised']]\n",
    "paying_capacity_checked.head()"
   ]
  },
  {
   "cell_type": "markdown",
   "metadata": {},
   "source": [
    "### Вывод"
   ]
  },
  {
   "cell_type": "markdown",
   "metadata": {},
   "source": [
    "Были созданы словари для категоризации столбцов \"образование\" и \"семейное положение\".В отредактированной таблице были оставлены только столбцы с ID данных категорий. Также категоризирован общий доход.  Были удалены столбцы, не требующиеся для ответа на поставленные ниже вопросы."
   ]
  },
  {
   "cell_type": "markdown",
   "metadata": {},
   "source": [
    "### Шаг 3. Ответьте на вопросы"
   ]
  },
  {
   "cell_type": "markdown",
   "metadata": {},
   "source": [
    "- Есть ли зависимость между наличием детей и возвратом кредита в срок?"
   ]
  },
  {
   "cell_type": "code",
   "execution_count": 23,
   "metadata": {},
   "outputs": [
    {
     "data": {
      "text/html": [
       "<div>\n",
       "<style scoped>\n",
       "    .dataframe tbody tr th:only-of-type {\n",
       "        vertical-align: middle;\n",
       "    }\n",
       "\n",
       "    .dataframe tbody tr th {\n",
       "        vertical-align: top;\n",
       "    }\n",
       "\n",
       "    .dataframe thead tr th {\n",
       "        text-align: left;\n",
       "    }\n",
       "\n",
       "    .dataframe thead tr:last-of-type th {\n",
       "        text-align: right;\n",
       "    }\n",
       "</style>\n",
       "<table border=\"1\" class=\"dataframe\">\n",
       "  <thead>\n",
       "    <tr>\n",
       "      <th></th>\n",
       "      <th colspan=\"2\" halign=\"left\">debt</th>\n",
       "      <th>percentage</th>\n",
       "    </tr>\n",
       "    <tr>\n",
       "      <th>debt</th>\n",
       "      <th>0</th>\n",
       "      <th>1</th>\n",
       "      <th></th>\n",
       "    </tr>\n",
       "    <tr>\n",
       "      <th>children</th>\n",
       "      <th></th>\n",
       "      <th></th>\n",
       "      <th></th>\n",
       "    </tr>\n",
       "  </thead>\n",
       "  <tbody>\n",
       "    <tr>\n",
       "      <th>4</th>\n",
       "      <td>37</td>\n",
       "      <td>4</td>\n",
       "      <td>9.76</td>\n",
       "    </tr>\n",
       "    <tr>\n",
       "      <th>2</th>\n",
       "      <td>1842</td>\n",
       "      <td>194</td>\n",
       "      <td>9.53</td>\n",
       "    </tr>\n",
       "    <tr>\n",
       "      <th>1</th>\n",
       "      <td>4341</td>\n",
       "      <td>440</td>\n",
       "      <td>9.20</td>\n",
       "    </tr>\n",
       "    <tr>\n",
       "      <th>3</th>\n",
       "      <td>301</td>\n",
       "      <td>27</td>\n",
       "      <td>8.23</td>\n",
       "    </tr>\n",
       "    <tr>\n",
       "      <th>0</th>\n",
       "      <td>12909</td>\n",
       "      <td>1058</td>\n",
       "      <td>7.57</td>\n",
       "    </tr>\n",
       "    <tr>\n",
       "      <th>5</th>\n",
       "      <td>9</td>\n",
       "      <td>0</td>\n",
       "      <td>0.00</td>\n",
       "    </tr>\n",
       "  </tbody>\n",
       "</table>\n",
       "</div>"
      ],
      "text/plain": [
       "           debt       percentage\n",
       "debt          0     1           \n",
       "children                        \n",
       "4            37     4       9.76\n",
       "2          1842   194       9.53\n",
       "1          4341   440       9.20\n",
       "3           301    27       8.23\n",
       "0         12909  1058       7.57\n",
       "5             9     0       0.00"
      ]
     },
     "execution_count": 23,
     "metadata": {},
     "output_type": "execute_result"
    }
   ],
   "source": [
    "children_debt_pivot = paying_capacity_checked.pivot_table(index='children', columns='debt', \n",
    "                                                          aggfunc={'debt':'count'}).fillna(0).astype(int)  #формируем\n",
    "                                                                                                    #сводную таблицу\n",
    "def find_and_write_percentage(data):  #функция нахождения процентов просрочки кредита от общего числа кредитов\n",
    "    data['percentage'] = ((data[('debt', 1)] * 100) / (data[('debt', 0)] + data[('debt', 1)])).round(2)\n",
    "\n",
    "find_and_write_percentage(children_debt_pivot)  #находим процент просроченных кредитов для каждого количества детей\n",
    "children_debt_pivot.sort_values(by='percentage', ascending=False)"
   ]
  },
  {
   "cell_type": "code",
   "execution_count": 24,
   "metadata": {},
   "outputs": [
    {
     "name": "stdout",
     "output_type": "stream",
     "text": [
      "Процент просроченных кредитов заявителями с детьми:  9.24%\n",
      "Процент просроченных кредитов заявителями без детей: 8.14%\n"
     ]
    }
   ],
   "source": [
    "def percentage_of_debt_kids(kids, column_no_debt, column_debt):  #функция нахождения процентного соотношения отданных\n",
    "    #кредитов в зависимости от наличия детей: kids - дети есть/нет (0/1), column_no_debt - столбец \"без долгов\",\n",
    "                                                                         #column_debt - столбец \"с долгами\"\n",
    "        \n",
    "    all_no_debt = children_debt_pivot.loc[kids:, column_no_debt].sum()  #сумма всех заявителей без долгов с детьми\n",
    "    all_debt = children_debt_pivot.loc[kids:, column_debt].sum()  #сумма всех заявителей с долгами\n",
    "    total_with_no_debt = all_no_debt + all_debt  #сумма всех заявителей с детьми\n",
    "    percentage_debt = all_debt / total_with_no_debt  #расчет процента отданных кредитов с детьми\n",
    "    return percentage_debt\n",
    "\n",
    "print('Процент просроченных кредитов заявителями с детьми:  {:.2%}'.format(percentage_of_debt_kids(1, ('debt', 0), ('debt', 1))))\n",
    "print('Процент просроченных кредитов заявителями без детей: {:.2%}'.format(percentage_of_debt_kids(0, ('debt', 0), ('debt', 1))))"
   ]
  },
  {
   "cell_type": "markdown",
   "metadata": {},
   "source": [
    "### Вывод"
   ]
  },
  {
   "cell_type": "markdown",
   "metadata": {},
   "source": [
    "Процент просрочки у заявителей с 5 детьми равен 0, но стоит отметить, что таких заявителей всего 9, поэтому считаю выборку нерепрезентативной. Чтобы делать выводы по этой категории заявителей, следует накопить больше данных.\n",
    "Наибольший процент просроченных кредитов у семей с 4 детьми, однако заявителей с таким количеством детей в разы меньше, чем клиентов с числом детей от 1 до 3, поэтому возможно, принакоплении большей информации, статистика изменится.\n",
    "Далее следуют клиенты с 2 детьми. Такие клиенты почти на 2% реже отдают кредиты, чем заявители без детей. Чаще на 0,3% кредиты отдают семьи с 1 ребенком. Процент просрочки у клиентов с 3 детьми самый маленький: на 1.3% ниже, чем у заявителей с 2 детьми. Процент просроченных кредитов у заявителей без детей самый маленький.\n",
    "В целом, процент просроченных кредитов у заявителей без детей меньше, чем у заявителей с детьми примерно на 1%. Также, исходя из полученных данных, они чаще подают заявки на кредит. С учетом того, что количество заявителей без детей примерно в 2 раза больше, процентное различие можно считать незначительным.\n",
    "Можно сделать вывод, что зависимости между наличием детей и возвратом кредита в срок нет."
   ]
  },
  {
   "cell_type": "markdown",
   "metadata": {},
   "source": [
    "- Есть ли зависимость между семейным положением и возвратом кредита в срок?"
   ]
  },
  {
   "cell_type": "code",
   "execution_count": 25,
   "metadata": {},
   "outputs": [
    {
     "name": "stderr",
     "output_type": "stream",
     "text": [
      "/Users/antonkirillov/opt/anaconda3/lib/python3.7/site-packages/pandas/core/reshape/merge.py:618: UserWarning: merging between different levels can give an unintended result (2 levels on the left, 1 on the right)\n",
      "  warnings.warn(msg, UserWarning)\n"
     ]
    },
    {
     "data": {
      "text/html": [
       "<div>\n",
       "<style scoped>\n",
       "    .dataframe tbody tr th:only-of-type {\n",
       "        vertical-align: middle;\n",
       "    }\n",
       "\n",
       "    .dataframe tbody tr th {\n",
       "        vertical-align: top;\n",
       "    }\n",
       "\n",
       "    .dataframe thead th {\n",
       "        text-align: right;\n",
       "    }\n",
       "</style>\n",
       "<table border=\"1\" class=\"dataframe\">\n",
       "  <thead>\n",
       "    <tr style=\"text-align: right;\">\n",
       "      <th></th>\n",
       "      <th>family_status_id</th>\n",
       "      <th>(debt, 0)</th>\n",
       "      <th>(debt, 1)</th>\n",
       "      <th>family_status</th>\n",
       "      <th>percentage</th>\n",
       "    </tr>\n",
       "  </thead>\n",
       "  <tbody>\n",
       "    <tr>\n",
       "      <th>4</th>\n",
       "      <td>4</td>\n",
       "      <td>2505</td>\n",
       "      <td>272</td>\n",
       "      <td>Не женат / не замужем</td>\n",
       "      <td>9.79</td>\n",
       "    </tr>\n",
       "    <tr>\n",
       "      <th>1</th>\n",
       "      <td>1</td>\n",
       "      <td>3705</td>\n",
       "      <td>383</td>\n",
       "      <td>гражданский брак</td>\n",
       "      <td>9.37</td>\n",
       "    </tr>\n",
       "    <tr>\n",
       "      <th>0</th>\n",
       "      <td>0</td>\n",
       "      <td>11251</td>\n",
       "      <td>922</td>\n",
       "      <td>женат / замужем</td>\n",
       "      <td>7.57</td>\n",
       "    </tr>\n",
       "    <tr>\n",
       "      <th>3</th>\n",
       "      <td>3</td>\n",
       "      <td>1095</td>\n",
       "      <td>84</td>\n",
       "      <td>в разводе</td>\n",
       "      <td>7.12</td>\n",
       "    </tr>\n",
       "    <tr>\n",
       "      <th>2</th>\n",
       "      <td>2</td>\n",
       "      <td>883</td>\n",
       "      <td>62</td>\n",
       "      <td>вдовец / вдова</td>\n",
       "      <td>6.56</td>\n",
       "    </tr>\n",
       "  </tbody>\n",
       "</table>\n",
       "</div>"
      ],
      "text/plain": [
       "   family_status_id  (debt, 0)  (debt, 1)          family_status  percentage\n",
       "4                 4       2505        272  Не женат / не замужем        9.79\n",
       "1                 1       3705        383       гражданский брак        9.37\n",
       "0                 0      11251        922        женат / замужем        7.57\n",
       "3                 3       1095         84              в разводе        7.12\n",
       "2                 2        883         62         вдовец / вдова        6.56"
      ]
     },
     "execution_count": 25,
     "metadata": {},
     "output_type": "execute_result"
    }
   ],
   "source": [
    "family_status_id_pivot = paying_capacity_checked.pivot_table(\n",
    "    index='family_status_id', columns='debt', aggfunc={'debt':'count'}).merge(\n",
    "    paying_capacity_family_status_dict, on='family_status_id', how='left')  #формируем сводную таблицу и для удобства\n",
    "                                                                #возвращаем текстовое написание семейного положения\n",
    "    \n",
    "find_and_write_percentage(family_status_id_pivot)\n",
    "family_status_id_pivot.sort_values(by='percentage', ascending=False)"
   ]
  },
  {
   "cell_type": "markdown",
   "metadata": {},
   "source": [
    "### Вывод"
   ]
  },
  {
   "cell_type": "markdown",
   "metadata": {},
   "source": [
    "Процент просрочки кредита примерно одинаков, однако выделяются вдовцы - их процент возврата самый низкий, затем идут женатые или в разводе. Самые безответственные - неженатые и живущие в гражданском браке. Стоит отметить, что выборка по женатым заявителям в разы больше остальных категорий."
   ]
  },
  {
   "cell_type": "markdown",
   "metadata": {},
   "source": [
    "- Есть ли зависимость между уровнем дохода и возвратом кредита в срок?"
   ]
  },
  {
   "cell_type": "code",
   "execution_count": 26,
   "metadata": {},
   "outputs": [
    {
     "data": {
      "text/html": [
       "<div>\n",
       "<style scoped>\n",
       "    .dataframe tbody tr th:only-of-type {\n",
       "        vertical-align: middle;\n",
       "    }\n",
       "\n",
       "    .dataframe tbody tr th {\n",
       "        vertical-align: top;\n",
       "    }\n",
       "\n",
       "    .dataframe thead tr th {\n",
       "        text-align: left;\n",
       "    }\n",
       "\n",
       "    .dataframe thead tr:last-of-type th {\n",
       "        text-align: right;\n",
       "    }\n",
       "</style>\n",
       "<table border=\"1\" class=\"dataframe\">\n",
       "  <thead>\n",
       "    <tr>\n",
       "      <th></th>\n",
       "      <th colspan=\"2\" halign=\"left\">debt</th>\n",
       "      <th>percentage</th>\n",
       "    </tr>\n",
       "    <tr>\n",
       "      <th>debt</th>\n",
       "      <th>0</th>\n",
       "      <th>1</th>\n",
       "      <th></th>\n",
       "    </tr>\n",
       "    <tr>\n",
       "      <th>income_categorised</th>\n",
       "      <th></th>\n",
       "      <th></th>\n",
       "      <th></th>\n",
       "    </tr>\n",
       "  </thead>\n",
       "  <tbody>\n",
       "    <tr>\n",
       "      <th>средний доход</th>\n",
       "      <td>3973</td>\n",
       "      <td>381</td>\n",
       "      <td>8.75</td>\n",
       "    </tr>\n",
       "    <tr>\n",
       "      <th>выше среднего доход</th>\n",
       "      <td>5687</td>\n",
       "      <td>540</td>\n",
       "      <td>8.67</td>\n",
       "    </tr>\n",
       "    <tr>\n",
       "      <th>низкий доход</th>\n",
       "      <td>4867</td>\n",
       "      <td>423</td>\n",
       "      <td>8.00</td>\n",
       "    </tr>\n",
       "    <tr>\n",
       "      <th>высокий доход</th>\n",
       "      <td>4912</td>\n",
       "      <td>379</td>\n",
       "      <td>7.16</td>\n",
       "    </tr>\n",
       "  </tbody>\n",
       "</table>\n",
       "</div>"
      ],
      "text/plain": [
       "                     debt      percentage\n",
       "debt                    0    1           \n",
       "income_categorised                       \n",
       "средний доход        3973  381       8.75\n",
       "выше среднего доход  5687  540       8.67\n",
       "низкий доход         4867  423       8.00\n",
       "высокий доход        4912  379       7.16"
      ]
     },
     "execution_count": 26,
     "metadata": {},
     "output_type": "execute_result"
    }
   ],
   "source": [
    "#формируем сводную таблицу\n",
    "income_pivot = paying_capacity_checked.pivot_table(index='income_categorised', \n",
    "                                                   columns='debt', \n",
    "                                                   aggfunc={'debt':'count'})\n",
    "                                                                                              \n",
    "\n",
    "find_and_write_percentage(income_pivot)\n",
    "income_pivot.sort_values(by='percentage', ascending=False)"
   ]
  },
  {
   "cell_type": "markdown",
   "metadata": {},
   "source": [
    "### Вывод"
   ]
  },
  {
   "cell_type": "markdown",
   "metadata": {},
   "source": [
    "Процент просрочки кредита для разных уровней дохода примерно одинаков. Небольшая зависимость наблюдается. Например, чаще всего отдают кредиты люди с высоким доходом, затем идут люди с низким доходом."
   ]
  },
  {
   "cell_type": "markdown",
   "metadata": {},
   "source": [
    "- Как разные цели кредита влияют на его возврат в срок?"
   ]
  },
  {
   "cell_type": "code",
   "execution_count": 27,
   "metadata": {},
   "outputs": [
    {
     "data": {
      "text/html": [
       "<div>\n",
       "<style scoped>\n",
       "    .dataframe tbody tr th:only-of-type {\n",
       "        vertical-align: middle;\n",
       "    }\n",
       "\n",
       "    .dataframe tbody tr th {\n",
       "        vertical-align: top;\n",
       "    }\n",
       "\n",
       "    .dataframe thead tr th {\n",
       "        text-align: left;\n",
       "    }\n",
       "\n",
       "    .dataframe thead tr:last-of-type th {\n",
       "        text-align: right;\n",
       "    }\n",
       "</style>\n",
       "<table border=\"1\" class=\"dataframe\">\n",
       "  <thead>\n",
       "    <tr>\n",
       "      <th></th>\n",
       "      <th colspan=\"2\" halign=\"left\">debt</th>\n",
       "      <th>percentage</th>\n",
       "    </tr>\n",
       "    <tr>\n",
       "      <th>debt</th>\n",
       "      <th>0</th>\n",
       "      <th>1</th>\n",
       "      <th></th>\n",
       "    </tr>\n",
       "    <tr>\n",
       "      <th>purpose_categories</th>\n",
       "      <th></th>\n",
       "      <th></th>\n",
       "      <th></th>\n",
       "    </tr>\n",
       "  </thead>\n",
       "  <tbody>\n",
       "    <tr>\n",
       "      <th>автомобиль</th>\n",
       "      <td>3852</td>\n",
       "      <td>397</td>\n",
       "      <td>9.34</td>\n",
       "    </tr>\n",
       "    <tr>\n",
       "      <th>образование</th>\n",
       "      <td>3592</td>\n",
       "      <td>369</td>\n",
       "      <td>9.32</td>\n",
       "    </tr>\n",
       "    <tr>\n",
       "      <th>свадьба</th>\n",
       "      <td>2097</td>\n",
       "      <td>181</td>\n",
       "      <td>7.95</td>\n",
       "    </tr>\n",
       "    <tr>\n",
       "      <th>недвижимость</th>\n",
       "      <td>9335</td>\n",
       "      <td>741</td>\n",
       "      <td>7.35</td>\n",
       "    </tr>\n",
       "    <tr>\n",
       "      <th>ремонт</th>\n",
       "      <td>563</td>\n",
       "      <td>35</td>\n",
       "      <td>5.85</td>\n",
       "    </tr>\n",
       "  </tbody>\n",
       "</table>\n",
       "</div>"
      ],
      "text/plain": [
       "                    debt      percentage\n",
       "debt                   0    1           \n",
       "purpose_categories                      \n",
       "автомобиль          3852  397       9.34\n",
       "образование         3592  369       9.32\n",
       "свадьба             2097  181       7.95\n",
       "недвижимость        9335  741       7.35\n",
       "ремонт               563   35       5.85"
      ]
     },
     "execution_count": 27,
     "metadata": {},
     "output_type": "execute_result"
    }
   ],
   "source": [
    "purpose_pivot = paying_capacity_checked.pivot_table(index='purpose_categories', columns='debt', aggfunc={'debt':'count'})\n",
    "                                                                                              #формируем сводную таблицу\n",
    "find_and_write_percentage(purpose_pivot)\n",
    "purpose_pivot.sort_values(by='percentage', ascending=False)"
   ]
  },
  {
   "cell_type": "markdown",
   "metadata": {},
   "source": [
    "### Вывод"
   ]
  },
  {
   "cell_type": "markdown",
   "metadata": {},
   "source": [
    "Наименьший процент просроченных кредитов наблюдается у заявителей, взявших кредит на ремонт. Затем примерно одинаковый процент просрочки кредита на свадьбу и покупку недвижимости. Процент просроченных кредитов на автомобиль и образование самый большой. Стоит отметить, что кредиты на ремонт берут почти в 10 раз меньше, чем на недвижимость, поэтому, возможно, когда выборка по ремонту будет больше, результат изменится."
   ]
  },
  {
   "cell_type": "markdown",
   "metadata": {},
   "source": [
    "### Шаг 4. Общий вывод"
   ]
  },
  {
   "cell_type": "markdown",
   "metadata": {},
   "source": [
    "Данные были получены с аномалиями, которые в процессе обработки были успешно устранены. \n",
    "При проведении анализа были категоризированны данные, созданы словари.\n",
    "\n",
    "Получены ответы на поставленные вопросы.\n",
    "\n",
    "Наблюдается различие между отданными кредитами людей без детей и с детьми в 1% в пользу бездетных. \n",
    "Количество клиентов с детьми в 2 раза меньше, поэтому данное различие можно считать незначительным. Можно сделать вывод, что наличие детей в целом не влияет на вероятность просрочки. \n",
    "Стоит отметить, что наблюдаются зависимости между количеством детей и вероятностью просрочки кредита. Например, заявители с 3 детьми на 1.5% реже имеют просрочку по кредиту по сравнению с клиентами с 4 детьми. Вероятность просрочки кредита заявителями с 1-2 детьми примерно одинакова.\n",
    "\n",
    "Процент просрочки кредита ( в зависимости от семейного положения) примерно одинаков, однако выделяются вдовцы - их процент меньшее, чем у неженатых, примерно на 3%. Затем идут женатые или в разводе, они отдают кредиты реже вдовцов примерно на 1%. Самые безответственные - неженатые и живущие в гражданском браке. Выборка по женатым заявителям в разы больше остальных категорий.\n",
    "\n",
    "Наблюдается небольшая зависимость между уровнем дохода и вероятностью просрочки кредита. Например, реже всего допускают просрочку кредита люди с высоким доходом, затем идут люди с низким доходом. Клиенты со средним доходим отдают кредиты на 1,5% реже клиентов с высоким доходом.\n",
    "\n",
    "Процент просроченных кредитов заявителей, бравших кредит на ремонт, ниже, чем у берущих кредит на свадьбу или покупку недвижимости. Кредиты на автомобиль и образование возвращаются реже всего. Возможно, результат изменится, когда выборка по людям, берущим кредит на ремонт станет больше - на данный момент количество таких клиентов почти в 20 раз меньше взявших кредит на недвижимость."
   ]
  }
 ],
 "metadata": {
  "kernelspec": {
   "display_name": "Python 3",
   "language": "python",
   "name": "python3"
  },
  "language_info": {
   "codemirror_mode": {
    "name": "ipython",
    "version": 3
   },
   "file_extension": ".py",
   "mimetype": "text/x-python",
   "name": "python",
   "nbconvert_exporter": "python",
   "pygments_lexer": "ipython3",
   "version": "3.7.7"
  }
 },
 "nbformat": 4,
 "nbformat_minor": 2
}
