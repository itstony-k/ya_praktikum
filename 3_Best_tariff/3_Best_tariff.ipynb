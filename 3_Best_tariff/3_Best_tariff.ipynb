{
 "cells": [
  {
   "cell_type": "markdown",
   "metadata": {},
   "source": [
    "# Определение перспективного тарифа для телеком компании"
   ]
  },
  {
   "cell_type": "markdown",
   "metadata": {},
   "source": [
    "Провести предварительный анализ тарифов на небольшой выборке клиентов (данные 500 пользователей сотовой сети «Мегалайн»: кто они, откуда, каким тарифом пользуются, сколько звонков и сообщений каждый отправил за 2018 год). Необхлдимо проанализировать поведение клиентов и сделать вывод — какой тариф лучше."
   ]
  },
  {
   "cell_type": "markdown",
   "metadata": {},
   "source": [
    "### Описание тарифов"
   ]
  },
  {
   "cell_type": "markdown",
   "metadata": {},
   "source": [
    "##### 1. Тариф «Смарт»\n",
    "- Ежемесячная плата: 550 рублей\n",
    "- Включено:\n",
    "   - 500 минут разговора\n",
    "   - 50 сообщений\n",
    "   - 15 Гб интернет-трафика\n",
    "- Стоимость услуг сверх тарифного пакета:\n",
    "   - минута разговора: 3 рубля\n",
    "   - сообщение: 3 рубля\n",
    "   - 1 Гб интернет-трафика: 200 рублей\n",
    "   \n",
    "##### 2. Тариф «Ультра»\n",
    "- Ежемесячная плата: 1950 рублей\n",
    "- Включено:\n",
    "   - 3000 минут разговора\n",
    "   - 1000 сообщений\n",
    "   - 30 Гб интернет-трафика\n",
    "- Стоимость услуг сверх тарифного пакета:\n",
    "   - минута разговора: 1 рубль\n",
    "   - сообщение: 1 рубль\n",
    "   - 1 Гб интернет-трафика: 150 рублей\n",
    "\n",
    "__NB:__ значения минут и мегабайтов всегда округляются вверх. Если пользователь проговорил всего 1 секунду, в тарифе засчитывается целая минута."
   ]
  },
  {
   "cell_type": "markdown",
   "metadata": {},
   "source": [
    "### План"
   ]
  },
  {
   "cell_type": "markdown",
   "metadata": {},
   "source": [
    "1. Изучение общей информации о данных\n",
    "\n",
    "\n",
    "2. Подготовка данных\n",
    " - Приведение данных к нужным типам\n",
    " - Поиск и исправление ошибок в данных\n",
    " - Подсчет для каждого пользователя:\n",
    "    - количества сделанных звонков и израсходованных минут разговора по месяцам\n",
    "    - количества отправленных сообщений по месяцам\n",
    "    - объем израсходованного интернет-трафика по месяцам\n",
    "    - помесячную выручку с каждого пользователя\n",
    "\n",
    "\n",
    "3. Анализ данных\n",
    " - Описание поведения клиентов оператора, исходя из выборки (количество минут разговора, сообщений и какой объём интернет-трафика требуется пользователям каждого тарифа в месяц) \n",
    " - Подсчет среднего количества, дисперсии и стандартного отклонения\n",
    " - Построение гистограммы\n",
    " - Описание распределения\n",
    "\n",
    "\n",
    "4. Проверка гипотез:\n",
    " - средняя выручка пользователей тарифов «Ультра» и «Смарт» различается\n",
    " - средняя выручка пользователей из Москвы отличается от выручки пользователей из других регионов\n",
    "\n",
    "\n",
    "5. Общий вывод"
   ]
  },
  {
   "cell_type": "markdown",
   "metadata": {},
   "source": [
    "### Описание данных"
   ]
  },
  {
   "cell_type": "markdown",
   "metadata": {},
   "source": [
    "Таблица ___users___ (информация о пользователях):\n",
    "- *user_id* — уникальный идентификатор пользователя\n",
    "- *first_name* — имя пользователя\n",
    "- *last_name* — фамилия пользователя\n",
    "- *age* — возраст пользователя (годы)\n",
    "- *reg_date* — дата подключения тарифа (день, месяц, год)\n",
    "- *churn_date* — дата прекращения пользования тарифом (если значение пропущено, то тариф ещё действовал на момент выгрузки данных)\n",
    "- *city* — город проживания пользователя\n",
    "- *tariff* — название тарифного плана\n",
    "\n",
    "Таблица ___calls___ (информация о звонках):\n",
    "- *id* — уникальный номер звонка\n",
    "- *call_date* — дата звонка\n",
    "- *duration* — длительность звонка в минутах\n",
    "- *user_id* — идентификатор пользователя, сделавшего звонок\n",
    "\n",
    "Таблица ___messages___ (информация о сообщениях):\n",
    "- *id* — уникальный номер сообщения\n",
    "- *message_date* — дата сообщения\n",
    "- *user_id* — идентификатор пользователя, отправившего сообщение\n",
    "\n",
    "Таблица ___internet___ (информация об интернет-сессиях):\n",
    "- *id* — уникальный номер сессии\n",
    "- *mb_used* — объём потраченного за сессию интернет-трафика (в мегабайтах)\n",
    "- *session_date* — дата интернет-сессии\n",
    "- *user_id* — идентификатор пользователя\n",
    "\n",
    "Таблица ___tariffs___ (информация о тарифах):\n",
    "- *tariff_name* — название тарифа\n",
    "- *rub_monthly_fee* — ежемесячная абонентская плата в рублях\n",
    "- *minutes_included* — количество минут разговора в месяц, включённых в абонентскую плату\n",
    "- *messages_included* — количество сообщений в месяц, включённых в абонентскую плату\n",
    "- *mb_per_month_included* — объём интернет-трафика, включённого в абонентскую плату (в мегабайтах)\n",
    "- *rub_per_minute* — стоимость минуты разговора сверх тарифного пакета (например, если в тарифе 100 минут разговора в месяц, то со 101 минуты будет взиматься плата)\n",
    "- *rub_per_message* — стоимость отправки сообщения сверх тарифного пакета\n",
    "- *rub_per_gb* — стоимость дополнительного гигабайта интернет-трафика сверх тарифного пакета (1 гигабайт = 1024 мегабайта)"
   ]
  },
  {
   "cell_type": "markdown",
   "metadata": {},
   "source": [
    "#### Путь к файлам"
   ]
  },
  {
   "cell_type": "markdown",
   "metadata": {},
   "source": [
    "- /datasets/calls.csv\n",
    "- /datasets/internet.csv\n",
    "- /datasets/messages.csv\n",
    "- /datasets/tariffs.csv\n",
    "- /datasets/users.csv"
   ]
  },
  {
   "cell_type": "markdown",
   "metadata": {},
   "source": [
    "## 1. Изучение общей информации о данных"
   ]
  },
  {
   "cell_type": "code",
   "execution_count": 1,
   "metadata": {},
   "outputs": [],
   "source": [
    "# импортируем библиотеки\n",
    "import pandas as pd               # pandas\n",
    "import numpy as np                # numpy\n",
    "import matplotlib.pyplot as plt   # matplotlib \n",
    "import seaborn as sns             # seaborn\n",
    "sns.set()\n",
    "\n",
    "import scipy.stats"
   ]
  },
  {
   "cell_type": "code",
   "execution_count": 2,
   "metadata": {},
   "outputs": [],
   "source": [
    "# открываем файлы\n",
    "calls = pd.read_csv('/datasets/calls.csv')          # звонки\n",
    "internet = pd.read_csv('/datasets/internet.csv')    # интернет-сессии\n",
    "messages = pd.read_csv('/datasets/messages.csv')    # сообщения\n",
    "tariffs = pd.read_csv('/datasets/tariffs.csv')      # тарифы\n",
    "users = pd.read_csv('/datasets/users.csv')          # пользователи"
   ]
  },
  {
   "cell_type": "markdown",
   "metadata": {},
   "source": [
    "*Общая информация о звонках и первые 5 строк набора данных:*"
   ]
  },
  {
   "cell_type": "code",
   "execution_count": 3,
   "metadata": {},
   "outputs": [
    {
     "name": "stdout",
     "output_type": "stream",
     "text": [
      "<class 'pandas.core.frame.DataFrame'>\n",
      "RangeIndex: 202607 entries, 0 to 202606\n",
      "Data columns (total 4 columns):\n",
      "id           202607 non-null object\n",
      "call_date    202607 non-null object\n",
      "duration     202607 non-null float64\n",
      "user_id      202607 non-null int64\n",
      "dtypes: float64(1), int64(1), object(2)\n",
      "memory usage: 6.2+ MB\n"
     ]
    },
    {
     "data": {
      "text/html": [
       "<div>\n",
       "<style scoped>\n",
       "    .dataframe tbody tr th:only-of-type {\n",
       "        vertical-align: middle;\n",
       "    }\n",
       "\n",
       "    .dataframe tbody tr th {\n",
       "        vertical-align: top;\n",
       "    }\n",
       "\n",
       "    .dataframe thead th {\n",
       "        text-align: right;\n",
       "    }\n",
       "</style>\n",
       "<table border=\"1\" class=\"dataframe\">\n",
       "  <thead>\n",
       "    <tr style=\"text-align: right;\">\n",
       "      <th></th>\n",
       "      <th>id</th>\n",
       "      <th>call_date</th>\n",
       "      <th>duration</th>\n",
       "      <th>user_id</th>\n",
       "    </tr>\n",
       "  </thead>\n",
       "  <tbody>\n",
       "    <tr>\n",
       "      <td>0</td>\n",
       "      <td>1000_0</td>\n",
       "      <td>2018-07-25</td>\n",
       "      <td>0.00</td>\n",
       "      <td>1000</td>\n",
       "    </tr>\n",
       "    <tr>\n",
       "      <td>1</td>\n",
       "      <td>1000_1</td>\n",
       "      <td>2018-08-17</td>\n",
       "      <td>0.00</td>\n",
       "      <td>1000</td>\n",
       "    </tr>\n",
       "    <tr>\n",
       "      <td>2</td>\n",
       "      <td>1000_2</td>\n",
       "      <td>2018-06-11</td>\n",
       "      <td>2.85</td>\n",
       "      <td>1000</td>\n",
       "    </tr>\n",
       "    <tr>\n",
       "      <td>3</td>\n",
       "      <td>1000_3</td>\n",
       "      <td>2018-09-21</td>\n",
       "      <td>13.80</td>\n",
       "      <td>1000</td>\n",
       "    </tr>\n",
       "    <tr>\n",
       "      <td>4</td>\n",
       "      <td>1000_4</td>\n",
       "      <td>2018-12-15</td>\n",
       "      <td>5.18</td>\n",
       "      <td>1000</td>\n",
       "    </tr>\n",
       "  </tbody>\n",
       "</table>\n",
       "</div>"
      ],
      "text/plain": [
       "       id   call_date  duration  user_id\n",
       "0  1000_0  2018-07-25      0.00     1000\n",
       "1  1000_1  2018-08-17      0.00     1000\n",
       "2  1000_2  2018-06-11      2.85     1000\n",
       "3  1000_3  2018-09-21     13.80     1000\n",
       "4  1000_4  2018-12-15      5.18     1000"
      ]
     },
     "execution_count": 3,
     "metadata": {},
     "output_type": "execute_result"
    }
   ],
   "source": [
    "# получаем информацию о звонках\n",
    "calls.info()\n",
    "calls.head()"
   ]
  },
  {
   "cell_type": "code",
   "execution_count": 4,
   "metadata": {},
   "outputs": [
    {
     "data": {
      "text/plain": [
       "38.0"
      ]
     },
     "execution_count": 4,
     "metadata": {},
     "output_type": "execute_result"
    }
   ],
   "source": [
    "calls['duration'].max()"
   ]
  },
  {
   "cell_type": "markdown",
   "metadata": {},
   "source": [
    "Проверим нулевые значения столбца calls. Для этого возьмем отрезок от 18 секунд (0.3 минуты) до 0. Выдвинем гипотезу, что 0 звонки - это не ошибка, а сброшенные вызовы, либо неудачные попытки дозвона."
   ]
  },
  {
   "cell_type": "code",
   "execution_count": 5,
   "metadata": {},
   "outputs": [
    {
     "data": {
      "text/html": [
       "<div>\n",
       "<style scoped>\n",
       "    .dataframe tbody tr th:only-of-type {\n",
       "        vertical-align: middle;\n",
       "    }\n",
       "\n",
       "    .dataframe tbody tr th {\n",
       "        vertical-align: top;\n",
       "    }\n",
       "\n",
       "    .dataframe thead th {\n",
       "        text-align: right;\n",
       "    }\n",
       "</style>\n",
       "<table border=\"1\" class=\"dataframe\">\n",
       "  <thead>\n",
       "    <tr style=\"text-align: right;\">\n",
       "      <th></th>\n",
       "      <th>id</th>\n",
       "      <th>call_date</th>\n",
       "      <th>duration</th>\n",
       "      <th>user_id</th>\n",
       "    </tr>\n",
       "  </thead>\n",
       "  <tbody>\n",
       "    <tr>\n",
       "      <td>122</td>\n",
       "      <td>1000_122</td>\n",
       "      <td>2018-10-07</td>\n",
       "      <td>0.13</td>\n",
       "      <td>1000</td>\n",
       "    </tr>\n",
       "    <tr>\n",
       "      <td>135</td>\n",
       "      <td>1000_135</td>\n",
       "      <td>2018-10-25</td>\n",
       "      <td>0.02</td>\n",
       "      <td>1000</td>\n",
       "    </tr>\n",
       "    <tr>\n",
       "      <td>275</td>\n",
       "      <td>1000_275</td>\n",
       "      <td>2018-07-07</td>\n",
       "      <td>0.14</td>\n",
       "      <td>1000</td>\n",
       "    </tr>\n",
       "    <tr>\n",
       "      <td>334</td>\n",
       "      <td>1000_334</td>\n",
       "      <td>2018-12-03</td>\n",
       "      <td>0.09</td>\n",
       "      <td>1000</td>\n",
       "    </tr>\n",
       "    <tr>\n",
       "      <td>453</td>\n",
       "      <td>1001_85</td>\n",
       "      <td>2018-12-12</td>\n",
       "      <td>0.01</td>\n",
       "      <td>1001</td>\n",
       "    </tr>\n",
       "  </tbody>\n",
       "</table>\n",
       "</div>"
      ],
      "text/plain": [
       "           id   call_date  duration  user_id\n",
       "122  1000_122  2018-10-07      0.13     1000\n",
       "135  1000_135  2018-10-25      0.02     1000\n",
       "275  1000_275  2018-07-07      0.14     1000\n",
       "334  1000_334  2018-12-03      0.09     1000\n",
       "453   1001_85  2018-12-12      0.01     1001"
      ]
     },
     "execution_count": 5,
     "metadata": {},
     "output_type": "execute_result"
    }
   ],
   "source": [
    "calls[(calls['duration'] < 0.3) & (calls['duration'] > 0)].head()"
   ]
  },
  {
   "cell_type": "markdown",
   "metadata": {},
   "source": [
    "Так как значения меньше 0.3 минуты существуют, также присутствуют значения в сотые доли минут (0,01 минуты - 0,6 секунды), можно сделать вывод, что гипотеза подтвердилась."
   ]
  },
  {
   "cell_type": "markdown",
   "metadata": {},
   "source": [
    "*Общая информация об интернет-сессиях и первые 5 строк набора данных:*"
   ]
  },
  {
   "cell_type": "code",
   "execution_count": 6,
   "metadata": {},
   "outputs": [
    {
     "name": "stdout",
     "output_type": "stream",
     "text": [
      "<class 'pandas.core.frame.DataFrame'>\n",
      "RangeIndex: 149396 entries, 0 to 149395\n",
      "Data columns (total 4 columns):\n",
      "id              149396 non-null object\n",
      "mb_used         149396 non-null float64\n",
      "session_date    149396 non-null object\n",
      "user_id         149396 non-null int64\n",
      "dtypes: float64(1), int64(1), object(2)\n",
      "memory usage: 4.6+ MB\n"
     ]
    },
    {
     "data": {
      "text/html": [
       "<div>\n",
       "<style scoped>\n",
       "    .dataframe tbody tr th:only-of-type {\n",
       "        vertical-align: middle;\n",
       "    }\n",
       "\n",
       "    .dataframe tbody tr th {\n",
       "        vertical-align: top;\n",
       "    }\n",
       "\n",
       "    .dataframe thead th {\n",
       "        text-align: right;\n",
       "    }\n",
       "</style>\n",
       "<table border=\"1\" class=\"dataframe\">\n",
       "  <thead>\n",
       "    <tr style=\"text-align: right;\">\n",
       "      <th></th>\n",
       "      <th>id</th>\n",
       "      <th>mb_used</th>\n",
       "      <th>session_date</th>\n",
       "      <th>user_id</th>\n",
       "    </tr>\n",
       "  </thead>\n",
       "  <tbody>\n",
       "    <tr>\n",
       "      <td>0</td>\n",
       "      <td>1000_0</td>\n",
       "      <td>112.95</td>\n",
       "      <td>2018-11-25</td>\n",
       "      <td>1000</td>\n",
       "    </tr>\n",
       "    <tr>\n",
       "      <td>1</td>\n",
       "      <td>1000_1</td>\n",
       "      <td>1052.81</td>\n",
       "      <td>2018-09-07</td>\n",
       "      <td>1000</td>\n",
       "    </tr>\n",
       "    <tr>\n",
       "      <td>2</td>\n",
       "      <td>1000_2</td>\n",
       "      <td>1197.26</td>\n",
       "      <td>2018-06-25</td>\n",
       "      <td>1000</td>\n",
       "    </tr>\n",
       "    <tr>\n",
       "      <td>3</td>\n",
       "      <td>1000_3</td>\n",
       "      <td>550.27</td>\n",
       "      <td>2018-08-22</td>\n",
       "      <td>1000</td>\n",
       "    </tr>\n",
       "    <tr>\n",
       "      <td>4</td>\n",
       "      <td>1000_4</td>\n",
       "      <td>302.56</td>\n",
       "      <td>2018-09-24</td>\n",
       "      <td>1000</td>\n",
       "    </tr>\n",
       "  </tbody>\n",
       "</table>\n",
       "</div>"
      ],
      "text/plain": [
       "       id  mb_used session_date  user_id\n",
       "0  1000_0   112.95   2018-11-25     1000\n",
       "1  1000_1  1052.81   2018-09-07     1000\n",
       "2  1000_2  1197.26   2018-06-25     1000\n",
       "3  1000_3   550.27   2018-08-22     1000\n",
       "4  1000_4   302.56   2018-09-24     1000"
      ]
     },
     "execution_count": 6,
     "metadata": {},
     "output_type": "execute_result"
    }
   ],
   "source": [
    "# получаем информацию об интернет-сессиях\n",
    "internet.info()\n",
    "internet.head()"
   ]
  },
  {
   "cell_type": "markdown",
   "metadata": {},
   "source": [
    "*Общая информация о сообщениях и первые 5 строк набора данных:*"
   ]
  },
  {
   "cell_type": "code",
   "execution_count": 7,
   "metadata": {},
   "outputs": [
    {
     "name": "stdout",
     "output_type": "stream",
     "text": [
      "<class 'pandas.core.frame.DataFrame'>\n",
      "RangeIndex: 123036 entries, 0 to 123035\n",
      "Data columns (total 3 columns):\n",
      "id              123036 non-null object\n",
      "message_date    123036 non-null object\n",
      "user_id         123036 non-null int64\n",
      "dtypes: int64(1), object(2)\n",
      "memory usage: 2.8+ MB\n"
     ]
    },
    {
     "data": {
      "text/html": [
       "<div>\n",
       "<style scoped>\n",
       "    .dataframe tbody tr th:only-of-type {\n",
       "        vertical-align: middle;\n",
       "    }\n",
       "\n",
       "    .dataframe tbody tr th {\n",
       "        vertical-align: top;\n",
       "    }\n",
       "\n",
       "    .dataframe thead th {\n",
       "        text-align: right;\n",
       "    }\n",
       "</style>\n",
       "<table border=\"1\" class=\"dataframe\">\n",
       "  <thead>\n",
       "    <tr style=\"text-align: right;\">\n",
       "      <th></th>\n",
       "      <th>id</th>\n",
       "      <th>message_date</th>\n",
       "      <th>user_id</th>\n",
       "    </tr>\n",
       "  </thead>\n",
       "  <tbody>\n",
       "    <tr>\n",
       "      <td>0</td>\n",
       "      <td>1000_0</td>\n",
       "      <td>2018-06-27</td>\n",
       "      <td>1000</td>\n",
       "    </tr>\n",
       "    <tr>\n",
       "      <td>1</td>\n",
       "      <td>1000_1</td>\n",
       "      <td>2018-10-08</td>\n",
       "      <td>1000</td>\n",
       "    </tr>\n",
       "    <tr>\n",
       "      <td>2</td>\n",
       "      <td>1000_2</td>\n",
       "      <td>2018-08-04</td>\n",
       "      <td>1000</td>\n",
       "    </tr>\n",
       "    <tr>\n",
       "      <td>3</td>\n",
       "      <td>1000_3</td>\n",
       "      <td>2018-06-16</td>\n",
       "      <td>1000</td>\n",
       "    </tr>\n",
       "    <tr>\n",
       "      <td>4</td>\n",
       "      <td>1000_4</td>\n",
       "      <td>2018-12-05</td>\n",
       "      <td>1000</td>\n",
       "    </tr>\n",
       "  </tbody>\n",
       "</table>\n",
       "</div>"
      ],
      "text/plain": [
       "       id message_date  user_id\n",
       "0  1000_0   2018-06-27     1000\n",
       "1  1000_1   2018-10-08     1000\n",
       "2  1000_2   2018-08-04     1000\n",
       "3  1000_3   2018-06-16     1000\n",
       "4  1000_4   2018-12-05     1000"
      ]
     },
     "execution_count": 7,
     "metadata": {},
     "output_type": "execute_result"
    }
   ],
   "source": [
    "# получаем информацию о сообщениях\n",
    "messages.info()\n",
    "messages.head()"
   ]
  },
  {
   "cell_type": "markdown",
   "metadata": {},
   "source": [
    "*Общая информация о тарифах и вывод набора данных на экран:*"
   ]
  },
  {
   "cell_type": "code",
   "execution_count": 8,
   "metadata": {},
   "outputs": [
    {
     "name": "stdout",
     "output_type": "stream",
     "text": [
      "<class 'pandas.core.frame.DataFrame'>\n",
      "RangeIndex: 2 entries, 0 to 1\n",
      "Data columns (total 8 columns):\n",
      "messages_included        2 non-null int64\n",
      "mg_per_month_included    2 non-null int64\n",
      "minutes_included         2 non-null int64\n",
      "rub_monthly_fee          2 non-null int64\n",
      "rub_per_gb               2 non-null int64\n",
      "rub_per_message          2 non-null int64\n",
      "rub_per_minute           2 non-null int64\n",
      "tariff_name              2 non-null object\n",
      "dtypes: int64(7), object(1)\n",
      "memory usage: 256.0+ bytes\n"
     ]
    },
    {
     "data": {
      "text/html": [
       "<div>\n",
       "<style scoped>\n",
       "    .dataframe tbody tr th:only-of-type {\n",
       "        vertical-align: middle;\n",
       "    }\n",
       "\n",
       "    .dataframe tbody tr th {\n",
       "        vertical-align: top;\n",
       "    }\n",
       "\n",
       "    .dataframe thead th {\n",
       "        text-align: right;\n",
       "    }\n",
       "</style>\n",
       "<table border=\"1\" class=\"dataframe\">\n",
       "  <thead>\n",
       "    <tr style=\"text-align: right;\">\n",
       "      <th></th>\n",
       "      <th>messages_included</th>\n",
       "      <th>mg_per_month_included</th>\n",
       "      <th>minutes_included</th>\n",
       "      <th>rub_monthly_fee</th>\n",
       "      <th>rub_per_gb</th>\n",
       "      <th>rub_per_message</th>\n",
       "      <th>rub_per_minute</th>\n",
       "      <th>tariff_name</th>\n",
       "    </tr>\n",
       "  </thead>\n",
       "  <tbody>\n",
       "    <tr>\n",
       "      <td>0</td>\n",
       "      <td>50</td>\n",
       "      <td>15360</td>\n",
       "      <td>500</td>\n",
       "      <td>550</td>\n",
       "      <td>200</td>\n",
       "      <td>3</td>\n",
       "      <td>3</td>\n",
       "      <td>smart</td>\n",
       "    </tr>\n",
       "    <tr>\n",
       "      <td>1</td>\n",
       "      <td>1000</td>\n",
       "      <td>30720</td>\n",
       "      <td>3000</td>\n",
       "      <td>1950</td>\n",
       "      <td>150</td>\n",
       "      <td>1</td>\n",
       "      <td>1</td>\n",
       "      <td>ultra</td>\n",
       "    </tr>\n",
       "  </tbody>\n",
       "</table>\n",
       "</div>"
      ],
      "text/plain": [
       "   messages_included  mg_per_month_included  minutes_included  \\\n",
       "0                 50                  15360               500   \n",
       "1               1000                  30720              3000   \n",
       "\n",
       "   rub_monthly_fee  rub_per_gb  rub_per_message  rub_per_minute tariff_name  \n",
       "0              550         200                3               3       smart  \n",
       "1             1950         150                1               1       ultra  "
      ]
     },
     "execution_count": 8,
     "metadata": {},
     "output_type": "execute_result"
    }
   ],
   "source": [
    "# получаем информацию о тарифах\n",
    "tariffs.info()\n",
    "tariffs.head()"
   ]
  },
  {
   "cell_type": "markdown",
   "metadata": {},
   "source": [
    "*Общая информация о пользователях и первые 5 строк набора данных:*"
   ]
  },
  {
   "cell_type": "code",
   "execution_count": 9,
   "metadata": {},
   "outputs": [
    {
     "name": "stdout",
     "output_type": "stream",
     "text": [
      "<class 'pandas.core.frame.DataFrame'>\n",
      "RangeIndex: 500 entries, 0 to 499\n",
      "Data columns (total 8 columns):\n",
      "user_id       500 non-null int64\n",
      "age           500 non-null int64\n",
      "churn_date    38 non-null object\n",
      "city          500 non-null object\n",
      "first_name    500 non-null object\n",
      "last_name     500 non-null object\n",
      "reg_date      500 non-null object\n",
      "tariff        500 non-null object\n",
      "dtypes: int64(2), object(6)\n",
      "memory usage: 31.4+ KB\n"
     ]
    },
    {
     "data": {
      "text/html": [
       "<div>\n",
       "<style scoped>\n",
       "    .dataframe tbody tr th:only-of-type {\n",
       "        vertical-align: middle;\n",
       "    }\n",
       "\n",
       "    .dataframe tbody tr th {\n",
       "        vertical-align: top;\n",
       "    }\n",
       "\n",
       "    .dataframe thead th {\n",
       "        text-align: right;\n",
       "    }\n",
       "</style>\n",
       "<table border=\"1\" class=\"dataframe\">\n",
       "  <thead>\n",
       "    <tr style=\"text-align: right;\">\n",
       "      <th></th>\n",
       "      <th>user_id</th>\n",
       "      <th>age</th>\n",
       "      <th>churn_date</th>\n",
       "      <th>city</th>\n",
       "      <th>first_name</th>\n",
       "      <th>last_name</th>\n",
       "      <th>reg_date</th>\n",
       "      <th>tariff</th>\n",
       "    </tr>\n",
       "  </thead>\n",
       "  <tbody>\n",
       "    <tr>\n",
       "      <td>0</td>\n",
       "      <td>1000</td>\n",
       "      <td>52</td>\n",
       "      <td>NaN</td>\n",
       "      <td>Краснодар</td>\n",
       "      <td>Рафаил</td>\n",
       "      <td>Верещагин</td>\n",
       "      <td>2018-05-25</td>\n",
       "      <td>ultra</td>\n",
       "    </tr>\n",
       "    <tr>\n",
       "      <td>1</td>\n",
       "      <td>1001</td>\n",
       "      <td>41</td>\n",
       "      <td>NaN</td>\n",
       "      <td>Москва</td>\n",
       "      <td>Иван</td>\n",
       "      <td>Ежов</td>\n",
       "      <td>2018-11-01</td>\n",
       "      <td>smart</td>\n",
       "    </tr>\n",
       "    <tr>\n",
       "      <td>2</td>\n",
       "      <td>1002</td>\n",
       "      <td>59</td>\n",
       "      <td>NaN</td>\n",
       "      <td>Стерлитамак</td>\n",
       "      <td>Евгений</td>\n",
       "      <td>Абрамович</td>\n",
       "      <td>2018-06-17</td>\n",
       "      <td>smart</td>\n",
       "    </tr>\n",
       "    <tr>\n",
       "      <td>3</td>\n",
       "      <td>1003</td>\n",
       "      <td>23</td>\n",
       "      <td>NaN</td>\n",
       "      <td>Москва</td>\n",
       "      <td>Белла</td>\n",
       "      <td>Белякова</td>\n",
       "      <td>2018-08-17</td>\n",
       "      <td>ultra</td>\n",
       "    </tr>\n",
       "    <tr>\n",
       "      <td>4</td>\n",
       "      <td>1004</td>\n",
       "      <td>68</td>\n",
       "      <td>NaN</td>\n",
       "      <td>Новокузнецк</td>\n",
       "      <td>Татьяна</td>\n",
       "      <td>Авдеенко</td>\n",
       "      <td>2018-05-14</td>\n",
       "      <td>ultra</td>\n",
       "    </tr>\n",
       "  </tbody>\n",
       "</table>\n",
       "</div>"
      ],
      "text/plain": [
       "   user_id  age churn_date         city first_name  last_name    reg_date  \\\n",
       "0     1000   52        NaN    Краснодар     Рафаил  Верещагин  2018-05-25   \n",
       "1     1001   41        NaN       Москва       Иван       Ежов  2018-11-01   \n",
       "2     1002   59        NaN  Стерлитамак    Евгений  Абрамович  2018-06-17   \n",
       "3     1003   23        NaN       Москва      Белла   Белякова  2018-08-17   \n",
       "4     1004   68        NaN  Новокузнецк    Татьяна   Авдеенко  2018-05-14   \n",
       "\n",
       "  tariff  \n",
       "0  ultra  \n",
       "1  smart  \n",
       "2  smart  \n",
       "3  ultra  \n",
       "4  ultra  "
      ]
     },
     "execution_count": 9,
     "metadata": {},
     "output_type": "execute_result"
    }
   ],
   "source": [
    "# получаем информацию о пользователях\n",
    "users.info()\n",
    "users.head()"
   ]
  },
  {
   "cell_type": "markdown",
   "metadata": {},
   "source": [
    "Для последующих подсчетов заменим пропуски в дате окончания контракта на 31 декабря 2018г."
   ]
  },
  {
   "cell_type": "code",
   "execution_count": 10,
   "metadata": {},
   "outputs": [],
   "source": [
    "users['churn_date'].fillna('2018-12-31', inplace=True)"
   ]
  },
  {
   "cell_type": "markdown",
   "metadata": {},
   "source": [
    "#### Выводы"
   ]
  },
  {
   "cell_type": "markdown",
   "metadata": {},
   "source": [
    "Изучена первая информация о данных. В целом, данные предоставлены полные, без пропусков, кроме набора данных с __информацией о пользователях__.\n",
    "\n",
    "1. calls - пропуски в данных отсутствуют, типы данных в столбцах call_date и duration не соответствуют представленным данным: \n",
    "  - столбец call_date - показывает дату совершения звонка. однако тип данных - object. Необходим перевод в формат даты\n",
    "  - duration - данные записаны в виде дробных чисел, однако, по условиям тарификации, минута округляется до целого в большую сторону. Необходима замена типа данных на целочисленный.\n",
    "  \n",
    "  Также присутствуют нулевые значения продолжительности разговора. С учетом того, что в данных находятся также и значения от 0 до 1 минуты, стоит предположить, что 0 - это несостоявшийся звонок (пропущенный входящий, либо отклоненный исходящий). При анализе нулевые звонки не учитывать \n",
    "  \n",
    "  \n",
    "2. internet - попусков в данных нет. Типы данных в столбцах mb_used и session_date не соответствуют представленным данным:\n",
    "  - столбец session_date - показывает дату совершения звонка. однако тип данных - object. Необходим перевод в формат даты\n",
    "  - mb_used - данные записаны в виде дробных чисел, однако, по условиям тарификации, значения использованных данных округляются до целого в большую сторону. Необходима замена типа данных на целочисленный.\n",
    "  \n",
    "  Присутствуют нулевые значения в mb_used. Раз сеанс передачи данных записан, значит он имел место быть. Стоит предположить, что таким образом записываются сессии короче 0.01 мбайта. Такие нулевые значения подлежат замене на значение 1, в соответствии с условиями тарификации.\n",
    "\n",
    "\n",
    "3. messages - данные без пропусков. Столбец message_date требует замены типа данных на формат даты\n",
    "\n",
    "\n",
    "4. tariffs - данные без пропусков. Стоимость указана за гигабайт, тогда как траффик отображается в мегабайтах. Данное отличие не критично, исправления не требует. Учтем при расчетах\n",
    "\n",
    "\n",
    "5. users - пропуски в churn_date. Обусловлены тем, что люди все еще является абонентами Мегалайна. У тех, кто отключился - данные заполнены. reg_date и churn_date требуют замены типа данных на на формат даты. Для последующих подсчетов заменим пропуски в дате окончания контракта на 31 декабря 2018г.\n",
    "\n"
   ]
  },
  {
   "cell_type": "markdown",
   "metadata": {},
   "source": [
    "## 2. Подготовка данных"
   ]
  },
  {
   "cell_type": "markdown",
   "metadata": {},
   "source": [
    "### Приведение данных к нужным типам"
   ]
  },
  {
   "cell_type": "markdown",
   "metadata": {},
   "source": [
    "Требуют замены следующие столбцы в следующих датасетах:\n",
    "\n",
    "\n",
    " - calls:\n",
    "   - call_date - показывает дату совершения звонка. Однако тип данных - object. Необходим перевод в формат даты\n",
    "   - duration - данные записаны в виде дробных чисел, однако, по условиям тарификации, минута округляется до целого в большую сторону. Необходима замена типа данных на целочисленный.\n",
    "   \n",
    "   \n",
    " - internet:\n",
    "   - session_date - показывает дату совершения звонка. Однако тип данных - object. Необходим перевод в формат даты\n",
    "   - mb_used - данные записаны в виде дробных чисел, однако, по условиям тарификации, значения использованных данных округляются до целого в большую сторону. Необходима замена типа данных на целочисленный.\n",
    "\n",
    "\n",
    " - messages:\n",
    "   - message_date требует замены типа данных на формат даты\n",
    "\n",
    "\n",
    " - users:\n",
    "   - reg_date требует замены типа данных на формат даты\n",
    "   - churn_date требует замены типа данных на формат даты"
   ]
  },
  {
   "cell_type": "code",
   "execution_count": 11,
   "metadata": {},
   "outputs": [],
   "source": [
    "# функция замены типа данных в столбцах: \n",
    "    # data - датасет\n",
    "    # column_name - названия столбцов\n",
    "    # final_type - тип данных, на который необходимо поменять текущий тип\n",
    "        # DT - обозначение формата даты\n",
    "    # ceil - необходимо ли округление в большую сторону\n",
    "        # 'yes' - необходима\n",
    "        # 'no' / 'любой текст' - нет\n",
    "    \n",
    "def change_mean_type(data, column_name, final_type, ceil):\n",
    "    \n",
    "    #меняем тип данных, ошибки игнорируем (оставляем оригинальные значения - если значения в столбце не числовые)\n",
    "    if final_type == 'int':\n",
    "        \n",
    "        # переменная для сохранения текущего типа данных\n",
    "        temp_check_dtype = data[column_name].dtype\n",
    "        \n",
    "        if ceil == 'yes':\n",
    "            # округляем значение вверх (согласно условиям тарификации)\n",
    "            data[column_name] = np.ceil(data[column_name])\n",
    "            \n",
    "        else:\n",
    "            data[column_name] = data[column_name]\n",
    "        \n",
    "        # меняем тип данных\n",
    "        data[column_name] = data[column_name].astype(final_type, errors='ignore')\n",
    "        \n",
    "    elif final_type == 'DT':\n",
    "        # переменная для сохранения текущего типа данных\n",
    "        temp_check_dtype = data[column_name].dtype\n",
    "        \n",
    "        data[column_name] = pd.to_datetime(data[column_name])\n",
    "    \n",
    "    # если указанного формата нет в функции (можно добавить)\n",
    "    else:\n",
    "        print('Check your function. Wrong dtype')\n",
    "        \n",
    "    print()\n",
    "    print('Проверка замены типа данных в столбце', column_name)\n",
    "    print('Исходный тип данных:', temp_check_dtype)\n",
    "    print('Полученный тип данных:', data[column_name].dtype)\n",
    "    print()"
   ]
  },
  {
   "cell_type": "markdown",
   "metadata": {},
   "source": [
    "<font color='green'>Интересный подход."
   ]
  },
  {
   "cell_type": "code",
   "execution_count": 12,
   "metadata": {},
   "outputs": [
    {
     "name": "stdout",
     "output_type": "stream",
     "text": [
      "\n",
      "Проверка замены типа данных в столбце duration\n",
      "Исходный тип данных: float64\n",
      "Полученный тип данных: int64\n",
      "\n",
      "\n",
      "Проверка замены типа данных в столбце call_date\n",
      "Исходный тип данных: object\n",
      "Полученный тип данных: datetime64[ns]\n",
      "\n",
      "\n",
      "Проверка замены типа данных в столбце mb_used\n",
      "Исходный тип данных: float64\n",
      "Полученный тип данных: int64\n",
      "\n",
      "\n",
      "Проверка замены типа данных в столбце session_date\n",
      "Исходный тип данных: object\n",
      "Полученный тип данных: datetime64[ns]\n",
      "\n",
      "\n",
      "Проверка замены типа данных в столбце message_date\n",
      "Исходный тип данных: object\n",
      "Полученный тип данных: datetime64[ns]\n",
      "\n",
      "\n",
      "Проверка замены типа данных в столбце reg_date\n",
      "Исходный тип данных: object\n",
      "Полученный тип данных: datetime64[ns]\n",
      "\n",
      "\n",
      "Проверка замены типа данных в столбце churn_date\n",
      "Исходный тип данных: object\n",
      "Полученный тип данных: datetime64[ns]\n",
      "\n"
     ]
    }
   ],
   "source": [
    "# меняем типы данных в звонках\n",
    "change_mean_type(calls, 'duration', 'int', 'yes')\n",
    "change_mean_type(calls, 'call_date', 'DT', 'no')\n",
    "\n",
    "# меняем типы данных в наборе интернет\n",
    "change_mean_type(internet, 'mb_used', 'int', 'yes')\n",
    "change_mean_type(internet, 'session_date', 'DT', 'no')\n",
    "\n",
    "# меняем типы данных в сообщениях\n",
    "change_mean_type(messages, 'message_date', 'DT', 'no')\n",
    "\n",
    "# меняем типы данных в наборе пользователей\n",
    "change_mean_type(users, 'reg_date', 'DT', 'no')\n",
    "change_mean_type(users, 'churn_date', 'DT', 'no')"
   ]
  },
  {
   "cell_type": "markdown",
   "metadata": {},
   "source": [
    "#### Выводы"
   ]
  },
  {
   "cell_type": "markdown",
   "metadata": {},
   "source": [
    "Требовали замены типа данных с числа с плавающей точкой на целочисленный следующие столбцы в следующих датасетах:\n",
    "- calls: duration\n",
    "- internet: mb_used\n",
    "\n",
    "Здесь для замены была написана функция, включающая в себя метод замены типов данных ___.astype()___.\n",
    "\n",
    "Замена типа данных с  object на datetime была проведена:\n",
    "- calls: call_date\n",
    "- internet: session_date\n",
    "- messages: message_date\n",
    "- users: reg_date, churn_date\n",
    "\n",
    "Замена была проведена методом ___.to_datetime()___."
   ]
  },
  {
   "cell_type": "markdown",
   "metadata": {},
   "source": [
    "### Поиск и исправление ошибок в данных"
   ]
  },
  {
   "cell_type": "markdown",
   "metadata": {},
   "source": [
    "Проверим нулевые значения столбца duration набора данных calls. Выдвинуто предположение, что 0 в продолжительности - это неудавшийся исходящий звонок. Основываясь на проверке из прошлого раздела, сделаем еще одну проверку: если 0 присутствует у одного и того же пользователя, значит это не ошибка биллинга системы, а действительно неудавшийся исходящий."
   ]
  },
  {
   "cell_type": "markdown",
   "metadata": {},
   "source": [
    "Возьмем пользователя с ID 1000. Проверяем положительные значения длины разговора."
   ]
  },
  {
   "cell_type": "code",
   "execution_count": 13,
   "metadata": {},
   "outputs": [
    {
     "data": {
      "text/html": [
       "<div>\n",
       "<style scoped>\n",
       "    .dataframe tbody tr th:only-of-type {\n",
       "        vertical-align: middle;\n",
       "    }\n",
       "\n",
       "    .dataframe tbody tr th {\n",
       "        vertical-align: top;\n",
       "    }\n",
       "\n",
       "    .dataframe thead th {\n",
       "        text-align: right;\n",
       "    }\n",
       "</style>\n",
       "<table border=\"1\" class=\"dataframe\">\n",
       "  <thead>\n",
       "    <tr style=\"text-align: right;\">\n",
       "      <th></th>\n",
       "      <th>id</th>\n",
       "      <th>call_date</th>\n",
       "      <th>duration</th>\n",
       "      <th>user_id</th>\n",
       "    </tr>\n",
       "  </thead>\n",
       "  <tbody>\n",
       "    <tr>\n",
       "      <td>2</td>\n",
       "      <td>1000_2</td>\n",
       "      <td>2018-06-11</td>\n",
       "      <td>3</td>\n",
       "      <td>1000</td>\n",
       "    </tr>\n",
       "    <tr>\n",
       "      <td>3</td>\n",
       "      <td>1000_3</td>\n",
       "      <td>2018-09-21</td>\n",
       "      <td>14</td>\n",
       "      <td>1000</td>\n",
       "    </tr>\n",
       "    <tr>\n",
       "      <td>4</td>\n",
       "      <td>1000_4</td>\n",
       "      <td>2018-12-15</td>\n",
       "      <td>6</td>\n",
       "      <td>1000</td>\n",
       "    </tr>\n",
       "  </tbody>\n",
       "</table>\n",
       "</div>"
      ],
      "text/plain": [
       "       id  call_date  duration  user_id\n",
       "2  1000_2 2018-06-11         3     1000\n",
       "3  1000_3 2018-09-21        14     1000\n",
       "4  1000_4 2018-12-15         6     1000"
      ]
     },
     "execution_count": 13,
     "metadata": {},
     "output_type": "execute_result"
    }
   ],
   "source": [
    "calls[(calls['user_id'] == 1000) & (calls['duration'] > 0)].head(3)"
   ]
  },
  {
   "cell_type": "markdown",
   "metadata": {},
   "source": [
    "Проверяем нулевые значения:"
   ]
  },
  {
   "cell_type": "code",
   "execution_count": 14,
   "metadata": {},
   "outputs": [
    {
     "data": {
      "text/html": [
       "<div>\n",
       "<style scoped>\n",
       "    .dataframe tbody tr th:only-of-type {\n",
       "        vertical-align: middle;\n",
       "    }\n",
       "\n",
       "    .dataframe tbody tr th {\n",
       "        vertical-align: top;\n",
       "    }\n",
       "\n",
       "    .dataframe thead th {\n",
       "        text-align: right;\n",
       "    }\n",
       "</style>\n",
       "<table border=\"1\" class=\"dataframe\">\n",
       "  <thead>\n",
       "    <tr style=\"text-align: right;\">\n",
       "      <th></th>\n",
       "      <th>id</th>\n",
       "      <th>call_date</th>\n",
       "      <th>duration</th>\n",
       "      <th>user_id</th>\n",
       "    </tr>\n",
       "  </thead>\n",
       "  <tbody>\n",
       "    <tr>\n",
       "      <td>0</td>\n",
       "      <td>1000_0</td>\n",
       "      <td>2018-07-25</td>\n",
       "      <td>0</td>\n",
       "      <td>1000</td>\n",
       "    </tr>\n",
       "    <tr>\n",
       "      <td>1</td>\n",
       "      <td>1000_1</td>\n",
       "      <td>2018-08-17</td>\n",
       "      <td>0</td>\n",
       "      <td>1000</td>\n",
       "    </tr>\n",
       "    <tr>\n",
       "      <td>5</td>\n",
       "      <td>1000_5</td>\n",
       "      <td>2018-11-02</td>\n",
       "      <td>0</td>\n",
       "      <td>1000</td>\n",
       "    </tr>\n",
       "  </tbody>\n",
       "</table>\n",
       "</div>"
      ],
      "text/plain": [
       "       id  call_date  duration  user_id\n",
       "0  1000_0 2018-07-25         0     1000\n",
       "1  1000_1 2018-08-17         0     1000\n",
       "5  1000_5 2018-11-02         0     1000"
      ]
     },
     "execution_count": 14,
     "metadata": {},
     "output_type": "execute_result"
    }
   ],
   "source": [
    "calls[(calls['user_id'] == 1000) & (calls['duration'] == 0)].head(3)"
   ]
  },
  {
   "cell_type": "markdown",
   "metadata": {},
   "source": [
    "Гипотеза подтвердилась."
   ]
  },
  {
   "cell_type": "markdown",
   "metadata": {},
   "source": [
    "Нулевые значения столбца mb_used датасета internet увеличим на 1. Считаем, что интернет-сессия отображается в статистике, если она действительно началась. Тогда нулевые значения означают очень маленький размер информации (например, пуш)"
   ]
  },
  {
   "cell_type": "code",
   "execution_count": 15,
   "metadata": {},
   "outputs": [],
   "source": [
    "# замена 0 на 1\n",
    "internet['mb_used'].replace(0, 1, inplace = True)"
   ]
  },
  {
   "cell_type": "markdown",
   "metadata": {},
   "source": [
    "#### Вывод"
   ]
  },
  {
   "cell_type": "markdown",
   "metadata": {},
   "source": [
    "Были обнаружены значения 0 в столбце __duration__ набора данных ___calls___. Скорее всего, это несостоявшиеся разговоры. Были проверены данные по длительности разговора меньше 0.5 минут и больше 0. Такие данные представлены без ошибок. Также для отдельно взятого абонента было проверено наличие звонков с __положительной__ продолжительностью и __нулевой__. Для такого абонента существуют записи и с нулевой и положительной длительностью разговора. Отсюда можно сделать вывод, что наличие нулей не является ошибкой выгрузки данных, но  показывает несостоявшиеся исходящие - собеседник не взял трубку, было занято и т.п.\n",
    "\n",
    "\n",
    "Нулевые значения столбца __mb_used__ датасета ___internet___ заменяем значением 1. В соответствии с условиями тарифов, любая интернет-сессия округляется в большую сторону. То, что имеется запись о сессии, количество переданных данных в которой равно 0, скорее всего говорит, что сессия была, но данных было передано очень мало. Условия тарификации предполагают округление в большую сторону до мегабайта, поэтому заменили 0 на 1 методом ___.replace()___.\n",
    "\n",
    "\n",
    "Полученные данные по количеству минут в наборе звонков и потраченных мегабайт в наборе интернета были представлены в виде десятичных дробей (тип данных float). В предыдущем разделе была проведена замена типа данных на целочисленный (integer). Перед этим данные были округлены в большую сторону до мегабайта методом ___.ceil()___ библиотеки __numpy__.\n",
    "\n",
    "\n",
    "Датасет __users__ содержит пропущенные данные в столбце ___churn_date___, так как этот столбец показывает дату окончания договора, соответственно, абоненты с пропусками еще имеют действующий договор с оператором. Для последующих подсчетов заменили пропуски в дате окончания контракта на 31 декабря 2018г."
   ]
  },
  {
   "cell_type": "markdown",
   "metadata": {},
   "source": [
    "### Подсчет для каждого пользователя"
   ]
  },
  {
   "cell_type": "markdown",
   "metadata": {},
   "source": [
    "#### Количество сделанных звонков и израсходованных минут разговора по месяцам"
   ]
  },
  {
   "cell_type": "markdown",
   "metadata": {},
   "source": [
    "Запишем функцию для формирования сводной таблицы"
   ]
  },
  {
   "cell_type": "code",
   "execution_count": 16,
   "metadata": {},
   "outputs": [],
   "source": [
    "# функция создания сводной таблицы по месяцам для каждого пользователя\n",
    "    # data - датафрейм\n",
    "    # duration_column - столбец с продолжительностями разговора, либо интернет сессии\n",
    "        # для датафрейма messages указать любой текст\n",
    "    # date_column - столбец с датой\n",
    "    # name_of_df - название датафрейма в текстовом виде\n",
    "    \n",
    "def make_pivot_per_month_by_users(data, duration_column, date_column, name_of_df):\n",
    "    \n",
    "    # проверка на соответствие условию\n",
    "    if (name_of_df == 'calls') | (name_of_df == 'internet'):\n",
    "        \n",
    "        # формирование сводной таблицы для calls и internet\n",
    "        temp_pivot = data.pivot_table(index=[data[date_column].dt.month, 'user_id'],\n",
    "                                                values=[duration_column, 'id'],\n",
    "                                                aggfunc={'id': 'count',\n",
    "                                                         duration_column: 'sum'})[[duration_column, 'id']]\n",
    "        \n",
    "        # условие для переименования столбцов в зависимости от датафрейма\n",
    "        if name_of_df == 'calls':\n",
    "            temp_pivot.columns = ['minutes_per_month', 'calls_per_month']\n",
    "    \n",
    "        elif name_of_df == 'internet':\n",
    "            temp_pivot.columns = ['mb_per_month', 'sessions_per_month']\n",
    "        \n",
    "    elif name_of_df == 'messages':\n",
    "        \n",
    "        # формирование сводной таблицы для messages      \n",
    "        temp_pivot = data.pivot_table(index=[data[date_column].dt.month, 'user_id'],\n",
    "                                                values='id',\n",
    "                                                aggfunc='count')\n",
    "        \n",
    "        \n",
    "        # переименование столбца\n",
    "        temp_pivot.columns = ['messages_per_month']\n",
    "    \n",
    "    # переименования индексов: месяц, user_id\n",
    "    temp_pivot.index.names = ['month', 'user_id']\n",
    "    \n",
    "    return temp_pivot"
   ]
  },
  {
   "cell_type": "markdown",
   "metadata": {},
   "source": [
    "Формируем сводную таблицу звонков"
   ]
  },
  {
   "cell_type": "code",
   "execution_count": 17,
   "metadata": {},
   "outputs": [
    {
     "data": {
      "text/html": [
       "<div>\n",
       "<style scoped>\n",
       "    .dataframe tbody tr th:only-of-type {\n",
       "        vertical-align: middle;\n",
       "    }\n",
       "\n",
       "    .dataframe tbody tr th {\n",
       "        vertical-align: top;\n",
       "    }\n",
       "\n",
       "    .dataframe thead th {\n",
       "        text-align: right;\n",
       "    }\n",
       "</style>\n",
       "<table border=\"1\" class=\"dataframe\">\n",
       "  <thead>\n",
       "    <tr style=\"text-align: right;\">\n",
       "      <th></th>\n",
       "      <th></th>\n",
       "      <th>minutes_per_month</th>\n",
       "      <th>calls_per_month</th>\n",
       "    </tr>\n",
       "    <tr>\n",
       "      <th>month</th>\n",
       "      <th>user_id</th>\n",
       "      <th></th>\n",
       "      <th></th>\n",
       "    </tr>\n",
       "  </thead>\n",
       "  <tbody>\n",
       "    <tr>\n",
       "      <td rowspan=\"5\" valign=\"top\">1</td>\n",
       "      <td>1005</td>\n",
       "      <td>95</td>\n",
       "      <td>15</td>\n",
       "    </tr>\n",
       "    <tr>\n",
       "      <td>1032</td>\n",
       "      <td>380</td>\n",
       "      <td>61</td>\n",
       "    </tr>\n",
       "    <tr>\n",
       "      <td>1045</td>\n",
       "      <td>9</td>\n",
       "      <td>1</td>\n",
       "    </tr>\n",
       "    <tr>\n",
       "      <td>1055</td>\n",
       "      <td>551</td>\n",
       "      <td>64</td>\n",
       "    </tr>\n",
       "    <tr>\n",
       "      <td>1071</td>\n",
       "      <td>194</td>\n",
       "      <td>24</td>\n",
       "    </tr>\n",
       "    <tr>\n",
       "      <td>...</td>\n",
       "      <td>...</td>\n",
       "      <td>...</td>\n",
       "      <td>...</td>\n",
       "    </tr>\n",
       "    <tr>\n",
       "      <td rowspan=\"5\" valign=\"top\">12</td>\n",
       "      <td>1494</td>\n",
       "      <td>418</td>\n",
       "      <td>62</td>\n",
       "    </tr>\n",
       "    <tr>\n",
       "      <td>1495</td>\n",
       "      <td>1031</td>\n",
       "      <td>155</td>\n",
       "    </tr>\n",
       "    <tr>\n",
       "      <td>1496</td>\n",
       "      <td>518</td>\n",
       "      <td>80</td>\n",
       "    </tr>\n",
       "    <tr>\n",
       "      <td>1497</td>\n",
       "      <td>545</td>\n",
       "      <td>71</td>\n",
       "    </tr>\n",
       "    <tr>\n",
       "      <td>1499</td>\n",
       "      <td>492</td>\n",
       "      <td>69</td>\n",
       "    </tr>\n",
       "  </tbody>\n",
       "</table>\n",
       "<p>3174 rows × 2 columns</p>\n",
       "</div>"
      ],
      "text/plain": [
       "               minutes_per_month  calls_per_month\n",
       "month user_id                                    \n",
       "1     1005                    95               15\n",
       "      1032                   380               61\n",
       "      1045                     9                1\n",
       "      1055                   551               64\n",
       "      1071                   194               24\n",
       "...                          ...              ...\n",
       "12    1494                   418               62\n",
       "      1495                  1031              155\n",
       "      1496                   518               80\n",
       "      1497                   545               71\n",
       "      1499                   492               69\n",
       "\n",
       "[3174 rows x 2 columns]"
      ]
     },
     "execution_count": 17,
     "metadata": {},
     "output_type": "execute_result"
    }
   ],
   "source": [
    "# сводная таблица для звонков\n",
    "calls_and_minutes_per_month = make_pivot_per_month_by_users(calls, \n",
    "                                                            'duration', \n",
    "                                                            'call_date', \n",
    "                                                            'calls')\n",
    "calls_and_minutes_per_month"
   ]
  },
  {
   "cell_type": "markdown",
   "metadata": {},
   "source": [
    "#### Количество отправленных сообщений по месяцам"
   ]
  },
  {
   "cell_type": "code",
   "execution_count": 18,
   "metadata": {},
   "outputs": [
    {
     "data": {
      "text/html": [
       "<div>\n",
       "<style scoped>\n",
       "    .dataframe tbody tr th:only-of-type {\n",
       "        vertical-align: middle;\n",
       "    }\n",
       "\n",
       "    .dataframe tbody tr th {\n",
       "        vertical-align: top;\n",
       "    }\n",
       "\n",
       "    .dataframe thead th {\n",
       "        text-align: right;\n",
       "    }\n",
       "</style>\n",
       "<table border=\"1\" class=\"dataframe\">\n",
       "  <thead>\n",
       "    <tr style=\"text-align: right;\">\n",
       "      <th></th>\n",
       "      <th></th>\n",
       "      <th>messages_per_month</th>\n",
       "    </tr>\n",
       "    <tr>\n",
       "      <th>month</th>\n",
       "      <th>user_id</th>\n",
       "      <th></th>\n",
       "    </tr>\n",
       "  </thead>\n",
       "  <tbody>\n",
       "    <tr>\n",
       "      <td rowspan=\"5\" valign=\"top\">1</td>\n",
       "      <td>1005</td>\n",
       "      <td>7</td>\n",
       "    </tr>\n",
       "    <tr>\n",
       "      <td>1032</td>\n",
       "      <td>38</td>\n",
       "    </tr>\n",
       "    <tr>\n",
       "      <td>1045</td>\n",
       "      <td>5</td>\n",
       "    </tr>\n",
       "    <tr>\n",
       "      <td>1055</td>\n",
       "      <td>30</td>\n",
       "    </tr>\n",
       "    <tr>\n",
       "      <td>1071</td>\n",
       "      <td>16</td>\n",
       "    </tr>\n",
       "    <tr>\n",
       "      <td>...</td>\n",
       "      <td>...</td>\n",
       "      <td>...</td>\n",
       "    </tr>\n",
       "    <tr>\n",
       "      <td rowspan=\"5\" valign=\"top\">12</td>\n",
       "      <td>1493</td>\n",
       "      <td>78</td>\n",
       "    </tr>\n",
       "    <tr>\n",
       "      <td>1495</td>\n",
       "      <td>84</td>\n",
       "    </tr>\n",
       "    <tr>\n",
       "      <td>1496</td>\n",
       "      <td>51</td>\n",
       "    </tr>\n",
       "    <tr>\n",
       "      <td>1497</td>\n",
       "      <td>17</td>\n",
       "    </tr>\n",
       "    <tr>\n",
       "      <td>1499</td>\n",
       "      <td>66</td>\n",
       "    </tr>\n",
       "  </tbody>\n",
       "</table>\n",
       "<p>2717 rows × 1 columns</p>\n",
       "</div>"
      ],
      "text/plain": [
       "               messages_per_month\n",
       "month user_id                    \n",
       "1     1005                      7\n",
       "      1032                     38\n",
       "      1045                      5\n",
       "      1055                     30\n",
       "      1071                     16\n",
       "...                           ...\n",
       "12    1493                     78\n",
       "      1495                     84\n",
       "      1496                     51\n",
       "      1497                     17\n",
       "      1499                     66\n",
       "\n",
       "[2717 rows x 1 columns]"
      ]
     },
     "execution_count": 18,
     "metadata": {},
     "output_type": "execute_result"
    }
   ],
   "source": [
    "# сводная таблица для сообщений\n",
    "mes_per_month = make_pivot_per_month_by_users(messages, \n",
    "                                              'some_text', \n",
    "                                              'message_date', \n",
    "                                              'messages')\n",
    "mes_per_month"
   ]
  },
  {
   "cell_type": "markdown",
   "metadata": {},
   "source": [
    "#### Объем израсходованного интернет-трафика по месяцам"
   ]
  },
  {
   "cell_type": "code",
   "execution_count": 19,
   "metadata": {},
   "outputs": [
    {
     "data": {
      "text/html": [
       "<div>\n",
       "<style scoped>\n",
       "    .dataframe tbody tr th:only-of-type {\n",
       "        vertical-align: middle;\n",
       "    }\n",
       "\n",
       "    .dataframe tbody tr th {\n",
       "        vertical-align: top;\n",
       "    }\n",
       "\n",
       "    .dataframe thead th {\n",
       "        text-align: right;\n",
       "    }\n",
       "</style>\n",
       "<table border=\"1\" class=\"dataframe\">\n",
       "  <thead>\n",
       "    <tr style=\"text-align: right;\">\n",
       "      <th></th>\n",
       "      <th></th>\n",
       "      <th>mb_per_month</th>\n",
       "      <th>sessions_per_month</th>\n",
       "    </tr>\n",
       "    <tr>\n",
       "      <th>month</th>\n",
       "      <th>user_id</th>\n",
       "      <th></th>\n",
       "      <th></th>\n",
       "    </tr>\n",
       "  </thead>\n",
       "  <tbody>\n",
       "    <tr>\n",
       "      <td rowspan=\"5\" valign=\"top\">1</td>\n",
       "      <td>1005</td>\n",
       "      <td>2730</td>\n",
       "      <td>6</td>\n",
       "    </tr>\n",
       "    <tr>\n",
       "      <td>1032</td>\n",
       "      <td>24158</td>\n",
       "      <td>62</td>\n",
       "    </tr>\n",
       "    <tr>\n",
       "      <td>1045</td>\n",
       "      <td>2348</td>\n",
       "      <td>5</td>\n",
       "    </tr>\n",
       "    <tr>\n",
       "      <td>1055</td>\n",
       "      <td>17115</td>\n",
       "      <td>47</td>\n",
       "    </tr>\n",
       "    <tr>\n",
       "      <td>1071</td>\n",
       "      <td>15625</td>\n",
       "      <td>40</td>\n",
       "    </tr>\n",
       "    <tr>\n",
       "      <td>...</td>\n",
       "      <td>...</td>\n",
       "      <td>...</td>\n",
       "      <td>...</td>\n",
       "    </tr>\n",
       "    <tr>\n",
       "      <td rowspan=\"5\" valign=\"top\">12</td>\n",
       "      <td>1494</td>\n",
       "      <td>17650</td>\n",
       "      <td>49</td>\n",
       "    </tr>\n",
       "    <tr>\n",
       "      <td>1495</td>\n",
       "      <td>23451</td>\n",
       "      <td>47</td>\n",
       "    </tr>\n",
       "    <tr>\n",
       "      <td>1496</td>\n",
       "      <td>20770</td>\n",
       "      <td>68</td>\n",
       "    </tr>\n",
       "    <tr>\n",
       "      <td>1497</td>\n",
       "      <td>19946</td>\n",
       "      <td>47</td>\n",
       "    </tr>\n",
       "    <tr>\n",
       "      <td>1499</td>\n",
       "      <td>13082</td>\n",
       "      <td>45</td>\n",
       "    </tr>\n",
       "  </tbody>\n",
       "</table>\n",
       "<p>3203 rows × 2 columns</p>\n",
       "</div>"
      ],
      "text/plain": [
       "               mb_per_month  sessions_per_month\n",
       "month user_id                                  \n",
       "1     1005             2730                   6\n",
       "      1032            24158                  62\n",
       "      1045             2348                   5\n",
       "      1055            17115                  47\n",
       "      1071            15625                  40\n",
       "...                     ...                 ...\n",
       "12    1494            17650                  49\n",
       "      1495            23451                  47\n",
       "      1496            20770                  68\n",
       "      1497            19946                  47\n",
       "      1499            13082                  45\n",
       "\n",
       "[3203 rows x 2 columns]"
      ]
     },
     "execution_count": 19,
     "metadata": {},
     "output_type": "execute_result"
    }
   ],
   "source": [
    "# сводная таблица для интернета\n",
    "internet_per_month = make_pivot_per_month_by_users(internet,\n",
    "                                                   'mb_used',\n",
    "                                                   'session_date',\n",
    "                                                   'internet')\n",
    "internet_per_month"
   ]
  },
  {
   "cell_type": "markdown",
   "metadata": {},
   "source": [
    "#### Помесячная выручка с каждого пользователя"
   ]
  },
  {
   "cell_type": "markdown",
   "metadata": {},
   "source": [
    "Объединяем данные из датафреймов количества звонков, интернета и сообщений по месяцам"
   ]
  },
  {
   "cell_type": "code",
   "execution_count": 20,
   "metadata": {},
   "outputs": [],
   "source": [
    "statistics_merged = (\n",
    "    calls_and_minutes_per_month.join([mes_per_month, internet_per_month], \n",
    "                                     how='left')\n",
    ")"
   ]
  },
  {
   "cell_type": "markdown",
   "metadata": {},
   "source": [
    "Заполняем пустые значения нулями. Пустые значения появились из-за того, что пользователь не пользовался данным видом услуг в данном месяце. Следовательно, замена на 0 оправдана."
   ]
  },
  {
   "cell_type": "code",
   "execution_count": 21,
   "metadata": {},
   "outputs": [],
   "source": [
    "statistics_merged.fillna(0, inplace=True)"
   ]
  },
  {
   "cell_type": "markdown",
   "metadata": {},
   "source": [
    "Меняем типы данных в сводной таблице на целочисленные"
   ]
  },
  {
   "cell_type": "code",
   "execution_count": 22,
   "metadata": {},
   "outputs": [
    {
     "name": "stdout",
     "output_type": "stream",
     "text": [
      "\n",
      "Проверка замены типа данных в столбце minutes_per_month\n",
      "Исходный тип данных: float64\n",
      "Полученный тип данных: int64\n",
      "\n",
      "\n",
      "Проверка замены типа данных в столбце calls_per_month\n",
      "Исходный тип данных: float64\n",
      "Полученный тип данных: int64\n",
      "\n",
      "\n",
      "Проверка замены типа данных в столбце messages_per_month\n",
      "Исходный тип данных: float64\n",
      "Полученный тип данных: int64\n",
      "\n",
      "\n",
      "Проверка замены типа данных в столбце mb_per_month\n",
      "Исходный тип данных: float64\n",
      "Полученный тип данных: int64\n",
      "\n",
      "\n",
      "Проверка замены типа данных в столбце sessions_per_month\n",
      "Исходный тип данных: float64\n",
      "Полученный тип данных: int64\n",
      "\n"
     ]
    }
   ],
   "source": [
    "for column_name in statistics_merged.columns:\n",
    "    change_mean_type(statistics_merged, column_name, 'int', 'no')"
   ]
  },
  {
   "cell_type": "markdown",
   "metadata": {},
   "source": [
    "Подготавливаем таблицу со значениями тарифов к слиянию: назначаем индексом значение tariff_name. Переименовываем в tariff для соответствия конечному датафрейму"
   ]
  },
  {
   "cell_type": "code",
   "execution_count": 23,
   "metadata": {},
   "outputs": [],
   "source": [
    "tariffs.set_index('tariff_name', inplace=True)   # назначем индекс\n",
    "tariffs.index.name = 'tariff'                    # переименовываем"
   ]
  },
  {
   "cell_type": "markdown",
   "metadata": {},
   "source": [
    "Склеиваем датафреймы пользователей и тарифов"
   ]
  },
  {
   "cell_type": "code",
   "execution_count": 24,
   "metadata": {},
   "outputs": [],
   "source": [
    "users_with_tariffs = users.merge(tariffs, on='tariff')\n",
    "\n",
    "users_with_tariffs.set_index('user_id', inplace=True)   # назначем индекс"
   ]
  },
  {
   "cell_type": "markdown",
   "metadata": {},
   "source": [
    "Формируем конечную таблицу"
   ]
  },
  {
   "cell_type": "code",
   "execution_count": 25,
   "metadata": {},
   "outputs": [],
   "source": [
    "statistics_merged = (\n",
    "    statistics_merged.join(users_with_tariffs.loc[:, ['tariff', 'messages_included', 'mg_per_month_included', \n",
    "                                 'minutes_included', 'rub_monthly_fee', 'rub_per_gb', \n",
    "                                 'rub_per_message', 'rub_per_minute', 'city', 'reg_date',\n",
    "                                                     'churn_date']], how='inner')\n",
    ") "
   ]
  },
  {
   "cell_type": "code",
   "execution_count": 26,
   "metadata": {},
   "outputs": [
    {
     "data": {
      "text/html": [
       "<div>\n",
       "<style scoped>\n",
       "    .dataframe tbody tr th:only-of-type {\n",
       "        vertical-align: middle;\n",
       "    }\n",
       "\n",
       "    .dataframe tbody tr th {\n",
       "        vertical-align: top;\n",
       "    }\n",
       "\n",
       "    .dataframe thead th {\n",
       "        text-align: right;\n",
       "    }\n",
       "</style>\n",
       "<table border=\"1\" class=\"dataframe\">\n",
       "  <thead>\n",
       "    <tr style=\"text-align: right;\">\n",
       "      <th></th>\n",
       "      <th></th>\n",
       "      <th>minutes_per_month</th>\n",
       "      <th>calls_per_month</th>\n",
       "      <th>messages_per_month</th>\n",
       "      <th>mb_per_month</th>\n",
       "      <th>sessions_per_month</th>\n",
       "      <th>tariff</th>\n",
       "      <th>messages_included</th>\n",
       "      <th>mg_per_month_included</th>\n",
       "      <th>minutes_included</th>\n",
       "      <th>rub_monthly_fee</th>\n",
       "      <th>rub_per_gb</th>\n",
       "      <th>rub_per_message</th>\n",
       "      <th>rub_per_minute</th>\n",
       "      <th>city</th>\n",
       "      <th>reg_date</th>\n",
       "      <th>churn_date</th>\n",
       "    </tr>\n",
       "    <tr>\n",
       "      <th>month</th>\n",
       "      <th>user_id</th>\n",
       "      <th></th>\n",
       "      <th></th>\n",
       "      <th></th>\n",
       "      <th></th>\n",
       "      <th></th>\n",
       "      <th></th>\n",
       "      <th></th>\n",
       "      <th></th>\n",
       "      <th></th>\n",
       "      <th></th>\n",
       "      <th></th>\n",
       "      <th></th>\n",
       "      <th></th>\n",
       "      <th></th>\n",
       "      <th></th>\n",
       "      <th></th>\n",
       "    </tr>\n",
       "  </thead>\n",
       "  <tbody>\n",
       "    <tr>\n",
       "      <td rowspan=\"5\" valign=\"top\">1</td>\n",
       "      <td>1005</td>\n",
       "      <td>95</td>\n",
       "      <td>15</td>\n",
       "      <td>7</td>\n",
       "      <td>2730</td>\n",
       "      <td>6</td>\n",
       "      <td>smart</td>\n",
       "      <td>50</td>\n",
       "      <td>15360</td>\n",
       "      <td>500</td>\n",
       "      <td>550</td>\n",
       "      <td>200</td>\n",
       "      <td>3</td>\n",
       "      <td>3</td>\n",
       "      <td>Набережные Челны</td>\n",
       "      <td>2018-01-25</td>\n",
       "      <td>2018-12-31</td>\n",
       "    </tr>\n",
       "    <tr>\n",
       "      <td>1032</td>\n",
       "      <td>380</td>\n",
       "      <td>61</td>\n",
       "      <td>38</td>\n",
       "      <td>24158</td>\n",
       "      <td>62</td>\n",
       "      <td>smart</td>\n",
       "      <td>50</td>\n",
       "      <td>15360</td>\n",
       "      <td>500</td>\n",
       "      <td>550</td>\n",
       "      <td>200</td>\n",
       "      <td>3</td>\n",
       "      <td>3</td>\n",
       "      <td>Ульяновск</td>\n",
       "      <td>2018-01-04</td>\n",
       "      <td>2018-12-31</td>\n",
       "    </tr>\n",
       "    <tr>\n",
       "      <td>1045</td>\n",
       "      <td>9</td>\n",
       "      <td>1</td>\n",
       "      <td>5</td>\n",
       "      <td>2348</td>\n",
       "      <td>5</td>\n",
       "      <td>smart</td>\n",
       "      <td>50</td>\n",
       "      <td>15360</td>\n",
       "      <td>500</td>\n",
       "      <td>550</td>\n",
       "      <td>200</td>\n",
       "      <td>3</td>\n",
       "      <td>3</td>\n",
       "      <td>Улан-Удэ</td>\n",
       "      <td>2018-01-30</td>\n",
       "      <td>2018-12-31</td>\n",
       "    </tr>\n",
       "    <tr>\n",
       "      <td>1055</td>\n",
       "      <td>551</td>\n",
       "      <td>64</td>\n",
       "      <td>30</td>\n",
       "      <td>17115</td>\n",
       "      <td>47</td>\n",
       "      <td>smart</td>\n",
       "      <td>50</td>\n",
       "      <td>15360</td>\n",
       "      <td>500</td>\n",
       "      <td>550</td>\n",
       "      <td>200</td>\n",
       "      <td>3</td>\n",
       "      <td>3</td>\n",
       "      <td>Казань</td>\n",
       "      <td>2018-01-02</td>\n",
       "      <td>2018-12-31</td>\n",
       "    </tr>\n",
       "    <tr>\n",
       "      <td>1071</td>\n",
       "      <td>194</td>\n",
       "      <td>24</td>\n",
       "      <td>16</td>\n",
       "      <td>15625</td>\n",
       "      <td>40</td>\n",
       "      <td>smart</td>\n",
       "      <td>50</td>\n",
       "      <td>15360</td>\n",
       "      <td>500</td>\n",
       "      <td>550</td>\n",
       "      <td>200</td>\n",
       "      <td>3</td>\n",
       "      <td>3</td>\n",
       "      <td>Омск</td>\n",
       "      <td>2018-01-09</td>\n",
       "      <td>2018-08-31</td>\n",
       "    </tr>\n",
       "    <tr>\n",
       "      <td>...</td>\n",
       "      <td>...</td>\n",
       "      <td>...</td>\n",
       "      <td>...</td>\n",
       "      <td>...</td>\n",
       "      <td>...</td>\n",
       "      <td>...</td>\n",
       "      <td>...</td>\n",
       "      <td>...</td>\n",
       "      <td>...</td>\n",
       "      <td>...</td>\n",
       "      <td>...</td>\n",
       "      <td>...</td>\n",
       "      <td>...</td>\n",
       "      <td>...</td>\n",
       "      <td>...</td>\n",
       "      <td>...</td>\n",
       "      <td>...</td>\n",
       "    </tr>\n",
       "    <tr>\n",
       "      <td rowspan=\"5\" valign=\"top\">12</td>\n",
       "      <td>1494</td>\n",
       "      <td>418</td>\n",
       "      <td>62</td>\n",
       "      <td>0</td>\n",
       "      <td>17650</td>\n",
       "      <td>49</td>\n",
       "      <td>smart</td>\n",
       "      <td>50</td>\n",
       "      <td>15360</td>\n",
       "      <td>500</td>\n",
       "      <td>550</td>\n",
       "      <td>200</td>\n",
       "      <td>3</td>\n",
       "      <td>3</td>\n",
       "      <td>Омск</td>\n",
       "      <td>2018-08-17</td>\n",
       "      <td>2018-12-31</td>\n",
       "    </tr>\n",
       "    <tr>\n",
       "      <td>1495</td>\n",
       "      <td>1031</td>\n",
       "      <td>155</td>\n",
       "      <td>84</td>\n",
       "      <td>23451</td>\n",
       "      <td>47</td>\n",
       "      <td>ultra</td>\n",
       "      <td>1000</td>\n",
       "      <td>30720</td>\n",
       "      <td>3000</td>\n",
       "      <td>1950</td>\n",
       "      <td>150</td>\n",
       "      <td>1</td>\n",
       "      <td>1</td>\n",
       "      <td>Иркутск</td>\n",
       "      <td>2018-08-28</td>\n",
       "      <td>2018-12-31</td>\n",
       "    </tr>\n",
       "    <tr>\n",
       "      <td>1496</td>\n",
       "      <td>518</td>\n",
       "      <td>80</td>\n",
       "      <td>51</td>\n",
       "      <td>20770</td>\n",
       "      <td>68</td>\n",
       "      <td>smart</td>\n",
       "      <td>50</td>\n",
       "      <td>15360</td>\n",
       "      <td>500</td>\n",
       "      <td>550</td>\n",
       "      <td>200</td>\n",
       "      <td>3</td>\n",
       "      <td>3</td>\n",
       "      <td>Вологда</td>\n",
       "      <td>2018-01-27</td>\n",
       "      <td>2018-12-31</td>\n",
       "    </tr>\n",
       "    <tr>\n",
       "      <td>1497</td>\n",
       "      <td>545</td>\n",
       "      <td>71</td>\n",
       "      <td>17</td>\n",
       "      <td>19946</td>\n",
       "      <td>47</td>\n",
       "      <td>smart</td>\n",
       "      <td>50</td>\n",
       "      <td>15360</td>\n",
       "      <td>500</td>\n",
       "      <td>550</td>\n",
       "      <td>200</td>\n",
       "      <td>3</td>\n",
       "      <td>3</td>\n",
       "      <td>Челябинск</td>\n",
       "      <td>2018-10-09</td>\n",
       "      <td>2018-12-31</td>\n",
       "    </tr>\n",
       "    <tr>\n",
       "      <td>1499</td>\n",
       "      <td>492</td>\n",
       "      <td>69</td>\n",
       "      <td>66</td>\n",
       "      <td>13082</td>\n",
       "      <td>45</td>\n",
       "      <td>smart</td>\n",
       "      <td>50</td>\n",
       "      <td>15360</td>\n",
       "      <td>500</td>\n",
       "      <td>550</td>\n",
       "      <td>200</td>\n",
       "      <td>3</td>\n",
       "      <td>3</td>\n",
       "      <td>Пермь</td>\n",
       "      <td>2018-09-27</td>\n",
       "      <td>2018-12-31</td>\n",
       "    </tr>\n",
       "  </tbody>\n",
       "</table>\n",
       "<p>3174 rows × 16 columns</p>\n",
       "</div>"
      ],
      "text/plain": [
       "               minutes_per_month  calls_per_month  messages_per_month  \\\n",
       "month user_id                                                           \n",
       "1     1005                    95               15                   7   \n",
       "      1032                   380               61                  38   \n",
       "      1045                     9                1                   5   \n",
       "      1055                   551               64                  30   \n",
       "      1071                   194               24                  16   \n",
       "...                          ...              ...                 ...   \n",
       "12    1494                   418               62                   0   \n",
       "      1495                  1031              155                  84   \n",
       "      1496                   518               80                  51   \n",
       "      1497                   545               71                  17   \n",
       "      1499                   492               69                  66   \n",
       "\n",
       "               mb_per_month  sessions_per_month tariff  messages_included  \\\n",
       "month user_id                                                               \n",
       "1     1005             2730                   6  smart                 50   \n",
       "      1032            24158                  62  smart                 50   \n",
       "      1045             2348                   5  smart                 50   \n",
       "      1055            17115                  47  smart                 50   \n",
       "      1071            15625                  40  smart                 50   \n",
       "...                     ...                 ...    ...                ...   \n",
       "12    1494            17650                  49  smart                 50   \n",
       "      1495            23451                  47  ultra               1000   \n",
       "      1496            20770                  68  smart                 50   \n",
       "      1497            19946                  47  smart                 50   \n",
       "      1499            13082                  45  smart                 50   \n",
       "\n",
       "               mg_per_month_included  minutes_included  rub_monthly_fee  \\\n",
       "month user_id                                                             \n",
       "1     1005                     15360               500              550   \n",
       "      1032                     15360               500              550   \n",
       "      1045                     15360               500              550   \n",
       "      1055                     15360               500              550   \n",
       "      1071                     15360               500              550   \n",
       "...                              ...               ...              ...   \n",
       "12    1494                     15360               500              550   \n",
       "      1495                     30720              3000             1950   \n",
       "      1496                     15360               500              550   \n",
       "      1497                     15360               500              550   \n",
       "      1499                     15360               500              550   \n",
       "\n",
       "               rub_per_gb  rub_per_message  rub_per_minute              city  \\\n",
       "month user_id                                                                  \n",
       "1     1005            200                3               3  Набережные Челны   \n",
       "      1032            200                3               3         Ульяновск   \n",
       "      1045            200                3               3          Улан-Удэ   \n",
       "      1055            200                3               3            Казань   \n",
       "      1071            200                3               3              Омск   \n",
       "...                   ...              ...             ...               ...   \n",
       "12    1494            200                3               3              Омск   \n",
       "      1495            150                1               1           Иркутск   \n",
       "      1496            200                3               3           Вологда   \n",
       "      1497            200                3               3         Челябинск   \n",
       "      1499            200                3               3             Пермь   \n",
       "\n",
       "                reg_date churn_date  \n",
       "month user_id                        \n",
       "1     1005    2018-01-25 2018-12-31  \n",
       "      1032    2018-01-04 2018-12-31  \n",
       "      1045    2018-01-30 2018-12-31  \n",
       "      1055    2018-01-02 2018-12-31  \n",
       "      1071    2018-01-09 2018-08-31  \n",
       "...                  ...        ...  \n",
       "12    1494    2018-08-17 2018-12-31  \n",
       "      1495    2018-08-28 2018-12-31  \n",
       "      1496    2018-01-27 2018-12-31  \n",
       "      1497    2018-10-09 2018-12-31  \n",
       "      1499    2018-09-27 2018-12-31  \n",
       "\n",
       "[3174 rows x 16 columns]"
      ]
     },
     "execution_count": 26,
     "metadata": {},
     "output_type": "execute_result"
    }
   ],
   "source": [
    "statistics_merged"
   ]
  },
  {
   "cell_type": "markdown",
   "metadata": {},
   "source": [
    "Считаем помесячную выручку для каждого пользователя по показателям (минуты, мегабайты, сообщения)."
   ]
  },
  {
   "cell_type": "code",
   "execution_count": 27,
   "metadata": {},
   "outputs": [],
   "source": [
    "# функция для подсчета выручки по показателям \n",
    "    # indicator - показатель (minutes, message, internet)\n",
    "\n",
    "def check_for_out_of_limit(indicator):\n",
    "    \n",
    "    # для минут\n",
    "    if indicator == 'minutes':                                                  \n",
    "        statistics_merged['check_out_of_limit'] = (\n",
    "            statistics_merged['minutes_per_month'] - \n",
    "            statistics_merged['minutes_included']\n",
    "        )\n",
    "        \n",
    "        # потрачено больше пакета\n",
    "        rule_upper_0 = (statistics_merged['check_out_of_limit'] > 0)\n",
    "                   \n",
    "        statistics_merged.loc[rule_upper_0, 'amount_for_minutes'] = (\n",
    "            statistics_merged[rule_upper_0]['check_out_of_limit'] *\n",
    "            statistics_merged[rule_upper_0]['rub_per_minute']                \n",
    "            )\n",
    "        \n",
    "        # потрачено меньше пакета\n",
    "        rule_under_0 = (statistics_merged['check_out_of_limit'] <= 0)\n",
    "        \n",
    "        statistics_merged.loc[rule_under_0, 'amount_for_minutes'] = 0\n",
    "    \n",
    "    # для сообщений\n",
    "    if indicator == 'message':                                               \n",
    "        statistics_merged['check_out_of_limit'] = (\n",
    "            statistics_merged['messages_per_month'] - \n",
    "            statistics_merged['messages_included']\n",
    "        )\n",
    "        \n",
    "        # потрачено больше пакета\n",
    "        rule_upper_0 = (statistics_merged['check_out_of_limit'] > 0)\n",
    "                   \n",
    "        statistics_merged.loc[rule_upper_0, 'amount_for_messages'] = (\n",
    "            statistics_merged[rule_upper_0]['check_out_of_limit'] *\n",
    "            statistics_merged[rule_upper_0]['rub_per_message']                \n",
    "            )\n",
    "        \n",
    "        # потрачено меньше пакета\n",
    "        rule_under_0 = (statistics_merged['check_out_of_limit'] <= 0)\n",
    "        \n",
    "        statistics_merged.loc[rule_under_0, 'amount_for_messages'] = 0\n",
    "    \n",
    "    # для интернета\n",
    "    if indicator == 'internet':                                              \n",
    "        statistics_merged['check_out_of_limit'] = (\n",
    "            statistics_merged['mb_per_month'] - \n",
    "            statistics_merged['mg_per_month_included']\n",
    "        )\n",
    "        \n",
    "        # потрачено больше пакета\n",
    "        rule_upper_0 = (statistics_merged['check_out_of_limit'] > 0)\n",
    "                   \n",
    "        statistics_merged.loc[rule_upper_0, 'amount_for_internet'] = (\n",
    "            (statistics_merged[rule_upper_0]['check_out_of_limit'] / 1024) *\n",
    "            statistics_merged[rule_upper_0]['rub_per_gb']                \n",
    "            )\n",
    "        \n",
    "        # потрачено меньше пакета\n",
    "        rule_under_0 = (statistics_merged['check_out_of_limit'] <= 0)\n",
    "        \n",
    "        statistics_merged.loc[rule_under_0, 'amount_for_internet'] = 0\n",
    "        \n",
    "    del statistics_merged['check_out_of_limit']"
   ]
  },
  {
   "cell_type": "code",
   "execution_count": 28,
   "metadata": {},
   "outputs": [],
   "source": [
    "# список показателей\n",
    "list_of_indicators = ['minutes', 'message', 'internet']\n",
    "\n",
    "# записываем в конечную таблицу \n",
    "for name in list_of_indicators:\n",
    "    check_for_out_of_limit(name)"
   ]
  },
  {
   "cell_type": "code",
   "execution_count": 29,
   "metadata": {},
   "outputs": [],
   "source": [
    "# ищем помесячную выручку для каждого пользователя\n",
    "\n",
    "statistics_merged['total_income'] = (\n",
    "    (statistics_merged['amount_for_minutes'] +\n",
    "     statistics_merged['amount_for_messages'] +\n",
    "     statistics_merged['amount_for_internet']) +\n",
    "    statistics_merged['rub_monthly_fee']\n",
    ").astype('int')"
   ]
  },
  {
   "cell_type": "code",
   "execution_count": 30,
   "metadata": {},
   "outputs": [],
   "source": [
    "# формируем список для удаления ненужных столбцов\n",
    "list_to_delete = ['messages_included', 'mg_per_month_included', \n",
    "                      'minutes_included', 'rub_monthly_fee', \n",
    "                      'rub_per_gb', 'rub_per_message', 'rub_per_minute',\n",
    "                 'amount_for_minutes', 'amount_for_messages', 'amount_for_internet']\n",
    "\n",
    "# удаляем\n",
    "for name in list_to_delete:\n",
    "    del statistics_merged[name]"
   ]
  },
  {
   "cell_type": "markdown",
   "metadata": {},
   "source": [
    "Таблица - Помесячная выручка для каждого пользователя"
   ]
  },
  {
   "cell_type": "code",
   "execution_count": 31,
   "metadata": {},
   "outputs": [
    {
     "data": {
      "text/html": [
       "<div>\n",
       "<style scoped>\n",
       "    .dataframe tbody tr th:only-of-type {\n",
       "        vertical-align: middle;\n",
       "    }\n",
       "\n",
       "    .dataframe tbody tr th {\n",
       "        vertical-align: top;\n",
       "    }\n",
       "\n",
       "    .dataframe thead th {\n",
       "        text-align: right;\n",
       "    }\n",
       "</style>\n",
       "<table border=\"1\" class=\"dataframe\">\n",
       "  <thead>\n",
       "    <tr style=\"text-align: right;\">\n",
       "      <th></th>\n",
       "      <th></th>\n",
       "      <th>minutes_per_month</th>\n",
       "      <th>calls_per_month</th>\n",
       "      <th>messages_per_month</th>\n",
       "      <th>mb_per_month</th>\n",
       "      <th>sessions_per_month</th>\n",
       "      <th>tariff</th>\n",
       "      <th>city</th>\n",
       "      <th>reg_date</th>\n",
       "      <th>churn_date</th>\n",
       "      <th>total_income</th>\n",
       "    </tr>\n",
       "    <tr>\n",
       "      <th>month</th>\n",
       "      <th>user_id</th>\n",
       "      <th></th>\n",
       "      <th></th>\n",
       "      <th></th>\n",
       "      <th></th>\n",
       "      <th></th>\n",
       "      <th></th>\n",
       "      <th></th>\n",
       "      <th></th>\n",
       "      <th></th>\n",
       "      <th></th>\n",
       "    </tr>\n",
       "  </thead>\n",
       "  <tbody>\n",
       "    <tr>\n",
       "      <td rowspan=\"5\" valign=\"top\">1</td>\n",
       "      <td>1005</td>\n",
       "      <td>95</td>\n",
       "      <td>15</td>\n",
       "      <td>7</td>\n",
       "      <td>2730</td>\n",
       "      <td>6</td>\n",
       "      <td>smart</td>\n",
       "      <td>Набережные Челны</td>\n",
       "      <td>2018-01-25</td>\n",
       "      <td>2018-12-31</td>\n",
       "      <td>550</td>\n",
       "    </tr>\n",
       "    <tr>\n",
       "      <td>1032</td>\n",
       "      <td>380</td>\n",
       "      <td>61</td>\n",
       "      <td>38</td>\n",
       "      <td>24158</td>\n",
       "      <td>62</td>\n",
       "      <td>smart</td>\n",
       "      <td>Ульяновск</td>\n",
       "      <td>2018-01-04</td>\n",
       "      <td>2018-12-31</td>\n",
       "      <td>2268</td>\n",
       "    </tr>\n",
       "    <tr>\n",
       "      <td>1045</td>\n",
       "      <td>9</td>\n",
       "      <td>1</td>\n",
       "      <td>5</td>\n",
       "      <td>2348</td>\n",
       "      <td>5</td>\n",
       "      <td>smart</td>\n",
       "      <td>Улан-Удэ</td>\n",
       "      <td>2018-01-30</td>\n",
       "      <td>2018-12-31</td>\n",
       "      <td>550</td>\n",
       "    </tr>\n",
       "    <tr>\n",
       "      <td>1055</td>\n",
       "      <td>551</td>\n",
       "      <td>64</td>\n",
       "      <td>30</td>\n",
       "      <td>17115</td>\n",
       "      <td>47</td>\n",
       "      <td>smart</td>\n",
       "      <td>Казань</td>\n",
       "      <td>2018-01-02</td>\n",
       "      <td>2018-12-31</td>\n",
       "      <td>1045</td>\n",
       "    </tr>\n",
       "    <tr>\n",
       "      <td>1071</td>\n",
       "      <td>194</td>\n",
       "      <td>24</td>\n",
       "      <td>16</td>\n",
       "      <td>15625</td>\n",
       "      <td>40</td>\n",
       "      <td>smart</td>\n",
       "      <td>Омск</td>\n",
       "      <td>2018-01-09</td>\n",
       "      <td>2018-08-31</td>\n",
       "      <td>601</td>\n",
       "    </tr>\n",
       "  </tbody>\n",
       "</table>\n",
       "</div>"
      ],
      "text/plain": [
       "               minutes_per_month  calls_per_month  messages_per_month  \\\n",
       "month user_id                                                           \n",
       "1     1005                    95               15                   7   \n",
       "      1032                   380               61                  38   \n",
       "      1045                     9                1                   5   \n",
       "      1055                   551               64                  30   \n",
       "      1071                   194               24                  16   \n",
       "\n",
       "               mb_per_month  sessions_per_month tariff              city  \\\n",
       "month user_id                                                              \n",
       "1     1005             2730                   6  smart  Набережные Челны   \n",
       "      1032            24158                  62  smart         Ульяновск   \n",
       "      1045             2348                   5  smart          Улан-Удэ   \n",
       "      1055            17115                  47  smart            Казань   \n",
       "      1071            15625                  40  smart              Омск   \n",
       "\n",
       "                reg_date churn_date  total_income  \n",
       "month user_id                                      \n",
       "1     1005    2018-01-25 2018-12-31           550  \n",
       "      1032    2018-01-04 2018-12-31          2268  \n",
       "      1045    2018-01-30 2018-12-31           550  \n",
       "      1055    2018-01-02 2018-12-31          1045  \n",
       "      1071    2018-01-09 2018-08-31           601  "
      ]
     },
     "execution_count": 31,
     "metadata": {},
     "output_type": "execute_result"
    }
   ],
   "source": [
    "statistics_merged.head()"
   ]
  },
  {
   "cell_type": "markdown",
   "metadata": {},
   "source": [
    "#### Вывод"
   ]
  },
  {
   "cell_type": "markdown",
   "metadata": {},
   "source": [
    "Посчитали для каждого пользователя по месяцам суммарное количество минут, сообщений, мегабайт с помощью написанной функции, использующей метод __.pivot_table()__. Склеили эти таблицы методами __.merge()__ и __.join()__.\n",
    "\n",
    "Нашли помесячную выручку для каждого пользователя, основываясь на полученных данных.\n",
    "\n",
    "Финальная таблица мультииндексна, сгруппирована по месяцам (__month__) и __user_id__.\n",
    "Включает в себя столбцы: \n",
    "- minutes_per_month - общее количество минут в месяц\n",
    "- calls_per_month - общее количество звонков в месяц\n",
    "- messages_per_month - общее количество сообщений  в месяц\n",
    "- mb_per_month - общее количество мегабайт в месяц\n",
    "- sessions_per_month -  общее количество интернет-сессий в месяц\n",
    "- tariff - название тарифа\n",
    "- total_income - общая выручка"
   ]
  },
  {
   "cell_type": "markdown",
   "metadata": {},
   "source": [
    "## 3. Анализ данных"
   ]
  },
  {
   "cell_type": "markdown",
   "metadata": {},
   "source": [
    "### Описание поведения клиентов оператора: количество минут разговора, сообщений, объём интернет-трафика пользователей каждого тарифа в месяц"
   ]
  },
  {
   "cell_type": "markdown",
   "metadata": {},
   "source": [
    "## Рассмотрим средние значения в месяц для всех записей"
   ]
  },
  {
   "cell_type": "markdown",
   "metadata": {},
   "source": [
    "Проанализируем весь датафрейм, не отсортированный по месяцам."
   ]
  },
  {
   "cell_type": "markdown",
   "metadata": {},
   "source": [
    "Устраним сортировку по месяцам."
   ]
  },
  {
   "cell_type": "code",
   "execution_count": 32,
   "metadata": {},
   "outputs": [],
   "source": [
    "# сбрасываем индексы месяца\n",
    "temporary = statistics_merged.reset_index(level=0, drop=True)"
   ]
  },
  {
   "cell_type": "code",
   "execution_count": 33,
   "metadata": {},
   "outputs": [],
   "source": [
    "# формируем новую таблице, отсортированную по пользователям\n",
    "statistics_per_user = temporary.pivot_table(index='user_id', \n",
    "                                          values=['minutes_per_month', 'messages_per_month', \n",
    "                                                  'mb_per_month', 'tariff', 'reg_date',\n",
    "                                                  'churn_date', 'total_income', 'city'],\n",
    "                                         aggfunc={'minutes_per_month':'sum',\n",
    "                                                  'messages_per_month':'sum', \n",
    "                                                  'mb_per_month':'sum',\n",
    "                                                  'tariff': 'first',\n",
    "                                                  'reg_date': 'first',\n",
    "                                                  'churn_date': 'first',\n",
    "                                                  'total_income': 'first',\n",
    "                                                  'city': 'first'})[['minutes_per_month', \n",
    "                                                                             'messages_per_month',\n",
    "                                                                             'mb_per_month', 'tariff', 'reg_date',\n",
    "                                                                             'churn_date', 'total_income', 'city']]\n",
    "statistics_per_user.columns = ['minutes_total', 'messages_total',\n",
    "                              'mb_total', 'tariff', 'reg_date', 'churn_date', 'total_income', 'city']"
   ]
  },
  {
   "cell_type": "markdown",
   "metadata": {},
   "source": [
    "Среднее количество для каждого пользователя в месяц за год"
   ]
  },
  {
   "cell_type": "code",
   "execution_count": 34,
   "metadata": {},
   "outputs": [
    {
     "data": {
      "text/html": [
       "<div>\n",
       "<style scoped>\n",
       "    .dataframe tbody tr th:only-of-type {\n",
       "        vertical-align: middle;\n",
       "    }\n",
       "\n",
       "    .dataframe tbody tr th {\n",
       "        vertical-align: top;\n",
       "    }\n",
       "\n",
       "    .dataframe thead th {\n",
       "        text-align: right;\n",
       "    }\n",
       "</style>\n",
       "<table border=\"1\" class=\"dataframe\">\n",
       "  <thead>\n",
       "    <tr style=\"text-align: right;\">\n",
       "      <th></th>\n",
       "      <th>minutes_total</th>\n",
       "      <th>messages_total</th>\n",
       "      <th>mb_total</th>\n",
       "      <th>tariff</th>\n",
       "      <th>total_income</th>\n",
       "      <th>city</th>\n",
       "      <th>month_in_network</th>\n",
       "      <th>minutes_per_month</th>\n",
       "      <th>messages_per_month</th>\n",
       "      <th>mb_per_month</th>\n",
       "    </tr>\n",
       "    <tr>\n",
       "      <th>user_id</th>\n",
       "      <th></th>\n",
       "      <th></th>\n",
       "      <th></th>\n",
       "      <th></th>\n",
       "      <th></th>\n",
       "      <th></th>\n",
       "      <th></th>\n",
       "      <th></th>\n",
       "      <th></th>\n",
       "      <th></th>\n",
       "    </tr>\n",
       "  </thead>\n",
       "  <tbody>\n",
       "    <tr>\n",
       "      <td>1000</td>\n",
       "      <td>2566</td>\n",
       "      <td>496</td>\n",
       "      <td>107506</td>\n",
       "      <td>ultra</td>\n",
       "      <td>1950</td>\n",
       "      <td>Краснодар</td>\n",
       "      <td>8</td>\n",
       "      <td>320.75</td>\n",
       "      <td>62.0</td>\n",
       "      <td>13438.25</td>\n",
       "    </tr>\n",
       "    <tr>\n",
       "      <td>1001</td>\n",
       "      <td>844</td>\n",
       "      <td>0</td>\n",
       "      <td>32519</td>\n",
       "      <td>smart</td>\n",
       "      <td>1155</td>\n",
       "      <td>Москва</td>\n",
       "      <td>2</td>\n",
       "      <td>422.00</td>\n",
       "      <td>0.0</td>\n",
       "      <td>16259.50</td>\n",
       "    </tr>\n",
       "    <tr>\n",
       "      <td>1002</td>\n",
       "      <td>1517</td>\n",
       "      <td>70</td>\n",
       "      <td>116255</td>\n",
       "      <td>smart</td>\n",
       "      <td>550</td>\n",
       "      <td>Стерлитамак</td>\n",
       "      <td>7</td>\n",
       "      <td>216.71</td>\n",
       "      <td>10.0</td>\n",
       "      <td>16607.86</td>\n",
       "    </tr>\n",
       "    <tr>\n",
       "      <td>1003</td>\n",
       "      <td>3822</td>\n",
       "      <td>380</td>\n",
       "      <td>57331</td>\n",
       "      <td>ultra</td>\n",
       "      <td>1950</td>\n",
       "      <td>Москва</td>\n",
       "      <td>5</td>\n",
       "      <td>764.40</td>\n",
       "      <td>76.0</td>\n",
       "      <td>11466.20</td>\n",
       "    </tr>\n",
       "    <tr>\n",
       "      <td>1004</td>\n",
       "      <td>987</td>\n",
       "      <td>1192</td>\n",
       "      <td>149194</td>\n",
       "      <td>ultra</td>\n",
       "      <td>1950</td>\n",
       "      <td>Новокузнецк</td>\n",
       "      <td>8</td>\n",
       "      <td>123.38</td>\n",
       "      <td>149.0</td>\n",
       "      <td>18649.25</td>\n",
       "    </tr>\n",
       "    <tr>\n",
       "      <td>1005</td>\n",
       "      <td>6605</td>\n",
       "      <td>552</td>\n",
       "      <td>99851</td>\n",
       "      <td>smart</td>\n",
       "      <td>550</td>\n",
       "      <td>Набережные Челны</td>\n",
       "      <td>12</td>\n",
       "      <td>550.42</td>\n",
       "      <td>46.0</td>\n",
       "      <td>8320.92</td>\n",
       "    </tr>\n",
       "    <tr>\n",
       "      <td>1006</td>\n",
       "      <td>3501</td>\n",
       "      <td>0</td>\n",
       "      <td>164495</td>\n",
       "      <td>smart</td>\n",
       "      <td>550</td>\n",
       "      <td>Ульяновск</td>\n",
       "      <td>11</td>\n",
       "      <td>318.27</td>\n",
       "      <td>0.0</td>\n",
       "      <td>14954.09</td>\n",
       "    </tr>\n",
       "    <tr>\n",
       "      <td>1007</td>\n",
       "      <td>4379</td>\n",
       "      <td>225</td>\n",
       "      <td>131876</td>\n",
       "      <td>smart</td>\n",
       "      <td>550</td>\n",
       "      <td>Москва</td>\n",
       "      <td>9</td>\n",
       "      <td>486.56</td>\n",
       "      <td>25.0</td>\n",
       "      <td>14652.89</td>\n",
       "    </tr>\n",
       "    <tr>\n",
       "      <td>1008</td>\n",
       "      <td>339</td>\n",
       "      <td>56</td>\n",
       "      <td>13243</td>\n",
       "      <td>smart</td>\n",
       "      <td>568</td>\n",
       "      <td>Челябинск</td>\n",
       "      <td>1</td>\n",
       "      <td>339.00</td>\n",
       "      <td>56.0</td>\n",
       "      <td>13243.00</td>\n",
       "    </tr>\n",
       "    <tr>\n",
       "      <td>1009</td>\n",
       "      <td>2189</td>\n",
       "      <td>110</td>\n",
       "      <td>177694</td>\n",
       "      <td>smart</td>\n",
       "      <td>550</td>\n",
       "      <td>Пермь</td>\n",
       "      <td>10</td>\n",
       "      <td>218.90</td>\n",
       "      <td>11.0</td>\n",
       "      <td>17769.40</td>\n",
       "    </tr>\n",
       "  </tbody>\n",
       "</table>\n",
       "</div>"
      ],
      "text/plain": [
       "         minutes_total  messages_total  mb_total tariff  total_income  \\\n",
       "user_id                                                                 \n",
       "1000              2566             496    107506  ultra          1950   \n",
       "1001               844               0     32519  smart          1155   \n",
       "1002              1517              70    116255  smart           550   \n",
       "1003              3822             380     57331  ultra          1950   \n",
       "1004               987            1192    149194  ultra          1950   \n",
       "1005              6605             552     99851  smart           550   \n",
       "1006              3501               0    164495  smart           550   \n",
       "1007              4379             225    131876  smart           550   \n",
       "1008               339              56     13243  smart           568   \n",
       "1009              2189             110    177694  smart           550   \n",
       "\n",
       "                     city  month_in_network  minutes_per_month  \\\n",
       "user_id                                                          \n",
       "1000            Краснодар                 8             320.75   \n",
       "1001               Москва                 2             422.00   \n",
       "1002          Стерлитамак                 7             216.71   \n",
       "1003               Москва                 5             764.40   \n",
       "1004          Новокузнецк                 8             123.38   \n",
       "1005     Набережные Челны                12             550.42   \n",
       "1006            Ульяновск                11             318.27   \n",
       "1007               Москва                 9             486.56   \n",
       "1008            Челябинск                 1             339.00   \n",
       "1009                Пермь                10             218.90   \n",
       "\n",
       "         messages_per_month  mb_per_month  \n",
       "user_id                                    \n",
       "1000                   62.0      13438.25  \n",
       "1001                    0.0      16259.50  \n",
       "1002                   10.0      16607.86  \n",
       "1003                   76.0      11466.20  \n",
       "1004                  149.0      18649.25  \n",
       "1005                   46.0       8320.92  \n",
       "1006                    0.0      14954.09  \n",
       "1007                   25.0      14652.89  \n",
       "1008                   56.0      13243.00  \n",
       "1009                   11.0      17769.40  "
      ]
     },
     "execution_count": 34,
     "metadata": {},
     "output_type": "execute_result"
    }
   ],
   "source": [
    "# подсчитываем, сколько месяцев в этом году человек подкдючен к сети (округляем в большую сторону)\n",
    "statistics_per_user['month_in_network'] = (statistics_per_user['churn_date'].dt.month\n",
    "                                           - statistics_per_user['reg_date'].dt.month) + 1\n",
    "\n",
    "\n",
    "# среднее количество минут в месяц за год\n",
    "statistics_per_user['minutes_per_month'] = (\n",
    "    statistics_per_user['minutes_total'] / \n",
    "    statistics_per_user['month_in_network']\n",
    ").round(2)\n",
    "\n",
    "# среднее количество сообщений в месяц за год\n",
    "statistics_per_user['messages_per_month'] = (\n",
    "    statistics_per_user['messages_total'] / \n",
    "    statistics_per_user['month_in_network']\n",
    ").round(2)\n",
    "\n",
    "# среднее количество мегабайт в месяц за год\n",
    "statistics_per_user['mb_per_month'] = (\n",
    "    statistics_per_user['mb_total'] / \n",
    "    statistics_per_user['month_in_network']\n",
    ").round(2)\n",
    "\n",
    "# удаляем лишние столбцы\n",
    "del statistics_per_user['reg_date']\n",
    "del statistics_per_user['churn_date']\n",
    "\n",
    "statistics_per_user.head(10)"
   ]
  },
  {
   "cell_type": "code",
   "execution_count": 35,
   "metadata": {},
   "outputs": [],
   "source": [
    "# функция отрисовки гистограмм\n",
    "    # data - датафрейм\n",
    "    # column - столбец с данными для изучения\n",
    "    # title - название графика\n",
    "\n",
    "\n",
    "def draw_hist(data, column, title):\n",
    "    data[column].plot(kind='hist',\n",
    "                      title=title,\n",
    "                      grid=True,\n",
    "                      legend=True,\n",
    "                      alpha=.85)\n"
   ]
  },
  {
   "cell_type": "code",
   "execution_count": 36,
   "metadata": {},
   "outputs": [],
   "source": [
    "# создаем список индикаторов для отрисовки графического отображения\n",
    "indicators_list = ['minutes_per_month', 'messages_per_month', 'mb_per_month']"
   ]
  },
  {
   "cell_type": "markdown",
   "metadata": {},
   "source": [
    "Гистограммы по показателям за год - минуты, сообщения, мегабайты. Для двух тарифов"
   ]
  },
  {
   "cell_type": "code",
   "execution_count": 37,
   "metadata": {},
   "outputs": [
    {
     "data": {
      "image/png": "[encoded data removed]",
      "text/plain": [
       "<Figure size 432x288 with 1 Axes>"
      ]
     },
     "metadata": {},
     "output_type": "display_data"
    },
    {
     "data": {
      "image/png": "[encoded data removed]",
      "text/plain": [
       "<Figure size 432x288 with 1 Axes>"
      ]
     },
     "metadata": {},
     "output_type": "display_data"
    },
    {
     "data": {
      "image/png": "[encoded data removed]",
      "text/plain": [
       "<Figure size 432x288 with 1 Axes>"
      ]
     },
     "metadata": {},
     "output_type": "display_data"
    },
    {
     "data": {
      "image/png": "[encoded data removed]",
      "text/plain": [
       "<Figure size 432x288 with 1 Axes>"
      ]
     },
     "metadata": {},
     "output_type": "display_data"
    },
    {
     "data": {
      "image/png": "[encoded data removed]",
      "text/plain": [
       "<Figure size 432x288 with 1 Axes>"
      ]
     },
     "metadata": {},
     "output_type": "display_data"
    },
    {
     "data": {
      "image/png": "[encoded data removed]",
      "text/plain": [
       "<Figure size 432x288 with 1 Axes>"
      ]
     },
     "metadata": {},
     "output_type": "display_data"
    }
   ],
   "source": [
    "for name in indicators_list:\n",
    "    draw_hist(statistics_per_user.query('tariff == \"smart\"'), name, 'Тариф Smart')\n",
    "    plt.show()\n",
    "    draw_hist(statistics_per_user.query('tariff == \"ultra\"'), name, 'Тариф ultra')\n",
    "    plt.show()"
   ]
  },
  {
   "cell_type": "markdown",
   "metadata": {},
   "source": [
    "Абоненты тарифа __ultra__ не выходят за лимиты по показателям минут и сообщений, однако забирают интернет сверх лимита.\n",
    "\n",
    "\n",
    "Пользователям __smart__ интернета явно не хватает. Очень часто они используют интернет сверх лимита. Так же превышают лимит по показателям звонков и СМС."
   ]
  },
  {
   "cell_type": "code",
   "execution_count": 38,
   "metadata": {},
   "outputs": [],
   "source": [
    "# функция отрисовки диаграммы размаха\n",
    "    # data - датафрейм\n",
    "    # what_to_do - параметр для среза ('query' - используется срез, 'smth else' - не используется)\n",
    "        \n",
    "def draw_boxplot(data, what_to_do):\n",
    "    \n",
    "    tariff = ['smart', 'ultra']\n",
    "    \n",
    "    for name in indicators_list:\n",
    "        \n",
    "        for tname in tariff:\n",
    "            plt.figure(figsize=(15, 2))\n",
    "            if name == 'minutes_per_month':\n",
    "                title = ('Минуты')\n",
    "            elif name == 'messages_per_month':\n",
    "                title = ('Сообщения')\n",
    "            else:\n",
    "                title = ('Мегабайты')\n",
    "            print('Тариф', tname, ':', title)\n",
    "            \n",
    "            if what_to_do == 'query':\n",
    "                sns.boxplot(\n",
    "                    data=data.query('tariff == @tname'), x=name, \n",
    "                    orient=\"h\", width=0.3, palette='deep')\n",
    "            else:\n",
    "                sns.boxplot(data=data.loc[[tname]][name], orient=\"h\", width=0.3, palette='deep')\n",
    "                \n",
    "            plt.show()"
   ]
  },
  {
   "cell_type": "markdown",
   "metadata": {},
   "source": [
    "Строим диаграмму размаха"
   ]
  },
  {
   "cell_type": "code",
   "execution_count": 39,
   "metadata": {},
   "outputs": [
    {
     "name": "stdout",
     "output_type": "stream",
     "text": [
      "Тариф smart : Минуты\n"
     ]
    },
    {
     "data": {
      "image/png": "[encoded data removed]",
      "text/plain": [
       "<Figure size 1080x144 with 1 Axes>"
      ]
     },
     "metadata": {},
     "output_type": "display_data"
    },
    {
     "name": "stdout",
     "output_type": "stream",
     "text": [
      "Тариф ultra : Минуты\n"
     ]
    },
    {
     "data": {
      "image/png": "[encoded data removed]",
      "text/plain": [
       "<Figure size 1080x144 with 1 Axes>"
      ]
     },
     "metadata": {},
     "output_type": "display_data"
    },
    {
     "name": "stdout",
     "output_type": "stream",
     "text": [
      "Тариф smart : Сообщения\n"
     ]
    },
    {
     "data": {
      "image/png": "[encoded data removed]",
      "text/plain": [
       "<Figure size 1080x144 with 1 Axes>"
      ]
     },
     "metadata": {},
     "output_type": "display_data"
    },
    {
     "name": "stdout",
     "output_type": "stream",
     "text": [
      "Тариф ultra : Сообщения\n"
     ]
    },
    {
     "data": {
      "image/png": "[encoded data removed]",
      "text/plain": [
       "<Figure size 1080x144 with 1 Axes>"
      ]
     },
     "metadata": {},
     "output_type": "display_data"
    },
    {
     "name": "stdout",
     "output_type": "stream",
     "text": [
      "Тариф smart : Мегабайты\n"
     ]
    },
    {
     "data": {
      "image/png": "[encoded data removed]",
      "text/plain": [
       "<Figure size 1080x144 with 1 Axes>"
      ]
     },
     "metadata": {},
     "output_type": "display_data"
    },
    {
     "name": "stdout",
     "output_type": "stream",
     "text": [
      "Тариф ultra : Мегабайты\n"
     ]
    },
    {
     "data": {
      "image/png": "[encoded data removed]",
      "text/plain": [
       "<Figure size 1080x144 with 1 Axes>"
      ]
     },
     "metadata": {},
     "output_type": "display_data"
    }
   ],
   "source": [
    "draw_boxplot(statistics_per_user, 'query')"
   ]
  },
  {
   "cell_type": "markdown",
   "metadata": {},
   "source": [
    "Датасеты симметричны, распределения нормальные"
   ]
  },
  {
   "cell_type": "markdown",
   "metadata": {},
   "source": [
    "#### Дисперсия"
   ]
  },
  {
   "cell_type": "markdown",
   "metadata": {},
   "source": [
    "Найдем дисперсию"
   ]
  },
  {
   "cell_type": "code",
   "execution_count": 40,
   "metadata": {},
   "outputs": [
    {
     "data": {
      "text/html": [
       "<div>\n",
       "<style scoped>\n",
       "    .dataframe tbody tr th:only-of-type {\n",
       "        vertical-align: middle;\n",
       "    }\n",
       "\n",
       "    .dataframe tbody tr th {\n",
       "        vertical-align: top;\n",
       "    }\n",
       "\n",
       "    .dataframe thead th {\n",
       "        text-align: right;\n",
       "    }\n",
       "</style>\n",
       "<table border=\"1\" class=\"dataframe\">\n",
       "  <thead>\n",
       "    <tr style=\"text-align: right;\">\n",
       "      <th></th>\n",
       "      <th>minutes_var</th>\n",
       "      <th>messages_var</th>\n",
       "      <th>mb_var</th>\n",
       "    </tr>\n",
       "    <tr>\n",
       "      <th>tariff</th>\n",
       "      <th></th>\n",
       "      <th></th>\n",
       "      <th></th>\n",
       "    </tr>\n",
       "  </thead>\n",
       "  <tbody>\n",
       "    <tr>\n",
       "      <td>smart</td>\n",
       "      <td>20587.160455</td>\n",
       "      <td>704.483613</td>\n",
       "      <td>1.287280e+07</td>\n",
       "    </tr>\n",
       "    <tr>\n",
       "      <td>ultra</td>\n",
       "      <td>72046.784814</td>\n",
       "      <td>2092.365337</td>\n",
       "      <td>6.964014e+07</td>\n",
       "    </tr>\n",
       "  </tbody>\n",
       "</table>\n",
       "</div>"
      ],
      "text/plain": [
       "         minutes_var  messages_var        mb_var\n",
       "tariff                                          \n",
       "smart   20587.160455    704.483613  1.287280e+07\n",
       "ultra   72046.784814   2092.365337  6.964014e+07"
      ]
     },
     "execution_count": 40,
     "metadata": {},
     "output_type": "execute_result"
    }
   ],
   "source": [
    "variance_by_tariff = (\n",
    "    statistics_per_user.pivot_table(index='tariff',\n",
    "                                  values=['minutes_per_month',\n",
    "                                          'messages_per_month',\n",
    "                                          'mb_per_month'], \n",
    "                                  aggfunc='var')\n",
    "        [['minutes_per_month',\n",
    "          'messages_per_month',\n",
    "          'mb_per_month']]\n",
    ")\n",
    "\n",
    "variance_by_tariff.columns = ['minutes_var', 'messages_var', 'mb_var']\n",
    "\n",
    "variance_by_tariff"
   ]
  },
  {
   "cell_type": "markdown",
   "metadata": {},
   "source": [
    "#### Стандартное отклонение"
   ]
  },
  {
   "cell_type": "markdown",
   "metadata": {},
   "source": [
    "Найдем стандартное отклонение"
   ]
  },
  {
   "cell_type": "code",
   "execution_count": 41,
   "metadata": {},
   "outputs": [
    {
     "data": {
      "text/html": [
       "<div>\n",
       "<style scoped>\n",
       "    .dataframe tbody tr th:only-of-type {\n",
       "        vertical-align: middle;\n",
       "    }\n",
       "\n",
       "    .dataframe tbody tr th {\n",
       "        vertical-align: top;\n",
       "    }\n",
       "\n",
       "    .dataframe thead th {\n",
       "        text-align: right;\n",
       "    }\n",
       "</style>\n",
       "<table border=\"1\" class=\"dataframe\">\n",
       "  <thead>\n",
       "    <tr style=\"text-align: right;\">\n",
       "      <th></th>\n",
       "      <th>minutes_std</th>\n",
       "      <th>messages_std</th>\n",
       "      <th>mb_std</th>\n",
       "    </tr>\n",
       "    <tr>\n",
       "      <th>tariff</th>\n",
       "      <th></th>\n",
       "      <th></th>\n",
       "      <th></th>\n",
       "    </tr>\n",
       "  </thead>\n",
       "  <tbody>\n",
       "    <tr>\n",
       "      <td>smart</td>\n",
       "      <td>143.482265</td>\n",
       "      <td>26.54211</td>\n",
       "      <td>3587.868204</td>\n",
       "    </tr>\n",
       "    <tr>\n",
       "      <td>ultra</td>\n",
       "      <td>268.415321</td>\n",
       "      <td>45.74238</td>\n",
       "      <td>8345.067062</td>\n",
       "    </tr>\n",
       "  </tbody>\n",
       "</table>\n",
       "</div>"
      ],
      "text/plain": [
       "        minutes_std  messages_std       mb_std\n",
       "tariff                                        \n",
       "smart    143.482265      26.54211  3587.868204\n",
       "ultra    268.415321      45.74238  8345.067062"
      ]
     },
     "execution_count": 41,
     "metadata": {},
     "output_type": "execute_result"
    }
   ],
   "source": [
    "std_by_tariff = (\n",
    "    statistics_per_user.pivot_table(index='tariff',\n",
    "                                  values=['minutes_per_month',\n",
    "                                          'messages_per_month',\n",
    "                                          'mb_per_month'], \n",
    "                                  aggfunc='std')\n",
    "        [['minutes_per_month',\n",
    "          'messages_per_month',\n",
    "          'mb_per_month']]\n",
    ")\n",
    "\n",
    "std_by_tariff.columns = ['minutes_std', 'messages_std', 'mb_std']\n",
    "\n",
    "std_by_tariff"
   ]
  },
  {
   "cell_type": "markdown",
   "metadata": {},
   "source": [
    "#### Подсчет минут разговора, количества сообщений и объёма интернет-трафика, который требуется пользователям каждого тарифа"
   ]
  },
  {
   "cell_type": "code",
   "execution_count": 42,
   "metadata": {},
   "outputs": [],
   "source": [
    "def find_limits(data, tariff):\n",
    "    print('Пользователям тарифа {} требуется:'.format(tariff))\n",
    "    \n",
    "    for name in indicators_list:\n",
    "        if name == 'minutes_per_month':\n",
    "\n",
    "            higher_limit = (\n",
    "                (data[data['tariff'] == tariff][name].mean() + 3 * std_by_tariff.loc[tariff, 'minutes_std'])\n",
    "                .astype('int')\n",
    "            )\n",
    "            print('  -  минут: до {}'.format(higher_limit))\n",
    "          \n",
    "        elif name == 'messages_per_month':\n",
    "            \n",
    "            higher_limit = (\n",
    "                (data[data['tariff'] == tariff][name].mean() + 3 * std_by_tariff.loc[tariff, 'messages_std'])\n",
    "                .astype('int')\n",
    "            )\n",
    "            print('  -  сообщений: до {}'.format(higher_limit))\n",
    "          \n",
    "        else:\n",
    "            \n",
    "            higher_limit = (\n",
    "                (data[data['tariff'] == tariff][name].mean() + 3 * std_by_tariff.loc[tariff, 'mb_std'])\n",
    "                .astype('int')\n",
    "            )\n",
    "            print('  -  мегабайт: до {}'.format(higher_limit))\n",
    "            \n",
    "    print()"
   ]
  },
  {
   "cell_type": "code",
   "execution_count": 43,
   "metadata": {},
   "outputs": [
    {
     "name": "stdout",
     "output_type": "stream",
     "text": [
      "Пользователям тарифа smart требуется:\n",
      "  -  минут: до 851\n",
      "  -  сообщений: до 111\n",
      "  -  мегабайт: до 26968\n",
      "\n",
      "Пользователям тарифа ultra требуется:\n",
      "  -  минут: до 1351\n",
      "  -  сообщений: до 191\n",
      "  -  мегабайт: до 44559\n",
      "\n"
     ]
    }
   ],
   "source": [
    "find_limits(statistics_per_user, 'smart')\n",
    "find_limits(statistics_per_user, 'ultra')"
   ]
  },
  {
   "cell_type": "markdown",
   "metadata": {},
   "source": [
    "## Рассмотрим средние данные за каждый из 12ти месяцев"
   ]
  },
  {
   "cell_type": "markdown",
   "metadata": {},
   "source": [
    "Формируем таблицу с общим значением минут, сообщений и мегабайт для всех пользователей по месяцам и тарифам."
   ]
  },
  {
   "cell_type": "code",
   "execution_count": 44,
   "metadata": {},
   "outputs": [],
   "source": [
    "amount_per_month = (\n",
    "    statistics_merged.pivot_table(index=['tariff', 'month'],\n",
    "                                  values=['minutes_per_month',\n",
    "                                          'messages_per_month',\n",
    "                                          'mb_per_month'], \n",
    "                                  aggfunc='sum')\n",
    "    [['minutes_per_month',\n",
    "      'messages_per_month',\n",
    "      'mb_per_month']]                                            # устанавливаем порядок отображения колонок\n",
    ")"
   ]
  },
  {
   "cell_type": "code",
   "execution_count": 45,
   "metadata": {},
   "outputs": [
    {
     "data": {
      "text/html": [
       "<div>\n",
       "<style scoped>\n",
       "    .dataframe tbody tr th:only-of-type {\n",
       "        vertical-align: middle;\n",
       "    }\n",
       "\n",
       "    .dataframe tbody tr th {\n",
       "        vertical-align: top;\n",
       "    }\n",
       "\n",
       "    .dataframe thead th {\n",
       "        text-align: right;\n",
       "    }\n",
       "</style>\n",
       "<table border=\"1\" class=\"dataframe\">\n",
       "  <thead>\n",
       "    <tr style=\"text-align: right;\">\n",
       "      <th></th>\n",
       "      <th></th>\n",
       "      <th>minutes_per_month</th>\n",
       "      <th>messages_per_month</th>\n",
       "      <th>mb_per_month</th>\n",
       "    </tr>\n",
       "    <tr>\n",
       "      <th>tariff</th>\n",
       "      <th>month</th>\n",
       "      <th></th>\n",
       "      <th></th>\n",
       "      <th></th>\n",
       "    </tr>\n",
       "  </thead>\n",
       "  <tbody>\n",
       "    <tr>\n",
       "      <td rowspan=\"12\" valign=\"top\">smart</td>\n",
       "      <td>1</td>\n",
       "      <td>6931</td>\n",
       "      <td>620</td>\n",
       "      <td>289972</td>\n",
       "    </tr>\n",
       "    <tr>\n",
       "      <td>2</td>\n",
       "      <td>17324</td>\n",
       "      <td>1397</td>\n",
       "      <td>673806</td>\n",
       "    </tr>\n",
       "    <tr>\n",
       "      <td>3</td>\n",
       "      <td>30034</td>\n",
       "      <td>2453</td>\n",
       "      <td>1165103</td>\n",
       "    </tr>\n",
       "    <tr>\n",
       "      <td>4</td>\n",
       "      <td>41119</td>\n",
       "      <td>3443</td>\n",
       "      <td>1510441</td>\n",
       "    </tr>\n",
       "    <tr>\n",
       "      <td>5</td>\n",
       "      <td>54618</td>\n",
       "      <td>4762</td>\n",
       "      <td>2232418</td>\n",
       "    </tr>\n",
       "    <tr>\n",
       "      <td>6</td>\n",
       "      <td>64885</td>\n",
       "      <td>5430</td>\n",
       "      <td>2582419</td>\n",
       "    </tr>\n",
       "    <tr>\n",
       "      <td>7</td>\n",
       "      <td>82079</td>\n",
       "      <td>6784</td>\n",
       "      <td>3170051</td>\n",
       "    </tr>\n",
       "    <tr>\n",
       "      <td>8</td>\n",
       "      <td>99045</td>\n",
       "      <td>7888</td>\n",
       "      <td>3899378</td>\n",
       "    </tr>\n",
       "    <tr>\n",
       "      <td>9</td>\n",
       "      <td>111439</td>\n",
       "      <td>8714</td>\n",
       "      <td>4229234</td>\n",
       "    </tr>\n",
       "    <tr>\n",
       "      <td>10</td>\n",
       "      <td>125284</td>\n",
       "      <td>9906</td>\n",
       "      <td>4915736</td>\n",
       "    </tr>\n",
       "    <tr>\n",
       "      <td>11</td>\n",
       "      <td>137544</td>\n",
       "      <td>10748</td>\n",
       "      <td>5331078</td>\n",
       "    </tr>\n",
       "    <tr>\n",
       "      <td>12</td>\n",
       "      <td>161275</td>\n",
       "      <td>12095</td>\n",
       "      <td>6097794</td>\n",
       "    </tr>\n",
       "    <tr>\n",
       "      <td rowspan=\"12\" valign=\"top\">ultra</td>\n",
       "      <td>1</td>\n",
       "      <td>3853</td>\n",
       "      <td>304</td>\n",
       "      <td>118392</td>\n",
       "    </tr>\n",
       "    <tr>\n",
       "      <td>2</td>\n",
       "      <td>7131</td>\n",
       "      <td>527</td>\n",
       "      <td>282920</td>\n",
       "    </tr>\n",
       "    <tr>\n",
       "      <td>3</td>\n",
       "      <td>18117</td>\n",
       "      <td>1195</td>\n",
       "      <td>649480</td>\n",
       "    </tr>\n",
       "    <tr>\n",
       "      <td>4</td>\n",
       "      <td>25191</td>\n",
       "      <td>1727</td>\n",
       "      <td>923032</td>\n",
       "    </tr>\n",
       "    <tr>\n",
       "      <td>5</td>\n",
       "      <td>34192</td>\n",
       "      <td>2423</td>\n",
       "      <td>1260496</td>\n",
       "    </tr>\n",
       "    <tr>\n",
       "      <td>6</td>\n",
       "      <td>40295</td>\n",
       "      <td>3244</td>\n",
       "      <td>1533154</td>\n",
       "    </tr>\n",
       "    <tr>\n",
       "      <td>7</td>\n",
       "      <td>49667</td>\n",
       "      <td>4266</td>\n",
       "      <td>1801175</td>\n",
       "    </tr>\n",
       "    <tr>\n",
       "      <td>8</td>\n",
       "      <td>54653</td>\n",
       "      <td>4930</td>\n",
       "      <td>2020013</td>\n",
       "    </tr>\n",
       "    <tr>\n",
       "      <td>9</td>\n",
       "      <td>62036</td>\n",
       "      <td>5751</td>\n",
       "      <td>2121665</td>\n",
       "    </tr>\n",
       "    <tr>\n",
       "      <td>10</td>\n",
       "      <td>68644</td>\n",
       "      <td>6899</td>\n",
       "      <td>2371164</td>\n",
       "    </tr>\n",
       "    <tr>\n",
       "      <td>11</td>\n",
       "      <td>72545</td>\n",
       "      <td>7224</td>\n",
       "      <td>2536239</td>\n",
       "    </tr>\n",
       "    <tr>\n",
       "      <td>12</td>\n",
       "      <td>82400</td>\n",
       "      <td>8141</td>\n",
       "      <td>2909982</td>\n",
       "    </tr>\n",
       "  </tbody>\n",
       "</table>\n",
       "</div>"
      ],
      "text/plain": [
       "              minutes_per_month  messages_per_month  mb_per_month\n",
       "tariff month                                                     \n",
       "smart  1                   6931                 620        289972\n",
       "       2                  17324                1397        673806\n",
       "       3                  30034                2453       1165103\n",
       "       4                  41119                3443       1510441\n",
       "       5                  54618                4762       2232418\n",
       "       6                  64885                5430       2582419\n",
       "       7                  82079                6784       3170051\n",
       "       8                  99045                7888       3899378\n",
       "       9                 111439                8714       4229234\n",
       "       10                125284                9906       4915736\n",
       "       11                137544               10748       5331078\n",
       "       12                161275               12095       6097794\n",
       "ultra  1                   3853                 304        118392\n",
       "       2                   7131                 527        282920\n",
       "       3                  18117                1195        649480\n",
       "       4                  25191                1727        923032\n",
       "       5                  34192                2423       1260496\n",
       "       6                  40295                3244       1533154\n",
       "       7                  49667                4266       1801175\n",
       "       8                  54653                4930       2020013\n",
       "       9                  62036                5751       2121665\n",
       "       10                 68644                6899       2371164\n",
       "       11                 72545                7224       2536239\n",
       "       12                 82400                8141       2909982"
      ]
     },
     "execution_count": 45,
     "metadata": {},
     "output_type": "execute_result"
    }
   ],
   "source": [
    "amount_per_month"
   ]
  },
  {
   "cell_type": "markdown",
   "metadata": {},
   "source": [
    "Изучим распределение для каждого параметра обоих тарифов (минуты, сообщения, мегабайты):"
   ]
  },
  {
   "cell_type": "code",
   "execution_count": 46,
   "metadata": {},
   "outputs": [
    {
     "name": "stdout",
     "output_type": "stream",
     "text": [
      "Тариф smart : Минуты\n"
     ]
    },
    {
     "data": {
      "image/png": "[encoded data removed]",
      "text/plain": [
       "<Figure size 1080x144 with 1 Axes>"
      ]
     },
     "metadata": {},
     "output_type": "display_data"
    },
    {
     "name": "stdout",
     "output_type": "stream",
     "text": [
      "Тариф ultra : Минуты\n"
     ]
    },
    {
     "data": {
      "image/png": "[encoded data removed]",
      "text/plain": [
       "<Figure size 1080x144 with 1 Axes>"
      ]
     },
     "metadata": {},
     "output_type": "display_data"
    },
    {
     "name": "stdout",
     "output_type": "stream",
     "text": [
      "Тариф smart : Сообщения\n"
     ]
    },
    {
     "data": {
      "image/png": "[encoded data removed]",
      "text/plain": [
       "<Figure size 1080x144 with 1 Axes>"
      ]
     },
     "metadata": {},
     "output_type": "display_data"
    },
    {
     "name": "stdout",
     "output_type": "stream",
     "text": [
      "Тариф ultra : Сообщения\n"
     ]
    },
    {
     "data": {
      "image/png": "[encoded data removed]",
      "text/plain": [
       "<Figure size 1080x144 with 1 Axes>"
      ]
     },
     "metadata": {},
     "output_type": "display_data"
    },
    {
     "name": "stdout",
     "output_type": "stream",
     "text": [
      "Тариф smart : Мегабайты\n"
     ]
    },
    {
     "data": {
      "image/png": "[encoded data removed]",
      "text/plain": [
       "<Figure size 1080x144 with 1 Axes>"
      ]
     },
     "metadata": {},
     "output_type": "display_data"
    },
    {
     "name": "stdout",
     "output_type": "stream",
     "text": [
      "Тариф ultra : Мегабайты\n"
     ]
    },
    {
     "data": {
      "image/png": "[encoded data removed]",
      "text/plain": [
       "<Figure size 1080x144 with 1 Axes>"
      ]
     },
     "metadata": {},
     "output_type": "display_data"
    }
   ],
   "source": [
    "draw_boxplot(statistics_merged, 'query')"
   ]
  },
  {
   "cell_type": "markdown",
   "metadata": {},
   "source": [
    "Распределения симметричные, нормальные. Следовательно к ним применимо правило трех сигм."
   ]
  },
  {
   "cell_type": "markdown",
   "metadata": {},
   "source": [
    "### Среднее, дисперсия, стандартное отклонение"
   ]
  },
  {
   "cell_type": "markdown",
   "metadata": {},
   "source": [
    "##### Среднее"
   ]
  },
  {
   "cell_type": "markdown",
   "metadata": {},
   "source": [
    "Формируем таблицу со средним значением минут, сообщений и мегабайт для всех пользователей по месяцам и тарифам."
   ]
  },
  {
   "cell_type": "code",
   "execution_count": 47,
   "metadata": {},
   "outputs": [],
   "source": [
    "mean_by_month = (\n",
    "    (statistics_merged.pivot_table(index=['tariff', 'month'],\n",
    "                                  values=['minutes_per_month',\n",
    "                                          'messages_per_month',\n",
    "                                          'mb_per_month'], \n",
    "                                  aggfunc='mean')\n",
    "    [['minutes_per_month',\n",
    "      'messages_per_month',\n",
    "      'mb_per_month']])                                            # устанавливаем порядок отображения колонок\n",
    "     .round(2)                                                     # округляем до 2 знаков\n",
    ")"
   ]
  },
  {
   "cell_type": "code",
   "execution_count": 48,
   "metadata": {},
   "outputs": [
    {
     "data": {
      "text/html": [
       "<div>\n",
       "<style scoped>\n",
       "    .dataframe tbody tr th:only-of-type {\n",
       "        vertical-align: middle;\n",
       "    }\n",
       "\n",
       "    .dataframe tbody tr th {\n",
       "        vertical-align: top;\n",
       "    }\n",
       "\n",
       "    .dataframe thead th {\n",
       "        text-align: right;\n",
       "    }\n",
       "</style>\n",
       "<table border=\"1\" class=\"dataframe\">\n",
       "  <thead>\n",
       "    <tr style=\"text-align: right;\">\n",
       "      <th></th>\n",
       "      <th></th>\n",
       "      <th>minutes_per_month</th>\n",
       "      <th>messages_per_month</th>\n",
       "      <th>mb_per_month</th>\n",
       "    </tr>\n",
       "    <tr>\n",
       "      <th>tariff</th>\n",
       "      <th>month</th>\n",
       "      <th></th>\n",
       "      <th></th>\n",
       "      <th></th>\n",
       "    </tr>\n",
       "  </thead>\n",
       "  <tbody>\n",
       "    <tr>\n",
       "      <td rowspan=\"12\" valign=\"top\">smart</td>\n",
       "      <td>1</td>\n",
       "      <td>203.85</td>\n",
       "      <td>18.24</td>\n",
       "      <td>8528.59</td>\n",
       "    </tr>\n",
       "    <tr>\n",
       "      <td>2</td>\n",
       "      <td>298.69</td>\n",
       "      <td>24.09</td>\n",
       "      <td>11617.34</td>\n",
       "    </tr>\n",
       "    <tr>\n",
       "      <td>3</td>\n",
       "      <td>390.05</td>\n",
       "      <td>31.86</td>\n",
       "      <td>15131.21</td>\n",
       "    </tr>\n",
       "    <tr>\n",
       "      <td>4</td>\n",
       "      <td>367.13</td>\n",
       "      <td>30.74</td>\n",
       "      <td>13486.08</td>\n",
       "    </tr>\n",
       "    <tr>\n",
       "      <td>5</td>\n",
       "      <td>387.36</td>\n",
       "      <td>33.77</td>\n",
       "      <td>15832.75</td>\n",
       "    </tr>\n",
       "    <tr>\n",
       "      <td>6</td>\n",
       "      <td>398.07</td>\n",
       "      <td>33.31</td>\n",
       "      <td>15843.06</td>\n",
       "    </tr>\n",
       "    <tr>\n",
       "      <td>7</td>\n",
       "      <td>408.35</td>\n",
       "      <td>33.75</td>\n",
       "      <td>15771.40</td>\n",
       "    </tr>\n",
       "    <tr>\n",
       "      <td>8</td>\n",
       "      <td>423.27</td>\n",
       "      <td>33.71</td>\n",
       "      <td>16664.01</td>\n",
       "    </tr>\n",
       "    <tr>\n",
       "      <td>9</td>\n",
       "      <td>430.27</td>\n",
       "      <td>33.64</td>\n",
       "      <td>16329.09</td>\n",
       "    </tr>\n",
       "    <tr>\n",
       "      <td>10</td>\n",
       "      <td>427.59</td>\n",
       "      <td>33.81</td>\n",
       "      <td>16777.26</td>\n",
       "    </tr>\n",
       "    <tr>\n",
       "      <td>11</td>\n",
       "      <td>436.65</td>\n",
       "      <td>34.12</td>\n",
       "      <td>16924.06</td>\n",
       "    </tr>\n",
       "    <tr>\n",
       "      <td>12</td>\n",
       "      <td>479.99</td>\n",
       "      <td>36.00</td>\n",
       "      <td>18148.20</td>\n",
       "    </tr>\n",
       "    <tr>\n",
       "      <td rowspan=\"12\" valign=\"top\">ultra</td>\n",
       "      <td>1</td>\n",
       "      <td>428.11</td>\n",
       "      <td>33.78</td>\n",
       "      <td>13154.67</td>\n",
       "    </tr>\n",
       "    <tr>\n",
       "      <td>2</td>\n",
       "      <td>297.12</td>\n",
       "      <td>21.96</td>\n",
       "      <td>11788.33</td>\n",
       "    </tr>\n",
       "    <tr>\n",
       "      <td>3</td>\n",
       "      <td>489.65</td>\n",
       "      <td>32.30</td>\n",
       "      <td>17553.51</td>\n",
       "    </tr>\n",
       "    <tr>\n",
       "      <td>4</td>\n",
       "      <td>475.30</td>\n",
       "      <td>32.58</td>\n",
       "      <td>17415.70</td>\n",
       "    </tr>\n",
       "    <tr>\n",
       "      <td>5</td>\n",
       "      <td>534.25</td>\n",
       "      <td>37.86</td>\n",
       "      <td>19695.25</td>\n",
       "    </tr>\n",
       "    <tr>\n",
       "      <td>6</td>\n",
       "      <td>497.47</td>\n",
       "      <td>40.05</td>\n",
       "      <td>18927.83</td>\n",
       "    </tr>\n",
       "    <tr>\n",
       "      <td>7</td>\n",
       "      <td>564.40</td>\n",
       "      <td>48.48</td>\n",
       "      <td>20467.90</td>\n",
       "    </tr>\n",
       "    <tr>\n",
       "      <td>8</td>\n",
       "      <td>530.61</td>\n",
       "      <td>47.86</td>\n",
       "      <td>19611.78</td>\n",
       "    </tr>\n",
       "    <tr>\n",
       "      <td>9</td>\n",
       "      <td>558.88</td>\n",
       "      <td>51.81</td>\n",
       "      <td>19114.10</td>\n",
       "    </tr>\n",
       "    <tr>\n",
       "      <td>10</td>\n",
       "      <td>581.73</td>\n",
       "      <td>58.47</td>\n",
       "      <td>20094.61</td>\n",
       "    </tr>\n",
       "    <tr>\n",
       "      <td>11</td>\n",
       "      <td>562.36</td>\n",
       "      <td>56.00</td>\n",
       "      <td>19660.77</td>\n",
       "    </tr>\n",
       "    <tr>\n",
       "      <td>12</td>\n",
       "      <td>614.93</td>\n",
       "      <td>60.75</td>\n",
       "      <td>21716.28</td>\n",
       "    </tr>\n",
       "  </tbody>\n",
       "</table>\n",
       "</div>"
      ],
      "text/plain": [
       "              minutes_per_month  messages_per_month  mb_per_month\n",
       "tariff month                                                     \n",
       "smart  1                 203.85               18.24       8528.59\n",
       "       2                 298.69               24.09      11617.34\n",
       "       3                 390.05               31.86      15131.21\n",
       "       4                 367.13               30.74      13486.08\n",
       "       5                 387.36               33.77      15832.75\n",
       "       6                 398.07               33.31      15843.06\n",
       "       7                 408.35               33.75      15771.40\n",
       "       8                 423.27               33.71      16664.01\n",
       "       9                 430.27               33.64      16329.09\n",
       "       10                427.59               33.81      16777.26\n",
       "       11                436.65               34.12      16924.06\n",
       "       12                479.99               36.00      18148.20\n",
       "ultra  1                 428.11               33.78      13154.67\n",
       "       2                 297.12               21.96      11788.33\n",
       "       3                 489.65               32.30      17553.51\n",
       "       4                 475.30               32.58      17415.70\n",
       "       5                 534.25               37.86      19695.25\n",
       "       6                 497.47               40.05      18927.83\n",
       "       7                 564.40               48.48      20467.90\n",
       "       8                 530.61               47.86      19611.78\n",
       "       9                 558.88               51.81      19114.10\n",
       "       10                581.73               58.47      20094.61\n",
       "       11                562.36               56.00      19660.77\n",
       "       12                614.93               60.75      21716.28"
      ]
     },
     "execution_count": 48,
     "metadata": {},
     "output_type": "execute_result"
    }
   ],
   "source": [
    "mean_by_month"
   ]
  },
  {
   "cell_type": "markdown",
   "metadata": {},
   "source": [
    "Построим гистограммы среднего для двух тарифов:"
   ]
  },
  {
   "cell_type": "code",
   "execution_count": 49,
   "metadata": {},
   "outputs": [
    {
     "name": "stdout",
     "output_type": "stream",
     "text": [
      "Тариф smart : Минуты\n"
     ]
    },
    {
     "data": {
      "image/png": "[encoded data removed]",
      "text/plain": [
       "<Figure size 1080x144 with 1 Axes>"
      ]
     },
     "metadata": {},
     "output_type": "display_data"
    },
    {
     "name": "stdout",
     "output_type": "stream",
     "text": [
      "Тариф ultra : Минуты\n"
     ]
    },
    {
     "data": {
      "image/png": "[encoded data removed]",
      "text/plain": [
       "<Figure size 1080x144 with 1 Axes>"
      ]
     },
     "metadata": {},
     "output_type": "display_data"
    },
    {
     "name": "stdout",
     "output_type": "stream",
     "text": [
      "Тариф smart : Сообщения\n"
     ]
    },
    {
     "data": {
      "image/png": "[encoded data removed]",
      "text/plain": [
       "<Figure size 1080x144 with 1 Axes>"
      ]
     },
     "metadata": {},
     "output_type": "display_data"
    },
    {
     "name": "stdout",
     "output_type": "stream",
     "text": [
      "Тариф ultra : Сообщения\n"
     ]
    },
    {
     "data": {
      "image/png": "[encoded data removed]",
      "text/plain": [
       "<Figure size 1080x144 with 1 Axes>"
      ]
     },
     "metadata": {},
     "output_type": "display_data"
    },
    {
     "name": "stdout",
     "output_type": "stream",
     "text": [
      "Тариф smart : Мегабайты\n"
     ]
    },
    {
     "data": {
      "image/png": "[encoded data removed]",
      "text/plain": [
       "<Figure size 1080x144 with 1 Axes>"
      ]
     },
     "metadata": {},
     "output_type": "display_data"
    },
    {
     "name": "stdout",
     "output_type": "stream",
     "text": [
      "Тариф ultra : Мегабайты\n"
     ]
    },
    {
     "data": {
      "image/png": "[encoded data removed]",
      "text/plain": [
       "<Figure size 1080x144 with 1 Axes>"
      ]
     },
     "metadata": {},
     "output_type": "display_data"
    }
   ],
   "source": [
    "draw_boxplot(mean_by_month, 'else')"
   ]
  },
  {
   "cell_type": "markdown",
   "metadata": {},
   "source": [
    "##### Дисперсия"
   ]
  },
  {
   "cell_type": "markdown",
   "metadata": {},
   "source": [
    "Найдем дисперсию для каждого тарифа по месяцам"
   ]
  },
  {
   "cell_type": "code",
   "execution_count": 50,
   "metadata": {},
   "outputs": [],
   "source": [
    "variance_by_month = (\n",
    "    statistics_merged.pivot_table(index=['tariff','month'],\n",
    "                                  values=['minutes_per_month',\n",
    "                                          'messages_per_month',\n",
    "                                          'mb_per_month'], \n",
    "                                  aggfunc='var')\n",
    "    [['minutes_per_month',\n",
    "      'messages_per_month',\n",
    "      'mb_per_month']]                                            # устанавливаем порядок отображения колонок\n",
    "     .round(2)\n",
    ")"
   ]
  },
  {
   "cell_type": "code",
   "execution_count": 51,
   "metadata": {},
   "outputs": [
    {
     "data": {
      "text/html": [
       "<div>\n",
       "<style scoped>\n",
       "    .dataframe tbody tr th:only-of-type {\n",
       "        vertical-align: middle;\n",
       "    }\n",
       "\n",
       "    .dataframe tbody tr th {\n",
       "        vertical-align: top;\n",
       "    }\n",
       "\n",
       "    .dataframe thead th {\n",
       "        text-align: right;\n",
       "    }\n",
       "</style>\n",
       "<table border=\"1\" class=\"dataframe\">\n",
       "  <thead>\n",
       "    <tr style=\"text-align: right;\">\n",
       "      <th></th>\n",
       "      <th></th>\n",
       "      <th>minutes_per_month</th>\n",
       "      <th>messages_per_month</th>\n",
       "      <th>mb_per_month</th>\n",
       "    </tr>\n",
       "    <tr>\n",
       "      <th>tariff</th>\n",
       "      <th>month</th>\n",
       "      <th></th>\n",
       "      <th></th>\n",
       "      <th></th>\n",
       "    </tr>\n",
       "  </thead>\n",
       "  <tbody>\n",
       "    <tr>\n",
       "      <td rowspan=\"12\" valign=\"top\">smart</td>\n",
       "      <td>1</td>\n",
       "      <td>23787.34</td>\n",
       "      <td>262.37</td>\n",
       "      <td>4.166090e+07</td>\n",
       "    </tr>\n",
       "    <tr>\n",
       "      <td>2</td>\n",
       "      <td>36412.29</td>\n",
       "      <td>473.10</td>\n",
       "      <td>3.915169e+07</td>\n",
       "    </tr>\n",
       "    <tr>\n",
       "      <td>3</td>\n",
       "      <td>36823.16</td>\n",
       "      <td>718.49</td>\n",
       "      <td>3.407278e+07</td>\n",
       "    </tr>\n",
       "    <tr>\n",
       "      <td>4</td>\n",
       "      <td>34778.21</td>\n",
       "      <td>602.14</td>\n",
       "      <td>3.257102e+07</td>\n",
       "    </tr>\n",
       "    <tr>\n",
       "      <td>5</td>\n",
       "      <td>34820.06</td>\n",
       "      <td>730.99</td>\n",
       "      <td>3.585187e+07</td>\n",
       "    </tr>\n",
       "    <tr>\n",
       "      <td>6</td>\n",
       "      <td>29960.52</td>\n",
       "      <td>810.46</td>\n",
       "      <td>3.377733e+07</td>\n",
       "    </tr>\n",
       "    <tr>\n",
       "      <td>7</td>\n",
       "      <td>32250.27</td>\n",
       "      <td>799.89</td>\n",
       "      <td>3.488735e+07</td>\n",
       "    </tr>\n",
       "    <tr>\n",
       "      <td>8</td>\n",
       "      <td>34177.27</td>\n",
       "      <td>840.66</td>\n",
       "      <td>3.138540e+07</td>\n",
       "    </tr>\n",
       "    <tr>\n",
       "      <td>9</td>\n",
       "      <td>32950.53</td>\n",
       "      <td>793.67</td>\n",
       "      <td>2.718073e+07</td>\n",
       "    </tr>\n",
       "    <tr>\n",
       "      <td>10</td>\n",
       "      <td>34889.53</td>\n",
       "      <td>818.35</td>\n",
       "      <td>3.453379e+07</td>\n",
       "    </tr>\n",
       "    <tr>\n",
       "      <td>11</td>\n",
       "      <td>31100.61</td>\n",
       "      <td>807.87</td>\n",
       "      <td>2.870055e+07</td>\n",
       "    </tr>\n",
       "    <tr>\n",
       "      <td>12</td>\n",
       "      <td>39131.45</td>\n",
       "      <td>937.74</td>\n",
       "      <td>3.125639e+07</td>\n",
       "    </tr>\n",
       "    <tr>\n",
       "      <td rowspan=\"12\" valign=\"top\">ultra</td>\n",
       "      <td>1</td>\n",
       "      <td>72769.36</td>\n",
       "      <td>940.69</td>\n",
       "      <td>4.722308e+07</td>\n",
       "    </tr>\n",
       "    <tr>\n",
       "      <td>2</td>\n",
       "      <td>87919.68</td>\n",
       "      <td>716.82</td>\n",
       "      <td>1.135342e+08</td>\n",
       "    </tr>\n",
       "    <tr>\n",
       "      <td>3</td>\n",
       "      <td>111384.90</td>\n",
       "      <td>1732.38</td>\n",
       "      <td>1.201890e+08</td>\n",
       "    </tr>\n",
       "    <tr>\n",
       "      <td>4</td>\n",
       "      <td>66036.83</td>\n",
       "      <td>1431.40</td>\n",
       "      <td>8.910445e+07</td>\n",
       "    </tr>\n",
       "    <tr>\n",
       "      <td>5</td>\n",
       "      <td>74881.02</td>\n",
       "      <td>1694.82</td>\n",
       "      <td>1.033840e+08</td>\n",
       "    </tr>\n",
       "    <tr>\n",
       "      <td>6</td>\n",
       "      <td>86019.65</td>\n",
       "      <td>1737.40</td>\n",
       "      <td>8.783160e+07</td>\n",
       "    </tr>\n",
       "    <tr>\n",
       "      <td>7</td>\n",
       "      <td>86952.59</td>\n",
       "      <td>2143.22</td>\n",
       "      <td>1.041858e+08</td>\n",
       "    </tr>\n",
       "    <tr>\n",
       "      <td>8</td>\n",
       "      <td>91169.55</td>\n",
       "      <td>2068.82</td>\n",
       "      <td>1.118461e+08</td>\n",
       "    </tr>\n",
       "    <tr>\n",
       "      <td>9</td>\n",
       "      <td>98597.90</td>\n",
       "      <td>2041.86</td>\n",
       "      <td>9.148474e+07</td>\n",
       "    </tr>\n",
       "    <tr>\n",
       "      <td>10</td>\n",
       "      <td>97140.34</td>\n",
       "      <td>2632.10</td>\n",
       "      <td>9.849259e+07</td>\n",
       "    </tr>\n",
       "    <tr>\n",
       "      <td>11</td>\n",
       "      <td>88449.62</td>\n",
       "      <td>2423.20</td>\n",
       "      <td>9.923957e+07</td>\n",
       "    </tr>\n",
       "    <tr>\n",
       "      <td>12</td>\n",
       "      <td>107981.03</td>\n",
       "      <td>2608.26</td>\n",
       "      <td>1.080672e+08</td>\n",
       "    </tr>\n",
       "  </tbody>\n",
       "</table>\n",
       "</div>"
      ],
      "text/plain": [
       "              minutes_per_month  messages_per_month  mb_per_month\n",
       "tariff month                                                     \n",
       "smart  1               23787.34              262.37  4.166090e+07\n",
       "       2               36412.29              473.10  3.915169e+07\n",
       "       3               36823.16              718.49  3.407278e+07\n",
       "       4               34778.21              602.14  3.257102e+07\n",
       "       5               34820.06              730.99  3.585187e+07\n",
       "       6               29960.52              810.46  3.377733e+07\n",
       "       7               32250.27              799.89  3.488735e+07\n",
       "       8               34177.27              840.66  3.138540e+07\n",
       "       9               32950.53              793.67  2.718073e+07\n",
       "       10              34889.53              818.35  3.453379e+07\n",
       "       11              31100.61              807.87  2.870055e+07\n",
       "       12              39131.45              937.74  3.125639e+07\n",
       "ultra  1               72769.36              940.69  4.722308e+07\n",
       "       2               87919.68              716.82  1.135342e+08\n",
       "       3              111384.90             1732.38  1.201890e+08\n",
       "       4               66036.83             1431.40  8.910445e+07\n",
       "       5               74881.02             1694.82  1.033840e+08\n",
       "       6               86019.65             1737.40  8.783160e+07\n",
       "       7               86952.59             2143.22  1.041858e+08\n",
       "       8               91169.55             2068.82  1.118461e+08\n",
       "       9               98597.90             2041.86  9.148474e+07\n",
       "       10              97140.34             2632.10  9.849259e+07\n",
       "       11              88449.62             2423.20  9.923957e+07\n",
       "       12             107981.03             2608.26  1.080672e+08"
      ]
     },
     "execution_count": 51,
     "metadata": {},
     "output_type": "execute_result"
    }
   ],
   "source": [
    "variance_by_month"
   ]
  },
  {
   "cell_type": "markdown",
   "metadata": {},
   "source": [
    "Построим гистограммы:"
   ]
  },
  {
   "cell_type": "code",
   "execution_count": 52,
   "metadata": {},
   "outputs": [
    {
     "name": "stdout",
     "output_type": "stream",
     "text": [
      "Тариф smart : Минуты\n"
     ]
    },
    {
     "data": {
      "image/png": "[encoded data removed]",
      "text/plain": [
       "<Figure size 1080x144 with 1 Axes>"
      ]
     },
     "metadata": {},
     "output_type": "display_data"
    },
    {
     "name": "stdout",
     "output_type": "stream",
     "text": [
      "Тариф ultra : Минуты\n"
     ]
    },
    {
     "data": {
      "image/png": "[encoded data removed]",
      "text/plain": [
       "<Figure size 1080x144 with 1 Axes>"
      ]
     },
     "metadata": {},
     "output_type": "display_data"
    },
    {
     "name": "stdout",
     "output_type": "stream",
     "text": [
      "Тариф smart : Сообщения\n"
     ]
    },
    {
     "data": {
      "image/png": "[encoded data removed]",
      "text/plain": [
       "<Figure size 1080x144 with 1 Axes>"
      ]
     },
     "metadata": {},
     "output_type": "display_data"
    },
    {
     "name": "stdout",
     "output_type": "stream",
     "text": [
      "Тариф ultra : Сообщения\n"
     ]
    },
    {
     "data": {
      "image/png": "[encoded data removed]",
      "text/plain": [
       "<Figure size 1080x144 with 1 Axes>"
      ]
     },
     "metadata": {},
     "output_type": "display_data"
    },
    {
     "name": "stdout",
     "output_type": "stream",
     "text": [
      "Тариф smart : Мегабайты\n"
     ]
    },
    {
     "data": {
      "image/png": "[encoded data removed]",
      "text/plain": [
       "<Figure size 1080x144 with 1 Axes>"
      ]
     },
     "metadata": {},
     "output_type": "display_data"
    },
    {
     "name": "stdout",
     "output_type": "stream",
     "text": [
      "Тариф ultra : Мегабайты\n"
     ]
    },
    {
     "data": {
      "image/png": "[encoded data removed]",
      "text/plain": [
       "<Figure size 1080x144 with 1 Axes>"
      ]
     },
     "metadata": {},
     "output_type": "display_data"
    }
   ],
   "source": [
    "draw_boxplot(variance_by_month, 'no')"
   ]
  },
  {
   "cell_type": "markdown",
   "metadata": {},
   "source": [
    "##### Стандартное отклонение"
   ]
  },
  {
   "cell_type": "markdown",
   "metadata": {},
   "source": [
    "Найдем стандартное отклонение для каждого тарифа по месяцам"
   ]
  },
  {
   "cell_type": "code",
   "execution_count": 53,
   "metadata": {},
   "outputs": [],
   "source": [
    "std_by_month = (\n",
    "    statistics_merged.pivot_table(index=['tariff','month'],\n",
    "                                  values=['minutes_per_month',\n",
    "                                          'messages_per_month',\n",
    "                                          'mb_per_month'], \n",
    "                                  aggfunc='std')\n",
    "    [['minutes_per_month',\n",
    "      'messages_per_month',\n",
    "      'mb_per_month']]                                            # устанавливаем порядок отображения колонок\n",
    "     .round(2)\n",
    ")"
   ]
  },
  {
   "cell_type": "code",
   "execution_count": 54,
   "metadata": {},
   "outputs": [
    {
     "data": {
      "text/html": [
       "<div>\n",
       "<style scoped>\n",
       "    .dataframe tbody tr th:only-of-type {\n",
       "        vertical-align: middle;\n",
       "    }\n",
       "\n",
       "    .dataframe tbody tr th {\n",
       "        vertical-align: top;\n",
       "    }\n",
       "\n",
       "    .dataframe thead th {\n",
       "        text-align: right;\n",
       "    }\n",
       "</style>\n",
       "<table border=\"1\" class=\"dataframe\">\n",
       "  <thead>\n",
       "    <tr style=\"text-align: right;\">\n",
       "      <th></th>\n",
       "      <th></th>\n",
       "      <th>minutes_per_month</th>\n",
       "      <th>messages_per_month</th>\n",
       "      <th>mb_per_month</th>\n",
       "    </tr>\n",
       "    <tr>\n",
       "      <th>tariff</th>\n",
       "      <th>month</th>\n",
       "      <th></th>\n",
       "      <th></th>\n",
       "      <th></th>\n",
       "    </tr>\n",
       "  </thead>\n",
       "  <tbody>\n",
       "    <tr>\n",
       "      <td rowspan=\"12\" valign=\"top\">smart</td>\n",
       "      <td>1</td>\n",
       "      <td>154.23</td>\n",
       "      <td>16.20</td>\n",
       "      <td>6454.53</td>\n",
       "    </tr>\n",
       "    <tr>\n",
       "      <td>2</td>\n",
       "      <td>190.82</td>\n",
       "      <td>21.75</td>\n",
       "      <td>6257.13</td>\n",
       "    </tr>\n",
       "    <tr>\n",
       "      <td>3</td>\n",
       "      <td>191.89</td>\n",
       "      <td>26.80</td>\n",
       "      <td>5837.19</td>\n",
       "    </tr>\n",
       "    <tr>\n",
       "      <td>4</td>\n",
       "      <td>186.49</td>\n",
       "      <td>24.54</td>\n",
       "      <td>5707.10</td>\n",
       "    </tr>\n",
       "    <tr>\n",
       "      <td>5</td>\n",
       "      <td>186.60</td>\n",
       "      <td>27.04</td>\n",
       "      <td>5987.64</td>\n",
       "    </tr>\n",
       "    <tr>\n",
       "      <td>6</td>\n",
       "      <td>173.09</td>\n",
       "      <td>28.47</td>\n",
       "      <td>5811.83</td>\n",
       "    </tr>\n",
       "    <tr>\n",
       "      <td>7</td>\n",
       "      <td>179.58</td>\n",
       "      <td>28.28</td>\n",
       "      <td>5906.55</td>\n",
       "    </tr>\n",
       "    <tr>\n",
       "      <td>8</td>\n",
       "      <td>184.87</td>\n",
       "      <td>28.99</td>\n",
       "      <td>5602.27</td>\n",
       "    </tr>\n",
       "    <tr>\n",
       "      <td>9</td>\n",
       "      <td>181.52</td>\n",
       "      <td>28.17</td>\n",
       "      <td>5213.51</td>\n",
       "    </tr>\n",
       "    <tr>\n",
       "      <td>10</td>\n",
       "      <td>186.79</td>\n",
       "      <td>28.61</td>\n",
       "      <td>5876.55</td>\n",
       "    </tr>\n",
       "    <tr>\n",
       "      <td>11</td>\n",
       "      <td>176.35</td>\n",
       "      <td>28.42</td>\n",
       "      <td>5357.29</td>\n",
       "    </tr>\n",
       "    <tr>\n",
       "      <td>12</td>\n",
       "      <td>197.82</td>\n",
       "      <td>30.62</td>\n",
       "      <td>5590.74</td>\n",
       "    </tr>\n",
       "    <tr>\n",
       "      <td rowspan=\"12\" valign=\"top\">ultra</td>\n",
       "      <td>1</td>\n",
       "      <td>269.76</td>\n",
       "      <td>30.67</td>\n",
       "      <td>6871.91</td>\n",
       "    </tr>\n",
       "    <tr>\n",
       "      <td>2</td>\n",
       "      <td>296.51</td>\n",
       "      <td>26.77</td>\n",
       "      <td>10655.24</td>\n",
       "    </tr>\n",
       "    <tr>\n",
       "      <td>3</td>\n",
       "      <td>333.74</td>\n",
       "      <td>41.62</td>\n",
       "      <td>10963.07</td>\n",
       "    </tr>\n",
       "    <tr>\n",
       "      <td>4</td>\n",
       "      <td>256.98</td>\n",
       "      <td>37.83</td>\n",
       "      <td>9439.52</td>\n",
       "    </tr>\n",
       "    <tr>\n",
       "      <td>5</td>\n",
       "      <td>273.64</td>\n",
       "      <td>41.17</td>\n",
       "      <td>10167.79</td>\n",
       "    </tr>\n",
       "    <tr>\n",
       "      <td>6</td>\n",
       "      <td>293.29</td>\n",
       "      <td>41.68</td>\n",
       "      <td>9371.85</td>\n",
       "    </tr>\n",
       "    <tr>\n",
       "      <td>7</td>\n",
       "      <td>294.88</td>\n",
       "      <td>46.29</td>\n",
       "      <td>10207.14</td>\n",
       "    </tr>\n",
       "    <tr>\n",
       "      <td>8</td>\n",
       "      <td>301.94</td>\n",
       "      <td>45.48</td>\n",
       "      <td>10575.73</td>\n",
       "    </tr>\n",
       "    <tr>\n",
       "      <td>9</td>\n",
       "      <td>314.00</td>\n",
       "      <td>45.19</td>\n",
       "      <td>9564.77</td>\n",
       "    </tr>\n",
       "    <tr>\n",
       "      <td>10</td>\n",
       "      <td>311.67</td>\n",
       "      <td>51.30</td>\n",
       "      <td>9924.34</td>\n",
       "    </tr>\n",
       "    <tr>\n",
       "      <td>11</td>\n",
       "      <td>297.40</td>\n",
       "      <td>49.23</td>\n",
       "      <td>9961.91</td>\n",
       "    </tr>\n",
       "    <tr>\n",
       "      <td>12</td>\n",
       "      <td>328.60</td>\n",
       "      <td>51.07</td>\n",
       "      <td>10395.54</td>\n",
       "    </tr>\n",
       "  </tbody>\n",
       "</table>\n",
       "</div>"
      ],
      "text/plain": [
       "              minutes_per_month  messages_per_month  mb_per_month\n",
       "tariff month                                                     \n",
       "smart  1                 154.23               16.20       6454.53\n",
       "       2                 190.82               21.75       6257.13\n",
       "       3                 191.89               26.80       5837.19\n",
       "       4                 186.49               24.54       5707.10\n",
       "       5                 186.60               27.04       5987.64\n",
       "       6                 173.09               28.47       5811.83\n",
       "       7                 179.58               28.28       5906.55\n",
       "       8                 184.87               28.99       5602.27\n",
       "       9                 181.52               28.17       5213.51\n",
       "       10                186.79               28.61       5876.55\n",
       "       11                176.35               28.42       5357.29\n",
       "       12                197.82               30.62       5590.74\n",
       "ultra  1                 269.76               30.67       6871.91\n",
       "       2                 296.51               26.77      10655.24\n",
       "       3                 333.74               41.62      10963.07\n",
       "       4                 256.98               37.83       9439.52\n",
       "       5                 273.64               41.17      10167.79\n",
       "       6                 293.29               41.68       9371.85\n",
       "       7                 294.88               46.29      10207.14\n",
       "       8                 301.94               45.48      10575.73\n",
       "       9                 314.00               45.19       9564.77\n",
       "       10                311.67               51.30       9924.34\n",
       "       11                297.40               49.23       9961.91\n",
       "       12                328.60               51.07      10395.54"
      ]
     },
     "execution_count": 54,
     "metadata": {},
     "output_type": "execute_result"
    }
   ],
   "source": [
    "std_by_month"
   ]
  },
  {
   "cell_type": "code",
   "execution_count": 55,
   "metadata": {},
   "outputs": [
    {
     "name": "stdout",
     "output_type": "stream",
     "text": [
      "Тариф smart : Минуты\n"
     ]
    },
    {
     "data": {
      "image/png": "[encoded data removed]",
      "text/plain": [
       "<Figure size 1080x144 with 1 Axes>"
      ]
     },
     "metadata": {},
     "output_type": "display_data"
    },
    {
     "name": "stdout",
     "output_type": "stream",
     "text": [
      "Тариф ultra : Минуты\n"
     ]
    },
    {
     "data": {
      "image/png": "[encoded data removed]",
      "text/plain": [
       "<Figure size 1080x144 with 1 Axes>"
      ]
     },
     "metadata": {},
     "output_type": "display_data"
    },
    {
     "name": "stdout",
     "output_type": "stream",
     "text": [
      "Тариф smart : Сообщения\n"
     ]
    },
    {
     "data": {
      "image/png": "[encoded data removed]",
      "text/plain": [
       "<Figure size 1080x144 with 1 Axes>"
      ]
     },
     "metadata": {},
     "output_type": "display_data"
    },
    {
     "name": "stdout",
     "output_type": "stream",
     "text": [
      "Тариф ultra : Сообщения\n"
     ]
    },
    {
     "data": {
      "image/png": "[encoded data removed]",
      "text/plain": [
       "<Figure size 1080x144 with 1 Axes>"
      ]
     },
     "metadata": {},
     "output_type": "display_data"
    },
    {
     "name": "stdout",
     "output_type": "stream",
     "text": [
      "Тариф smart : Мегабайты\n"
     ]
    },
    {
     "data": {
      "image/png": "[encoded data removed]",
      "text/plain": [
       "<Figure size 1080x144 with 1 Axes>"
      ]
     },
     "metadata": {},
     "output_type": "display_data"
    },
    {
     "name": "stdout",
     "output_type": "stream",
     "text": [
      "Тариф ultra : Мегабайты\n"
     ]
    },
    {
     "data": {
      "image/png": "[encoded data removed]",
      "text/plain": [
       "<Figure size 1080x144 with 1 Axes>"
      ]
     },
     "metadata": {},
     "output_type": "display_data"
    }
   ],
   "source": [
    "draw_boxplot(std_by_month, 'no')"
   ]
  },
  {
   "cell_type": "markdown",
   "metadata": {},
   "source": [
    "#### Подсчет минут разговора, количества сообщений и объёма интернет-трафика требуется пользователям каждого тарифа по месяцам"
   ]
  },
  {
   "cell_type": "markdown",
   "metadata": {},
   "source": [
    "Считаем потребность в услугах для пользователей каждого тарифа в месяц."
   ]
  },
  {
   "cell_type": "code",
   "execution_count": 56,
   "metadata": {},
   "outputs": [],
   "source": [
    "need_in_services = mean_by_month + (3 * std_by_month) "
   ]
  },
  {
   "cell_type": "code",
   "execution_count": 57,
   "metadata": {},
   "outputs": [
    {
     "data": {
      "text/html": [
       "<div>\n",
       "<style scoped>\n",
       "    .dataframe tbody tr th:only-of-type {\n",
       "        vertical-align: middle;\n",
       "    }\n",
       "\n",
       "    .dataframe tbody tr th {\n",
       "        vertical-align: top;\n",
       "    }\n",
       "\n",
       "    .dataframe thead th {\n",
       "        text-align: right;\n",
       "    }\n",
       "</style>\n",
       "<table border=\"1\" class=\"dataframe\">\n",
       "  <thead>\n",
       "    <tr style=\"text-align: right;\">\n",
       "      <th></th>\n",
       "      <th></th>\n",
       "      <th>minutes_per_month</th>\n",
       "      <th>messages_per_month</th>\n",
       "      <th>mb_per_month</th>\n",
       "    </tr>\n",
       "    <tr>\n",
       "      <th>tariff</th>\n",
       "      <th>month</th>\n",
       "      <th></th>\n",
       "      <th></th>\n",
       "      <th></th>\n",
       "    </tr>\n",
       "  </thead>\n",
       "  <tbody>\n",
       "    <tr>\n",
       "      <td rowspan=\"12\" valign=\"top\">smart</td>\n",
       "      <td>1</td>\n",
       "      <td>666.54</td>\n",
       "      <td>66.84</td>\n",
       "      <td>27892.18</td>\n",
       "    </tr>\n",
       "    <tr>\n",
       "      <td>2</td>\n",
       "      <td>871.15</td>\n",
       "      <td>89.34</td>\n",
       "      <td>30388.73</td>\n",
       "    </tr>\n",
       "    <tr>\n",
       "      <td>3</td>\n",
       "      <td>965.72</td>\n",
       "      <td>112.26</td>\n",
       "      <td>32642.78</td>\n",
       "    </tr>\n",
       "    <tr>\n",
       "      <td>4</td>\n",
       "      <td>926.60</td>\n",
       "      <td>104.36</td>\n",
       "      <td>30607.38</td>\n",
       "    </tr>\n",
       "    <tr>\n",
       "      <td>5</td>\n",
       "      <td>947.16</td>\n",
       "      <td>114.89</td>\n",
       "      <td>33795.67</td>\n",
       "    </tr>\n",
       "    <tr>\n",
       "      <td>6</td>\n",
       "      <td>917.34</td>\n",
       "      <td>118.72</td>\n",
       "      <td>33278.55</td>\n",
       "    </tr>\n",
       "    <tr>\n",
       "      <td>7</td>\n",
       "      <td>947.09</td>\n",
       "      <td>118.59</td>\n",
       "      <td>33491.05</td>\n",
       "    </tr>\n",
       "    <tr>\n",
       "      <td>8</td>\n",
       "      <td>977.88</td>\n",
       "      <td>120.68</td>\n",
       "      <td>33470.82</td>\n",
       "    </tr>\n",
       "    <tr>\n",
       "      <td>9</td>\n",
       "      <td>974.83</td>\n",
       "      <td>118.15</td>\n",
       "      <td>31969.62</td>\n",
       "    </tr>\n",
       "    <tr>\n",
       "      <td>10</td>\n",
       "      <td>987.96</td>\n",
       "      <td>119.64</td>\n",
       "      <td>34406.91</td>\n",
       "    </tr>\n",
       "    <tr>\n",
       "      <td>11</td>\n",
       "      <td>965.70</td>\n",
       "      <td>119.38</td>\n",
       "      <td>32995.93</td>\n",
       "    </tr>\n",
       "    <tr>\n",
       "      <td>12</td>\n",
       "      <td>1073.45</td>\n",
       "      <td>127.86</td>\n",
       "      <td>34920.42</td>\n",
       "    </tr>\n",
       "    <tr>\n",
       "      <td rowspan=\"12\" valign=\"top\">ultra</td>\n",
       "      <td>1</td>\n",
       "      <td>1237.39</td>\n",
       "      <td>125.79</td>\n",
       "      <td>33770.40</td>\n",
       "    </tr>\n",
       "    <tr>\n",
       "      <td>2</td>\n",
       "      <td>1186.65</td>\n",
       "      <td>102.27</td>\n",
       "      <td>43754.05</td>\n",
       "    </tr>\n",
       "    <tr>\n",
       "      <td>3</td>\n",
       "      <td>1490.87</td>\n",
       "      <td>157.16</td>\n",
       "      <td>50442.72</td>\n",
       "    </tr>\n",
       "    <tr>\n",
       "      <td>4</td>\n",
       "      <td>1246.24</td>\n",
       "      <td>146.07</td>\n",
       "      <td>45734.26</td>\n",
       "    </tr>\n",
       "    <tr>\n",
       "      <td>5</td>\n",
       "      <td>1355.17</td>\n",
       "      <td>161.37</td>\n",
       "      <td>50198.62</td>\n",
       "    </tr>\n",
       "    <tr>\n",
       "      <td>6</td>\n",
       "      <td>1377.34</td>\n",
       "      <td>165.09</td>\n",
       "      <td>47043.38</td>\n",
       "    </tr>\n",
       "    <tr>\n",
       "      <td>7</td>\n",
       "      <td>1449.04</td>\n",
       "      <td>187.35</td>\n",
       "      <td>51089.32</td>\n",
       "    </tr>\n",
       "    <tr>\n",
       "      <td>8</td>\n",
       "      <td>1436.43</td>\n",
       "      <td>184.30</td>\n",
       "      <td>51338.97</td>\n",
       "    </tr>\n",
       "    <tr>\n",
       "      <td>9</td>\n",
       "      <td>1500.88</td>\n",
       "      <td>187.38</td>\n",
       "      <td>47808.41</td>\n",
       "    </tr>\n",
       "    <tr>\n",
       "      <td>10</td>\n",
       "      <td>1516.74</td>\n",
       "      <td>212.37</td>\n",
       "      <td>49867.63</td>\n",
       "    </tr>\n",
       "    <tr>\n",
       "      <td>11</td>\n",
       "      <td>1454.56</td>\n",
       "      <td>203.69</td>\n",
       "      <td>49546.50</td>\n",
       "    </tr>\n",
       "    <tr>\n",
       "      <td>12</td>\n",
       "      <td>1600.73</td>\n",
       "      <td>213.96</td>\n",
       "      <td>52902.90</td>\n",
       "    </tr>\n",
       "  </tbody>\n",
       "</table>\n",
       "</div>"
      ],
      "text/plain": [
       "              minutes_per_month  messages_per_month  mb_per_month\n",
       "tariff month                                                     \n",
       "smart  1                 666.54               66.84      27892.18\n",
       "       2                 871.15               89.34      30388.73\n",
       "       3                 965.72              112.26      32642.78\n",
       "       4                 926.60              104.36      30607.38\n",
       "       5                 947.16              114.89      33795.67\n",
       "       6                 917.34              118.72      33278.55\n",
       "       7                 947.09              118.59      33491.05\n",
       "       8                 977.88              120.68      33470.82\n",
       "       9                 974.83              118.15      31969.62\n",
       "       10                987.96              119.64      34406.91\n",
       "       11                965.70              119.38      32995.93\n",
       "       12               1073.45              127.86      34920.42\n",
       "ultra  1                1237.39              125.79      33770.40\n",
       "       2                1186.65              102.27      43754.05\n",
       "       3                1490.87              157.16      50442.72\n",
       "       4                1246.24              146.07      45734.26\n",
       "       5                1355.17              161.37      50198.62\n",
       "       6                1377.34              165.09      47043.38\n",
       "       7                1449.04              187.35      51089.32\n",
       "       8                1436.43              184.30      51338.97\n",
       "       9                1500.88              187.38      47808.41\n",
       "       10               1516.74              212.37      49867.63\n",
       "       11               1454.56              203.69      49546.50\n",
       "       12               1600.73              213.96      52902.90"
      ]
     },
     "execution_count": 57,
     "metadata": {},
     "output_type": "execute_result"
    }
   ],
   "source": [
    "need_in_services"
   ]
  },
  {
   "cell_type": "code",
   "execution_count": 58,
   "metadata": {},
   "outputs": [],
   "source": [
    "def draw_plot(data):\n",
    "    draw_plot_list = ['minutes_per_month', 'messages_per_month', 'mb_per_month']\n",
    "        \n",
    "    for name in draw_plot_list:\n",
    "        if name == 'minutes_per_month':\n",
    "                title = ('Минуты')\n",
    "        elif name == 'messages_per_month':\n",
    "                title = ('Сообщения')\n",
    "        else:\n",
    "                title = ('Мегабайты')\n",
    "        \n",
    "        data.loc[['smart']][name].plot(kind='line', title=title, legend=True)\n",
    "        data.loc[['ultra']][name].plot(kind='line', legend=True)\n",
    "        plt.show()"
   ]
  },
  {
   "cell_type": "code",
   "execution_count": 59,
   "metadata": {},
   "outputs": [
    {
     "name": "stdout",
     "output_type": "stream",
     "text": [
      "Среднее количество минут в месяц, удовлетворяющее потребность большинства пользователей тарифа smart: 935.12\n",
      "Среднее количество сообщений в месяц, удовлетворяющее потребность большинства пользователей тарифа smart: 110.89\n",
      "Среднее количество мегабайт в месяц, удовлетворяющее потребность большинства пользователей тарифа smart: 32488.34\n",
      "\n",
      "Среднее количество минут в месяц, удовлетворяющее потребность большинства пользователей тарифа ultra: 1404.34\n",
      "Среднее количество сообщений в месяц, удовлетворяющее потребность большинства пользователей тарифа ultra: 170.57\n",
      "Среднее количество мегабайт в месяц, удовлетворяющее потребность большинства пользователей тарифа ultra: 47791.43\n",
      "\n"
     ]
    }
   ],
   "source": [
    "tarifflist = ['smart', 'ultra']\n",
    "for name in tarifflist:\n",
    "    print('Среднее количество минут в месяц, удовлетворяющее потребность большинства пользователей тарифа {}:'.format(name),\n",
    "          need_in_services.loc[[name]]['minutes_per_month'].mean().round(2))\n",
    "    print('Среднее количество сообщений в месяц, удовлетворяющее потребность большинства пользователей тарифа {}:'.format(name),\n",
    "          need_in_services.loc[[name]]['messages_per_month'].mean().round(2))\n",
    "    print('Среднее количество мегабайт в месяц, удовлетворяющее потребность большинства пользователей тарифа {}:'.format(name),\n",
    "          need_in_services.loc[[name]]['mb_per_month'].mean().round(2))\n",
    "    print()"
   ]
  },
  {
   "cell_type": "markdown",
   "metadata": {},
   "source": [
    "#### Выводы"
   ]
  },
  {
   "cell_type": "markdown",
   "metadata": {},
   "source": [
    "Полученные данные количества минут, сообщений и мегабайт для обоих тарифов симметричны относительно среднего, распределение нормальное. Были найдены предельные значения этих показателей, которые удовлетворят большинство пользователей.\n",
    "\n",
    "Как видно из графиков ниже, всплески потребления приходятся на март, июль и декабрь. Возможно, это связано с праздниками и сезоном отпусков. Либо к концу года в сеть пришли новые абоненты, которые выбрали ее за предоставляемые пакеты услуг и пользуются ими в полной мере."
   ]
  },
  {
   "cell_type": "markdown",
   "metadata": {},
   "source": [
    "Распределение количества услуг по месяцам для пользователей обоих тарифов.\n",
    "\n",
    "- smart - синий\n",
    "- ultra - оранжевый"
   ]
  },
  {
   "cell_type": "code",
   "execution_count": 60,
   "metadata": {},
   "outputs": [
    {
     "data": {
      "image/png": "[encoded data removed]",
      "text/plain": [
       "<Figure size 432x288 with 1 Axes>"
      ]
     },
     "metadata": {},
     "output_type": "display_data"
    },
    {
     "data": {
      "image/png": "[encoded data removed]",
      "text/plain": [
       "<Figure size 432x288 with 1 Axes>"
      ]
     },
     "metadata": {},
     "output_type": "display_data"
    },
    {
     "data": {
      "image/png": "[encoded data removed]",
      "text/plain": [
       "<Figure size 432x288 with 1 Axes>"
      ]
     },
     "metadata": {},
     "output_type": "display_data"
    }
   ],
   "source": [
    "draw_plot(need_in_services)"
   ]
  },
  {
   "cell_type": "markdown",
   "metadata": {},
   "source": [
    "Гистограммы по каждому параметры для двух тарифов:"
   ]
  },
  {
   "cell_type": "code",
   "execution_count": 62,
   "metadata": {},
   "outputs": [
    {
     "data": {
      "image/png": "[encoded data removed]",
      "text/plain": [
       "<Figure size 432x288 with 1 Axes>"
      ]
     },
     "metadata": {},
     "output_type": "display_data"
    },
    {
     "data": {
      "image/png": "[encoded data removed]",
      "text/plain": [
       "<Figure size 432x288 with 1 Axes>"
      ]
     },
     "metadata": {},
     "output_type": "display_data"
    },
    {
     "data": {
      "image/png": "[encoded data removed]",
      "text/plain": [
       "<Figure size 432x288 with 1 Axes>"
      ]
     },
     "metadata": {},
     "output_type": "display_data"
    }
   ],
   "source": [
    "for name in indicators_list:\n",
    "    draw_hist(statistics_per_user.query('tariff == \"smart\"'), name, 'Тариф Smart')\n",
    "    draw_hist(statistics_per_user.query('tariff == \"ultra\"'), name, 'Тариф Smart - СИНИЙ, тариф ultra - ОРАНЖЕВЫЙ')\n",
    "    plt.show()"
   ]
  },
  {
   "cell_type": "markdown",
   "metadata": {},
   "source": [
    "Абоненты тарифа __ultra__ не выходят за лимиты по показателям минут и сообщений, однако забирают интернет сверх лимита.\n",
    "\n",
    "\n",
    "Пользователям __smart__ интернета явно не хватает. Очень часто они используют интернет сверх лимита. Также превышают лимит по показателям звонков и СМС."
   ]
  },
  {
   "cell_type": "markdown",
   "metadata": {},
   "source": [
    "Среднее количество услуг в месяц, удовлетворяющее потребность большинства пользователей по тарифам:\n",
    "\n",
    "\n",
    "Пользователям тарифа smart требуется:\n",
    "  -  минут: до 851\n",
    "  -  сообщений: до 111\n",
    "  -  мегабайт: до 26968\n",
    "  \n",
    "  Пользователям тарифа smart следует предложить тариф с увеличенным лимитом по услугам.\n",
    "\n",
    "Пользователям тарифа ultra требуется:\n",
    "  -  минут: до 1351\n",
    "  -  сообщений: до 191\n",
    "  -  мегабайт: до 44559"
   ]
  },
  {
   "cell_type": "markdown",
   "metadata": {},
   "source": [
    "## 4. Проверка гипотез"
   ]
  },
  {
   "cell_type": "markdown",
   "metadata": {},
   "source": [
    "### Средняя выручка пользователей тарифов «Ультра» и «Смарт» различается"
   ]
  },
  {
   "cell_type": "markdown",
   "metadata": {},
   "source": [
    "Формулируем __нулевую гипотезу Н0__ исходя из того, что средняя выручка от абонентов двух тарифов равна.\n",
    "\n",
    "Тогда __альтернативная гипотеза Н1__ - средняя выручка пользователей различается."
   ]
  },
  {
   "cell_type": "markdown",
   "metadata": {},
   "source": [
    "Сформируем срезы по тарифам"
   ]
  },
  {
   "cell_type": "code",
   "execution_count": 63,
   "metadata": {},
   "outputs": [],
   "source": [
    "smart_income = statistics_per_user[statistics_per_user['tariff'] == 'smart']['total_income']\n",
    "ultra_income = statistics_per_user[statistics_per_user['tariff'] == 'ultra']['total_income']"
   ]
  },
  {
   "cell_type": "markdown",
   "metadata": {},
   "source": [
    "Найдем среднюю выручку по тарифам:"
   ]
  },
  {
   "cell_type": "code",
   "execution_count": 64,
   "metadata": {},
   "outputs": [
    {
     "name": "stdout",
     "output_type": "stream",
     "text": [
      "Средняя выручка для тарифа smart: 686.3323782234957\n",
      "Средняя выручка для тарифа ultra: 1959.1048951048951\n"
     ]
    }
   ],
   "source": [
    "print('Средняя выручка для тарифа smart:', np.mean(smart_income))\n",
    "print('Средняя выручка для тарифа ultra:', np.mean(ultra_income))"
   ]
  },
  {
   "cell_type": "markdown",
   "metadata": {},
   "source": [
    "Проверим нулевую гипотезу с помощью т-теста:"
   ]
  },
  {
   "cell_type": "markdown",
   "metadata": {},
   "source": [
    "Имеем выборки из двух генеральных совокупностей (разные тарифы), поэтому используем метод __scipy.stats.ttest_ind()__."
   ]
  },
  {
   "cell_type": "code",
   "execution_count": 65,
   "metadata": {},
   "outputs": [
    {
     "name": "stdout",
     "output_type": "stream",
     "text": [
      "p-значение:  9.858097649737143e-203\n",
      "Отвергаем гипотезу Н0 о равенстве значений: разница между средней прибылью от пользователей двух тарифов различается\n"
     ]
    }
   ],
   "source": [
    "alpha = .05 \n",
    "\n",
    "results = scipy.stats.ttest_ind(smart_income,\n",
    "                         ultra_income,\n",
    "                         equal_var=False)\n",
    "\n",
    "print('p-значение: ', results.pvalue)\n",
    "\n",
    "if (results.pvalue < alpha):\n",
    "    print('Отвергаем гипотезу Н0 о равенстве значений: разница между средней прибылью от пользователей двух тарифов различается')\n",
    "else:\n",
    "    print('Отвергнуть гипотезу не получилось: значения не имеют значимых различий')"
   ]
  },
  {
   "cell_type": "markdown",
   "metadata": {},
   "source": [
    "Разница между средней прибылью от пользователей двух тарифов различается"
   ]
  },
  {
   "cell_type": "markdown",
   "metadata": {},
   "source": [
    "### Средняя выручка пользователей из Москвы отличается от выручки пользователей из других регионов"
   ]
  },
  {
   "cell_type": "markdown",
   "metadata": {},
   "source": [
    "Формируем срезы по городам:"
   ]
  },
  {
   "cell_type": "code",
   "execution_count": 66,
   "metadata": {},
   "outputs": [],
   "source": [
    "moscow_income = statistics_per_user[statistics_per_user['city'] == 'Москва']['total_income']\n",
    "other_income = statistics_per_user[statistics_per_user['city'] != 'Москва']['total_income']"
   ]
  },
  {
   "cell_type": "code",
   "execution_count": 67,
   "metadata": {},
   "outputs": [
    {
     "name": "stdout",
     "output_type": "stream",
     "text": [
      "Средняя выручка для Москвы: 1087.141414141414\n",
      "Средняя выручка для всех остальных городов: 1048.4860050890586\n"
     ]
    }
   ],
   "source": [
    "print('Средняя выручка для Москвы:', np.mean(moscow_income))\n",
    "print('Средняя выручка для всех остальных городов:', np.mean(other_income))"
   ]
  },
  {
   "cell_type": "markdown",
   "metadata": {},
   "source": [
    "Формулируем нулевую гипотезу Н0 исходя из того, что средняя выручка от абонентов Москвы и остальных городов равна.\n",
    "\n",
    "Тогда альтернативная гипотеза Н1 - средняя выручка различается."
   ]
  },
  {
   "cell_type": "markdown",
   "metadata": {},
   "source": [
    "В данном случае выборки также являются выборками из двух генеральных совокупностей - Москва / другие города, - поэтому используем метод __scipy.stats.ttest_ind()__."
   ]
  },
  {
   "cell_type": "code",
   "execution_count": 68,
   "metadata": {},
   "outputs": [
    {
     "name": "stdout",
     "output_type": "stream",
     "text": [
      "p-значение:  0.6040788848710932\n",
      "Отвергнуть гипотезу не получилось: значения не имеют значимых различий\n"
     ]
    }
   ],
   "source": [
    "alpha = .05 \n",
    "\n",
    "results = scipy.stats.ttest_ind(moscow_income,\n",
    "                                other_income,\n",
    "                                equal_var=False)\n",
    "\n",
    "print('p-значение: ', results.pvalue) \n",
    "\n",
    "if (results.pvalue < alpha):\n",
    "    print('Отвергаем гипотезу Н0 о равенстве значений: разница между средней прибылью от пользователей Москвы и других городов различается')\n",
    "else:\n",
    "    print('Отвергнуть гипотезу не получилось: значения не имеют значимых различий')"
   ]
  },
  {
   "cell_type": "markdown",
   "metadata": {},
   "source": [
    "### Выводы"
   ]
  },
  {
   "cell_type": "markdown",
   "metadata": {},
   "source": [
    "Было проверено 2 утверждения:\n",
    "- Средняя выручка пользователей тарифов «Ультра» и «Смарт» различается\n",
    "    - сформулированы гипотезы: __нулевая__ - средняя выручка от абонентов двух тарифов равна; __альтернативная__ - средняя выручка пользователей различается.\n",
    "    \n",
    "  Был проведет Т-тест, методом __scipy.stats.ttest_ind()__ для выборок из двух генеральных совокупностей (тариф smart и тариф ultra). В ходе теста нулевая гипотеза была отвергнута. ___Выручка от абонентов двух разных тарифов различается___.\n",
    "    \n",
    "    \n",
    "- Средняя выручка пользователей из Москвы отличается от выручки пользователей из других регионов\n",
    "  - сформулированы гипотезы: __нулевая__ - средняя выручка от абонентов Москвы и остальных городов равна; __альтернативная__ - средняя выручка различается\n",
    "  \n",
    "  Рассматриваемые выборки - выборки двух генеральных совокупностей (Москва / остальные города), использован метод __scipy.stats.ttest_ind()__. Тест не позволил отвергнуть нулевую гипотезу, следовательно, выручка пользователей из Москвы значимо не  отличается от выручки пользователей из других регионов     "
   ]
  },
  {
   "cell_type": "markdown",
   "metadata": {},
   "source": [
    "# Общие выводы"
   ]
  },
  {
   "cell_type": "markdown",
   "metadata": {},
   "source": [
    "Данные предоставлены полные, без пропусков, кроме набора данных с информацией о пользователях. Была проведена замена типов данных в отдельных столбцах методами __.astype()__ и __.to_datetime()__.\n",
    "\n",
    "Были обнаружены значения 0 в столбце duration набора данных calls. Скорее всего, это несостоявшиеся разговоры. Были проверены данные по длительности разговора меньше 0.5 минут и больше 0. Такие данные представлены без ошибок. Также для отдельно взятого абонента было проверено наличие звонков с положительной продолжительностью и нулевой. Для такого абонента существуют записи и с нулевой и положительной длительностью разговора. Отсюда можно сделать вывод, что наличие нулей не является ошибкой выгрузки данных, но показывает несостоявшиеся исходящие - собеседник не взял трубку, было занято и т.п.\n",
    "\n",
    "Нулевые значения столбца mb_used датасета internet заменили значением 1. В соответствии с условиями тарифов, любая интернет-сессия округляется в большую сторону. То, что имеется запись о сессии, количество переданных данных в которой равно 0, скорее всего говорит, что сессия была, но данных было передано очень мало. Условия тарификации предполагают округление в большую сторону до мегабайта, поэтому заменили 0 на 1 методом .replace().\n",
    "\n",
    "Полученные данные по количеству минут в наборе звонков и потраченных мегабайт в наборе интернета были представлены в виде десятичных дробей (тип данных float). В предыдущем разделе была проведена замена типа данных на целочисленный (integer). Перед этим данные были округлены в большую сторону до мегабайта методом .ceil() библиотеки numpy.\n",
    "\n",
    "Датасет users содержит пропущенные данные в столбце churn_date - абоненты с пропусками еще имеют действующий договор с оператором, произвели замену на 31.12.2018 для последующих расчетов."
   ]
  },
  {
   "cell_type": "markdown",
   "metadata": {},
   "source": [
    "Произведен рассчет по всему датасету среднего месячного количества звонков за год, дисперсии и стандартного отклонения.\n",
    "\n",
    "\n",
    "Абоненты тарифа __ultra__ не выходят за лимиты по показателям минут и сообщений, однако забирают интернет сверх лимита.\n",
    "\n",
    "\n",
    "Пользователям __smart__ интернета явно не хватает. Очень часто они используют интернет сверх лимита. Также превышают лимит по показателям звонков и СМС.\n",
    "\n",
    "Среднее количество услуг в месяц, удовлетворяющее потребность большинства пользователей по тарифам:\n",
    "\n",
    "\n",
    "Пользователям тарифа smart требуется:\n",
    "  -  минут: до 851\n",
    "  -  сообщений: до 111\n",
    "  -  мегабайт: до 26968\n",
    "  \n",
    "  Пользователям тарифа smart следует предложить тариф с увеличенным лимитом по услугам.\n",
    "\n",
    "Пользователям тарифа ultra требуется:\n",
    "  -  минут: до 1351\n",
    "  -  сообщений: до 191\n",
    "  -  мегабайт: до 44559"
   ]
  },
  {
   "cell_type": "markdown",
   "metadata": {},
   "source": [
    "Всплески потребления приходятся на март, июль и декабрь. Возможно, это связано с праздниками и сезоном отпусков. Либо к концу года в сеть пришли новые абоненты, которые выбрали ее за предоставляемые пакеты услуг и пользуются ими в полной мере."
   ]
  },
  {
   "cell_type": "markdown",
   "metadata": {},
   "source": [
    "Было проверено 2 утверждения:\n",
    "- Средняя выручка пользователей тарифов «Ультра» и «Смарт» различается\n",
    "    - сформулированы гипотезы: __нулевая__ - средняя выручка от абонентов двух тарифов равна; __альтернативная__ - средняя выручка пользователей различается.\n",
    "    \n",
    "  Был проведет Т-тест, методом __scipy.stats.ttest_ind()__ для выборок из двух генеральных совокупностей (тариф smart и тариф ultra). В ходе теста нулевая гипотеза была отвергнута. ___Выручка от абонентов двух разных тарифов различается___.\n",
    "    \n",
    "    \n",
    "- Средняя выручка пользователей из Москвы отличается от выручки пользователей из других регионов\n",
    "  - сформулированы гипотезы: __нулевая__ - средняя выручка от абонентов Москвы и остальных городов равна; __альтернативная__ - средняя выручка различается\n",
    "  \n",
    "  Рассматриваемые выборки - выборки двух генеральных совокупностей (Москва / остальные города), использован метод __scipy.stats.ttest_ind()__. Тест не позволил отвергнуть нулевую гипотезу, следовательно, __выручка пользоватеей из Москвы значимо не отличается от выручки пользователей из других регионов__  "
   ]
  }
 ],
 "metadata": {
  "kernelspec": {
   "display_name": "Python 3",
   "language": "python",
   "name": "python3"
  },
  "language_info": {
   "codemirror_mode": {
    "name": "ipython",
    "version": 3
   },
   "file_extension": ".py",
   "mimetype": "text/x-python",
   "name": "python",
   "nbconvert_exporter": "python",
   "pygments_lexer": "ipython3",
   "version": "3.7.4"
  }
 },
 "nbformat": 4,
 "nbformat_minor": 2
}
