{
 "cells": [
  {
   "cell_type": "markdown",
   "metadata": {},
   "source": [
    "# A/B-тестирование"
   ]
  },
  {
   "cell_type": "markdown",
   "metadata": {},
   "source": [
    "Получены данные проведенного A/B-тестирования рекомендательной системы интернет-магазина. "
   ]
  },
  {
   "cell_type": "markdown",
   "metadata": {},
   "source": [
    "### Цели"
   ]
  },
  {
   "cell_type": "markdown",
   "metadata": {},
   "source": [
    "- проверить корректность проведения теста\n",
    "- проанализировать полученные результаты"
   ]
  },
  {
   "cell_type": "markdown",
   "metadata": {},
   "source": [
    "### Техническое задание"
   ]
  },
  {
   "cell_type": "markdown",
   "metadata": {},
   "source": [
    "- Название теста: `recommender_system_test`;\n",
    "- Группы: А (контрольная), B (новая платежная воронка);\n",
    "- Дата запуска: 2020-12-07\n",
    "- Дата остановки набора новых пользователей: 2020-12-21;\n",
    "- Дата остановки: 2021-01-04\n",
    "- Аудитория: 15% новых пользователей из региона EU;\n",
    "- Назначение теста: тестирование изменений, связанных с внедрением улучшенной рекомендательной системы;\n",
    "- Ожидаемый эффект: за 14 дней с момента регистрации в системе пользователи покажут лучшую конверсию в просмотр карточек товаров (событие `product_page`), просмотр  корзины товаров (событие `product_card`) и покупку (`purchase`). На каждом из шагов воронки `product_page → product_card → purchase` улучшение составит не менее 10%;\n",
    "- Ожидаемое количество участников теста: 6000."
   ]
  },
  {
   "cell_type": "markdown",
   "metadata": {},
   "source": [
    "### Описание данных"
   ]
  },
  {
   "cell_type": "markdown",
   "metadata": {},
   "source": [
    "**`ab_project_marketing_events.csv`** — календарь маркетинговых событий на 2020 год:\n",
    "- `name` — название маркетингового события\n",
    "- `regions` — регионы, в которых будет проводиться рекламная кампания \n",
    "- `start_dt` — дата начала кампании\n",
    "- `finish_dt` — дата завершения кампании\n",
    "\n",
    "\n",
    "**`final_ab_new_users.csv`** — все пользователи, зарегистрировавшиеся в интернет-магазине в период с 7 по 21 декабря 2020 года\n",
    "- `user_id` — уникальный идентификатор пользователя\n",
    "- `first_date` — дата регистрации\n",
    "- `region` — регион, к которому относится пользователь\n",
    "- `device` — устройство, с которого происходила регистрация\n",
    "\n",
    "\n",
    "**`final_ab_events.csv`** — все события новых пользователей в период с 7 декабря 2020 по 4 января 2021 года\n",
    "- `user_id` — уникальный идентификатор пользователя\n",
    "- `event_dt` — дата и время покупки\n",
    "- `event_name` — наименование типа события\n",
    "- `details` — дополнительные данные о событии (Ex. стоимость покупки (USD) для события «покупка» (`purchase`))\n",
    "\n",
    "\n",
    "**`final_ab_participants.csv`** — таблица участников тестов\n",
    "- `user_id` — уникальный идентификатор пользователя\n",
    "- `ab_test` — название теста\n",
    "- `group` — группа, в которой находился пользователь в рамках теста"
   ]
  },
  {
   "cell_type": "markdown",
   "metadata": {},
   "source": [
    "### План"
   ]
  },
  {
   "cell_type": "markdown",
   "metadata": {},
   "source": [
    "1. Исследование данных\n",
    "  - marketing_events\n",
    "  - new_users\n",
    "  - final_events\n",
    "  - final_participants\n",
    "    \n",
    "    \n",
    "2. Исследовательский анализ данных\n",
    "\n",
    "\n",
    "4. Выводы"
   ]
  },
  {
   "cell_type": "markdown",
   "metadata": {},
   "source": [
    "## 1. Исследование данных"
   ]
  },
  {
   "cell_type": "code",
   "execution_count": 1,
   "metadata": {},
   "outputs": [],
   "source": [
    "# импорт библиотек\n",
    "import pandas as pd"
   ]
  },
  {
   "cell_type": "code",
   "execution_count": 2,
   "metadata": {},
   "outputs": [],
   "source": [
    "# загружаем файлы\n",
    "marketing_events = pd.read_csv('datasets/ab_project_marketing_events.csv')\n",
    "new_users = pd.read_csv('datasets/final_ab_new_users.csv')\n",
    "final_events = pd.read_csv('datasets/final_ab_events.csv')\n",
    "final_participants = pd.read_csv('datasets/final_ab_participants.csv')"
   ]
  },
  {
   "cell_type": "markdown",
   "metadata": {},
   "source": [
    "##### - marketing_events"
   ]
  },
  {
   "cell_type": "code",
   "execution_count": 3,
   "metadata": {},
   "outputs": [
    {
     "name": "stdout",
     "output_type": "stream",
     "text": [
      "<class 'pandas.core.frame.DataFrame'>\n",
      "RangeIndex: 14 entries, 0 to 13\n",
      "Data columns (total 4 columns):\n",
      " #   Column     Non-Null Count  Dtype \n",
      "---  ------     --------------  ----- \n",
      " 0   name       14 non-null     object\n",
      " 1   regions    14 non-null     object\n",
      " 2   start_dt   14 non-null     object\n",
      " 3   finish_dt  14 non-null     object\n",
      "dtypes: object(4)\n",
      "memory usage: 576.0+ bytes\n"
     ]
    }
   ],
   "source": [
    "marketing_events.info()"
   ]
  },
  {
   "cell_type": "markdown",
   "metadata": {},
   "source": [
    "Пропуски и дубликаты отсутствуют. Требуется преобразование типов данных в столбцах _start_dt_ и _finish_dt_ в тип даты/времени"
   ]
  },
  {
   "cell_type": "markdown",
   "metadata": {},
   "source": [
    "Выполним преобразование"
   ]
  },
  {
   "cell_type": "code",
   "execution_count": 4,
   "metadata": {},
   "outputs": [],
   "source": [
    "# преобразовываем типы данных\n",
    "for column_name in ['start_dt', 'finish_dt']:\n",
    "    marketing_events[column_name] = pd.to_datetime(marketing_events[column_name])"
   ]
  },
  {
   "cell_type": "markdown",
   "metadata": {},
   "source": [
    "##### - new_users"
   ]
  },
  {
   "cell_type": "code",
   "execution_count": 5,
   "metadata": {},
   "outputs": [
    {
     "name": "stdout",
     "output_type": "stream",
     "text": [
      "<class 'pandas.core.frame.DataFrame'>\n",
      "RangeIndex: 61733 entries, 0 to 61732\n",
      "Data columns (total 4 columns):\n",
      " #   Column      Non-Null Count  Dtype \n",
      "---  ------      --------------  ----- \n",
      " 0   user_id     61733 non-null  object\n",
      " 1   first_date  61733 non-null  object\n",
      " 2   region      61733 non-null  object\n",
      " 3   device      61733 non-null  object\n",
      "dtypes: object(4)\n",
      "memory usage: 1.9+ MB\n"
     ]
    }
   ],
   "source": [
    "new_users.info()"
   ]
  },
  {
   "cell_type": "markdown",
   "metadata": {},
   "source": [
    "Проверим дубликаты в идентификаторах пользователей"
   ]
  },
  {
   "cell_type": "code",
   "execution_count": 6,
   "metadata": {},
   "outputs": [
    {
     "data": {
      "text/plain": [
       "array([False])"
      ]
     },
     "execution_count": 6,
     "metadata": {},
     "output_type": "execute_result"
    }
   ],
   "source": [
    "new_users.duplicated('user_id').unique()"
   ]
  },
  {
   "cell_type": "markdown",
   "metadata": {},
   "source": [
    "Пропуски отсутствуют. Нет задублировавшихся записей о пользователях. Требуется преобразование типов данных в столбце _first_date_ в тип даты/времени"
   ]
  },
  {
   "cell_type": "markdown",
   "metadata": {},
   "source": [
    "Выполним преобразование"
   ]
  },
  {
   "cell_type": "code",
   "execution_count": 7,
   "metadata": {},
   "outputs": [],
   "source": [
    "new_users['first_date'] = pd.to_datetime(new_users['first_date'])"
   ]
  },
  {
   "cell_type": "markdown",
   "metadata": {},
   "source": [
    "##### - final_events"
   ]
  },
  {
   "cell_type": "code",
   "execution_count": 8,
   "metadata": {},
   "outputs": [
    {
     "name": "stdout",
     "output_type": "stream",
     "text": [
      "<class 'pandas.core.frame.DataFrame'>\n",
      "RangeIndex: 440317 entries, 0 to 440316\n",
      "Data columns (total 4 columns):\n",
      " #   Column      Non-Null Count   Dtype  \n",
      "---  ------      --------------   -----  \n",
      " 0   user_id     440317 non-null  object \n",
      " 1   event_dt    440317 non-null  object \n",
      " 2   event_name  440317 non-null  object \n",
      " 3   details     62740 non-null   float64\n",
      "dtypes: float64(1), object(3)\n",
      "memory usage: 13.4+ MB\n"
     ]
    }
   ],
   "source": [
    "final_events.info()"
   ]
  },
  {
   "cell_type": "markdown",
   "metadata": {},
   "source": [
    "Проверим дубликаты в идентификаторах пользователей"
   ]
  },
  {
   "cell_type": "code",
   "execution_count": 9,
   "metadata": {},
   "outputs": [
    {
     "data": {
      "text/plain": [
       "array([False,  True])"
      ]
     },
     "execution_count": 9,
     "metadata": {},
     "output_type": "execute_result"
    }
   ],
   "source": [
    "final_events['user_id'].duplicated().unique()"
   ]
  },
  {
   "cell_type": "markdown",
   "metadata": {},
   "source": [
    "Проверим строки, в которых появляются пропуске в столбце _details_"
   ]
  },
  {
   "cell_type": "code",
   "execution_count": 10,
   "metadata": {},
   "outputs": [
    {
     "data": {
      "text/plain": [
       "array(['product_cart', 'product_page', 'login'], dtype=object)"
      ]
     },
     "execution_count": 10,
     "metadata": {},
     "output_type": "execute_result"
    }
   ],
   "source": [
    "final_events[final_events['details'].isna()]['event_name'].unique()"
   ]
  },
  {
   "cell_type": "markdown",
   "metadata": {},
   "source": [
    "Присутствуют дубликаты пользователей - скорее всего действия совершались в разное время. Полные дубликаты строк отсутствуют\n",
    "\n",
    "Имеются пропуски в столбце _details_. Исходя из анализа, данный столбец предназначен для обозначения суммы покупки\n",
    "\n",
    "Столбец _event_dt_ требует преобразования типов в тип даты/времени"
   ]
  },
  {
   "cell_type": "markdown",
   "metadata": {},
   "source": [
    "Выполним преобразование"
   ]
  },
  {
   "cell_type": "code",
   "execution_count": 11,
   "metadata": {},
   "outputs": [],
   "source": [
    "final_events['event_dt'] = pd.to_datetime(final_events['event_dt'])"
   ]
  },
  {
   "cell_type": "markdown",
   "metadata": {},
   "source": [
    "Найдем первое время совершения каждого действия для каждого пользователя"
   ]
  },
  {
   "cell_type": "code",
   "execution_count": 12,
   "metadata": {},
   "outputs": [],
   "source": [
    "user_first_event = final_events.pivot_table(index=['user_id', 'event_name'], values='event_dt',\n",
    "                                           aggfunc='min').sort_values('event_dt')"
   ]
  },
  {
   "cell_type": "code",
   "execution_count": 13,
   "metadata": {},
   "outputs": [
    {
     "data": {
      "text/html": [
       "<div>\n",
       "<style scoped>\n",
       "    .dataframe tbody tr th:only-of-type {\n",
       "        vertical-align: middle;\n",
       "    }\n",
       "\n",
       "    .dataframe tbody tr th {\n",
       "        vertical-align: top;\n",
       "    }\n",
       "\n",
       "    .dataframe thead th {\n",
       "        text-align: right;\n",
       "    }\n",
       "</style>\n",
       "<table border=\"1\" class=\"dataframe\">\n",
       "  <thead>\n",
       "    <tr style=\"text-align: right;\">\n",
       "      <th></th>\n",
       "      <th></th>\n",
       "      <th>event_dt</th>\n",
       "    </tr>\n",
       "    <tr>\n",
       "      <th>user_id</th>\n",
       "      <th>event_name</th>\n",
       "      <th></th>\n",
       "    </tr>\n",
       "  </thead>\n",
       "  <tbody>\n",
       "    <tr>\n",
       "      <th rowspan=\"3\" valign=\"top\">EB2D1E4A76B38E24</th>\n",
       "      <th>purchase</th>\n",
       "      <td>2020-12-07 00:00:33</td>\n",
       "    </tr>\n",
       "    <tr>\n",
       "      <th>login</th>\n",
       "      <td>2020-12-07 00:00:33</td>\n",
       "    </tr>\n",
       "    <tr>\n",
       "      <th>product_page</th>\n",
       "      <td>2020-12-07 00:00:34</td>\n",
       "    </tr>\n",
       "    <tr>\n",
       "      <th rowspan=\"2\" valign=\"top\">821D82C2BB74CBB2</th>\n",
       "      <th>product_page</th>\n",
       "      <td>2020-12-07 00:00:35</td>\n",
       "    </tr>\n",
       "    <tr>\n",
       "      <th>login</th>\n",
       "      <td>2020-12-07 00:00:35</td>\n",
       "    </tr>\n",
       "    <tr>\n",
       "      <th>CB807128858C6274</th>\n",
       "      <th>login</th>\n",
       "      <td>2020-12-07 00:01:19</td>\n",
       "    </tr>\n",
       "    <tr>\n",
       "      <th rowspan=\"3\" valign=\"top\">7F256CA122A4084C</th>\n",
       "      <th>login</th>\n",
       "      <td>2020-12-07 00:01:37</td>\n",
       "    </tr>\n",
       "    <tr>\n",
       "      <th>product_cart</th>\n",
       "      <td>2020-12-07 00:01:38</td>\n",
       "    </tr>\n",
       "    <tr>\n",
       "      <th>product_page</th>\n",
       "      <td>2020-12-07 00:01:40</td>\n",
       "    </tr>\n",
       "    <tr>\n",
       "      <th rowspan=\"3\" valign=\"top\">E4BF0599D6E802CA</th>\n",
       "      <th>login</th>\n",
       "      <td>2020-12-07 00:02:46</td>\n",
       "    </tr>\n",
       "    <tr>\n",
       "      <th>purchase</th>\n",
       "      <td>2020-12-07 00:02:46</td>\n",
       "    </tr>\n",
       "    <tr>\n",
       "      <th>product_page</th>\n",
       "      <td>2020-12-07 00:02:47</td>\n",
       "    </tr>\n",
       "  </tbody>\n",
       "</table>\n",
       "</div>"
      ],
      "text/plain": [
       "                                         event_dt\n",
       "user_id          event_name                      \n",
       "EB2D1E4A76B38E24 purchase     2020-12-07 00:00:33\n",
       "                 login        2020-12-07 00:00:33\n",
       "                 product_page 2020-12-07 00:00:34\n",
       "821D82C2BB74CBB2 product_page 2020-12-07 00:00:35\n",
       "                 login        2020-12-07 00:00:35\n",
       "CB807128858C6274 login        2020-12-07 00:01:19\n",
       "7F256CA122A4084C login        2020-12-07 00:01:37\n",
       "                 product_cart 2020-12-07 00:01:38\n",
       "                 product_page 2020-12-07 00:01:40\n",
       "E4BF0599D6E802CA login        2020-12-07 00:02:46\n",
       "                 purchase     2020-12-07 00:02:46\n",
       "                 product_page 2020-12-07 00:02:47"
      ]
     },
     "execution_count": 13,
     "metadata": {},
     "output_type": "execute_result"
    }
   ],
   "source": [
    "user_first_event.head(12)"
   ]
  },
  {
   "cell_type": "markdown",
   "metadata": {},
   "source": [
    "Некорректно прописывается тайминг действий - у пользователей часто покупка идет перед показом страницы с корзиной"
   ]
  },
  {
   "cell_type": "markdown",
   "metadata": {},
   "source": [
    "##### - final_participants"
   ]
  },
  {
   "cell_type": "code",
   "execution_count": 14,
   "metadata": {},
   "outputs": [
    {
     "name": "stdout",
     "output_type": "stream",
     "text": [
      "<class 'pandas.core.frame.DataFrame'>\n",
      "RangeIndex: 18268 entries, 0 to 18267\n",
      "Data columns (total 3 columns):\n",
      " #   Column   Non-Null Count  Dtype \n",
      "---  ------   --------------  ----- \n",
      " 0   user_id  18268 non-null  object\n",
      " 1   group    18268 non-null  object\n",
      " 2   ab_test  18268 non-null  object\n",
      "dtypes: object(3)\n",
      "memory usage: 428.3+ KB\n"
     ]
    }
   ],
   "source": [
    "final_participants.info()"
   ]
  },
  {
   "cell_type": "code",
   "execution_count": 15,
   "metadata": {},
   "outputs": [
    {
     "data": {
      "text/plain": [
       "array([False,  True])"
      ]
     },
     "execution_count": 15,
     "metadata": {},
     "output_type": "execute_result"
    }
   ],
   "source": [
    "final_participants['user_id'].duplicated().unique()"
   ]
  },
  {
   "cell_type": "markdown",
   "metadata": {},
   "source": [
    "Имеются дубли в идентификаторах пользователей - такие пользователи участвовали в двух тестах одновременно"
   ]
  },
  {
   "cell_type": "markdown",
   "metadata": {},
   "source": [
    "## 2. Исследовательский анализ данных"
   ]
  },
  {
   "cell_type": "markdown",
   "metadata": {},
   "source": [
    "Необходимо выделить пользователей, которые участвовали только в одном тесте, и разделить их на группы A и B"
   ]
  },
  {
   "cell_type": "code",
   "execution_count": 16,
   "metadata": {},
   "outputs": [],
   "source": [
    "# считаем количество тестов, в которых приял участие пользователь\n",
    "check_for_2_tests = final_participants.groupby('user_id').agg({'ab_test':'count'}).reset_index()\n",
    "\n",
    "# создаем список пользователей, участвовавших в двух тестах\n",
    "users_in_2_tests = check_for_2_tests[check_for_2_tests['ab_test'] == 2]['user_id']"
   ]
  },
  {
   "cell_type": "markdown",
   "metadata": {},
   "source": [
    "Раз пользователи участвовали в двух тестах, то необходимо удалить их из выборки, так как невоозможно сказать, что повлияло на увеличение конверсии - один тест или второй"
   ]
  },
  {
   "cell_type": "code",
   "execution_count": 17,
   "metadata": {},
   "outputs": [],
   "source": [
    "# чистим пользователей из двух тестов и формируем выборку необходимых пользователей\n",
    "clear_final_participants = final_participants\\\n",
    "    .query('user_id not in @users_in_2_tests and ab_test != \"interface_eu_test\"')"
   ]
  },
  {
   "cell_type": "markdown",
   "metadata": {},
   "source": [
    "Разделим выборку на группы теста"
   ]
  },
  {
   "cell_type": "code",
   "execution_count": 18,
   "metadata": {},
   "outputs": [],
   "source": [
    "# A\n",
    "groupA = clear_final_participants.query('group == \"A\"')[['user_id']]\n",
    "\n",
    "# B\n",
    "groupB = clear_final_participants.query('group == \"B\"')[['user_id']]"
   ]
  },
  {
   "cell_type": "markdown",
   "metadata": {},
   "source": [
    "Проверим, не попадают ли пользователи из одной группы в другую"
   ]
  },
  {
   "cell_type": "code",
   "execution_count": 19,
   "metadata": {
    "scrolled": true
   },
   "outputs": [
    {
     "data": {
      "text/html": [
       "<div>\n",
       "<style scoped>\n",
       "    .dataframe tbody tr th:only-of-type {\n",
       "        vertical-align: middle;\n",
       "    }\n",
       "\n",
       "    .dataframe tbody tr th {\n",
       "        vertical-align: top;\n",
       "    }\n",
       "\n",
       "    .dataframe thead th {\n",
       "        text-align: right;\n",
       "    }\n",
       "</style>\n",
       "<table border=\"1\" class=\"dataframe\">\n",
       "  <thead>\n",
       "    <tr style=\"text-align: right;\">\n",
       "      <th></th>\n",
       "      <th>user_id</th>\n",
       "    </tr>\n",
       "  </thead>\n",
       "  <tbody>\n",
       "  </tbody>\n",
       "</table>\n",
       "</div>"
      ],
      "text/plain": [
       "Empty DataFrame\n",
       "Columns: [user_id]\n",
       "Index: []"
      ]
     },
     "execution_count": 19,
     "metadata": {},
     "output_type": "execute_result"
    }
   ],
   "source": [
    "groupA.merge(groupB, on='user_id')"
   ]
  },
  {
   "cell_type": "markdown",
   "metadata": {},
   "source": [
    "Разделение на группы происходит верно"
   ]
  },
  {
   "cell_type": "markdown",
   "metadata": {},
   "source": [
    "По техническому заданию, пользователи за 14 дней с момента регистрации показать увеличение конверсии. Тест начался 7.12, а 25.12 была проведена маркетинговая акция. Поэтому, примем гипотезу, что на пользователей после определенной даты может повлиять акция. Отделим таких пользователей. Выберем дату X - 24.12. С учетом условия о 14-ти днях, пользователи должны зарегистрироваться до 11.12 включительно, чтобы не попасть под влияние рождественской акции\n",
    "\n",
    "Также, это должны быть пользователи из Евросоюза\n",
    "\n",
    "Выделим таких пользователей"
   ]
  },
  {
   "cell_type": "code",
   "execution_count": 20,
   "metadata": {},
   "outputs": [],
   "source": [
    "checked_new_users = new_users.query('region == \"EU\" & first_date <= \"2020-12-11\"')"
   ]
  },
  {
   "cell_type": "markdown",
   "metadata": {},
   "source": [
    "Найдем пользователей, принявших участие в тесте и удовлетворяющих нашим условиям"
   ]
  },
  {
   "cell_type": "code",
   "execution_count": 21,
   "metadata": {},
   "outputs": [],
   "source": [
    "# A\n",
    "groupA_clear = groupA.query('user_id in @checked_new_users.user_id')\n",
    "\n",
    "# B\n",
    "groupB_clear = groupB.query('user_id in @checked_new_users.user_id')"
   ]
  },
  {
   "cell_type": "markdown",
   "metadata": {},
   "source": [
    "Сравним выборки"
   ]
  },
  {
   "cell_type": "code",
   "execution_count": 22,
   "metadata": {},
   "outputs": [
    {
     "name": "stdout",
     "output_type": "stream",
     "text": [
      "Размер группы A: 749\n",
      "Размер группы B: 591\n",
      "\n",
      "Отличие группы B от A: 21%\n"
     ]
    }
   ],
   "source": [
    "print('Размер группы A:', groupA_clear.shape[0])\n",
    "print('Размер группы B:', groupB_clear.shape[0])\n",
    "print()\n",
    "print('Отличие группы B от A: {:.0%}'.format(abs(groupB_clear.shape[0] / groupA_clear.shape[0] - 1)))"
   ]
  },
  {
   "cell_type": "markdown",
   "metadata": {},
   "source": [
    "Разница в долях очень большая для правильной интерпретации результатов теста\n",
    "\n",
    "\n",
    "Считаю продолжение анализа нецелесообразным"
   ]
  },
  {
   "cell_type": "markdown",
   "metadata": {},
   "source": [
    "## 3. Вывод"
   ]
  },
  {
   "cell_type": "markdown",
   "metadata": {},
   "source": [
    "Считаю дальнейшее продолжение анализа нецелесообразным:\n",
    "\n",
    "\n",
    "  1. Неверно выбрано время проведения теста:\n",
    "    - магазин иностранный, тест проводят на пользователях из Евросоюза. Это значит, что в декабре будет подъем спроса на покупки из-за Рождества 25.12. Следовательно, сказать с уверенностью, что повлияло на увеличение конверсии - новая система рекомендаций или праздники - невозможно\n",
    "    - 25.12 был проведен маркетинговый ивент, который также направлен на привлечение пользователей и скорее всего повлиял на увеличение конверсии\n",
    "    \n",
    "    \n",
    "  2. Неверное логирование событий:\n",
    "    - часто покупка происходит раньше, чем просмотр корзины\n",
    "    \n",
    "    \n",
    "  3. Участие одних и тех же пользователей в разных тестах (recommender_system_test и interface_eu_test). Очевидно, на таких пользователей могли повлиять и изменения интерфейса и системы рекомендаций\n",
    "\n",
    "\n",
    "  3. Отсутствие проведенного A/A теста для проверки правильности деления на группы и распределения траффика\n",
    "  \n",
    "  \n",
    "  4. Некорректное деление трафика между группой A и B:\n",
    "    - различие между долями составляет 21%\n",
    "    \n",
    "\n",
    "Основываясь на вышесказанном, предлагаю признать тест некорректным и непоказательным. Дальнейшая проработка и интерпретация результатов повлечет за собой неправильные выводы, которые могут привести к неправильным решениям"
   ]
  }
 ],
 "metadata": {
  "kernelspec": {
   "display_name": "Python 3",
   "language": "python",
   "name": "python3"
  },
  "language_info": {
   "codemirror_mode": {
    "name": "ipython",
    "version": 3
   },
   "file_extension": ".py",
   "mimetype": "text/x-python",
   "name": "python",
   "nbconvert_exporter": "python",
   "pygments_lexer": "ipython3",
   "version": "3.7.7"
  }
 },
 "nbformat": 4,
 "nbformat_minor": 2
}
